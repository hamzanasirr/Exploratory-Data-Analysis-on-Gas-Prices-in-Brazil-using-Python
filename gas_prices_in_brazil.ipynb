{
 "cells": [
  {
   "cell_type": "markdown",
   "metadata": {},
   "source": [
    "# Information from Kaggle"
   ]
  },
  {
   "cell_type": "markdown",
   "metadata": {},
   "source": [
    "The following information is directly copied from this dataset's <a href='https://www.kaggle.com/matheusfreitag/gas-prices-in-brazil' target='_blank'>Kaggle Page</a>."
   ]
  },
  {
   "cell_type": "markdown",
   "metadata": {},
   "source": [
    "<h2>The Data</h2>\n",
    "\n",
    "<p>The National Agency of Petroleum, Natural Gas and Bio fuels (<em>ANP</em> in Portuguese) releases weekly reports of gas, diesel and other fuels prices used in transportation across the country. These datasets bring the mean value per liter, number of gas stations analyzed and other information grouped by regions and states across the country.</p>\n",
    "\n",
    "<h2>Source</h2>\n",
    "\n",
    "<p>As stated before, these datasets are provided by ANP, and are regularly updated with new dates and information - which can be retrieved <a href=\"http://www.anp.gov.br/precos-e-defesa-da-concorrencia/precos/levantamento-de-precos/serie-historica-do-levantamento-de-precos-e-de-margens-de-comercializacao-de-combustiveis\" rel=\"nofollow\">here</a> (in portuguese).</p>\n",
    "\n",
    "<h2>What can be done with this?</h2>\n",
    "\n",
    "<ul>\n",
    "<li>How different regions of Brazil saw their gas prices change?</li>\n",
    "<li>Within a region, which states increased more their prices?</li>\n",
    "<li>Which states are the cheapest (or most expensive) for different types of fuels?</li>\n",
    "</ul>"
   ]
  },
  {
   "cell_type": "markdown",
   "metadata": {},
   "source": [
    "<a href='https://www.kaggle.com/matheusfreitag/gas-prices-in-brazil' target='_blank'>Kaggle Link</a>"
   ]
  },
  {
   "cell_type": "markdown",
   "metadata": {},
   "source": [
    "# Importing the libraries"
   ]
  },
  {
   "cell_type": "code",
   "execution_count": 1,
   "metadata": {
    "ExecuteTime": {
     "end_time": "2019-09-05T14:08:45.366953Z",
     "start_time": "2019-09-05T14:08:41.583323Z"
    }
   },
   "outputs": [],
   "source": [
    "# Importing the libraries\n",
    "import pandas as pd\n",
    "import numpy as np\n",
    "import matplotlib.pyplot as plt\n",
    "import seaborn as sns\n",
    "import warnings\n",
    "\n",
    "%matplotlib inline\n",
    "sns.set()\n",
    "\n",
    "# Ignoring warnings\n",
    "warnings.simplefilter('ignore')"
   ]
  },
  {
   "cell_type": "markdown",
   "metadata": {},
   "source": [
    "Loading the dataset into a pandas dataframe."
   ]
  },
  {
   "cell_type": "code",
   "execution_count": 2,
   "metadata": {
    "ExecuteTime": {
     "end_time": "2019-09-05T14:08:46.388074Z",
     "start_time": "2019-09-05T14:08:45.366953Z"
    }
   },
   "outputs": [
    {
     "data": {
      "text/html": [
       "<div>\n",
       "<style scoped>\n",
       "    .dataframe tbody tr th:only-of-type {\n",
       "        vertical-align: middle;\n",
       "    }\n",
       "\n",
       "    .dataframe tbody tr th {\n",
       "        vertical-align: top;\n",
       "    }\n",
       "\n",
       "    .dataframe thead th {\n",
       "        text-align: right;\n",
       "    }\n",
       "</style>\n",
       "<table border=\"1\" class=\"dataframe\">\n",
       "  <thead>\n",
       "    <tr style=\"text-align: right;\">\n",
       "      <th></th>\n",
       "      <th>Unnamed: 0</th>\n",
       "      <th>DATA INICIAL</th>\n",
       "      <th>DATA FINAL</th>\n",
       "      <th>REGIÃO</th>\n",
       "      <th>ESTADO</th>\n",
       "      <th>PRODUTO</th>\n",
       "      <th>NÚMERO DE POSTOS PESQUISADOS</th>\n",
       "      <th>UNIDADE DE MEDIDA</th>\n",
       "      <th>PREÇO MÉDIO REVENDA</th>\n",
       "      <th>DESVIO PADRÃO REVENDA</th>\n",
       "      <th>...</th>\n",
       "      <th>PREÇO MÁXIMO REVENDA</th>\n",
       "      <th>MARGEM MÉDIA REVENDA</th>\n",
       "      <th>COEF DE VARIAÇÃO REVENDA</th>\n",
       "      <th>PREÇO MÉDIO DISTRIBUIÇÃO</th>\n",
       "      <th>DESVIO PADRÃO DISTRIBUIÇÃO</th>\n",
       "      <th>PREÇO MÍNIMO DISTRIBUIÇÃO</th>\n",
       "      <th>PREÇO MÁXIMO DISTRIBUIÇÃO</th>\n",
       "      <th>COEF DE VARIAÇÃO DISTRIBUIÇÃO</th>\n",
       "      <th>MÊS</th>\n",
       "      <th>ANO</th>\n",
       "    </tr>\n",
       "  </thead>\n",
       "  <tbody>\n",
       "    <tr>\n",
       "      <th>0</th>\n",
       "      <td>0</td>\n",
       "      <td>2004-05-09</td>\n",
       "      <td>2004-05-15</td>\n",
       "      <td>CENTRO OESTE</td>\n",
       "      <td>DISTRITO FEDERAL</td>\n",
       "      <td>ETANOL HIDRATADO</td>\n",
       "      <td>127</td>\n",
       "      <td>R$/l</td>\n",
       "      <td>1.288</td>\n",
       "      <td>0.016</td>\n",
       "      <td>...</td>\n",
       "      <td>1.350</td>\n",
       "      <td>0.463</td>\n",
       "      <td>0.012</td>\n",
       "      <td>0.825</td>\n",
       "      <td>0.11</td>\n",
       "      <td>0.4201</td>\n",
       "      <td>0.9666</td>\n",
       "      <td>0.133</td>\n",
       "      <td>5</td>\n",
       "      <td>2004</td>\n",
       "    </tr>\n",
       "    <tr>\n",
       "      <th>1</th>\n",
       "      <td>1</td>\n",
       "      <td>2004-05-09</td>\n",
       "      <td>2004-05-15</td>\n",
       "      <td>CENTRO OESTE</td>\n",
       "      <td>GOIAS</td>\n",
       "      <td>ETANOL HIDRATADO</td>\n",
       "      <td>387</td>\n",
       "      <td>R$/l</td>\n",
       "      <td>1.162</td>\n",
       "      <td>0.114</td>\n",
       "      <td>...</td>\n",
       "      <td>1.449</td>\n",
       "      <td>0.399</td>\n",
       "      <td>0.098</td>\n",
       "      <td>0.763</td>\n",
       "      <td>0.088</td>\n",
       "      <td>0.5013</td>\n",
       "      <td>1.05</td>\n",
       "      <td>0.115</td>\n",
       "      <td>5</td>\n",
       "      <td>2004</td>\n",
       "    </tr>\n",
       "    <tr>\n",
       "      <th>2</th>\n",
       "      <td>2</td>\n",
       "      <td>2004-05-09</td>\n",
       "      <td>2004-05-15</td>\n",
       "      <td>CENTRO OESTE</td>\n",
       "      <td>MATO GROSSO</td>\n",
       "      <td>ETANOL HIDRATADO</td>\n",
       "      <td>192</td>\n",
       "      <td>R$/l</td>\n",
       "      <td>1.389</td>\n",
       "      <td>0.097</td>\n",
       "      <td>...</td>\n",
       "      <td>1.760</td>\n",
       "      <td>0.419</td>\n",
       "      <td>0.070</td>\n",
       "      <td>0.97</td>\n",
       "      <td>0.095</td>\n",
       "      <td>0.5614</td>\n",
       "      <td>1.161</td>\n",
       "      <td>0.098</td>\n",
       "      <td>5</td>\n",
       "      <td>2004</td>\n",
       "    </tr>\n",
       "    <tr>\n",
       "      <th>3</th>\n",
       "      <td>3</td>\n",
       "      <td>2004-05-09</td>\n",
       "      <td>2004-05-15</td>\n",
       "      <td>CENTRO OESTE</td>\n",
       "      <td>MATO GROSSO DO SUL</td>\n",
       "      <td>ETANOL HIDRATADO</td>\n",
       "      <td>162</td>\n",
       "      <td>R$/l</td>\n",
       "      <td>1.262</td>\n",
       "      <td>0.070</td>\n",
       "      <td>...</td>\n",
       "      <td>1.509</td>\n",
       "      <td>0.432</td>\n",
       "      <td>0.055</td>\n",
       "      <td>0.83</td>\n",
       "      <td>0.119</td>\n",
       "      <td>0.5991</td>\n",
       "      <td>1.22242</td>\n",
       "      <td>0.143</td>\n",
       "      <td>5</td>\n",
       "      <td>2004</td>\n",
       "    </tr>\n",
       "    <tr>\n",
       "      <th>4</th>\n",
       "      <td>4</td>\n",
       "      <td>2004-05-09</td>\n",
       "      <td>2004-05-15</td>\n",
       "      <td>NORDESTE</td>\n",
       "      <td>ALAGOAS</td>\n",
       "      <td>ETANOL HIDRATADO</td>\n",
       "      <td>103</td>\n",
       "      <td>R$/l</td>\n",
       "      <td>1.181</td>\n",
       "      <td>0.078</td>\n",
       "      <td>...</td>\n",
       "      <td>1.400</td>\n",
       "      <td>0.24</td>\n",
       "      <td>0.066</td>\n",
       "      <td>0.941</td>\n",
       "      <td>0.077</td>\n",
       "      <td>0.7441</td>\n",
       "      <td>1.0317</td>\n",
       "      <td>0.082</td>\n",
       "      <td>5</td>\n",
       "      <td>2004</td>\n",
       "    </tr>\n",
       "  </tbody>\n",
       "</table>\n",
       "<p>5 rows × 21 columns</p>\n",
       "</div>"
      ],
      "text/plain": [
       "   Unnamed: 0 DATA INICIAL DATA FINAL        REGIÃO              ESTADO  \\\n",
       "0           0   2004-05-09 2004-05-15  CENTRO OESTE    DISTRITO FEDERAL   \n",
       "1           1   2004-05-09 2004-05-15  CENTRO OESTE               GOIAS   \n",
       "2           2   2004-05-09 2004-05-15  CENTRO OESTE         MATO GROSSO   \n",
       "3           3   2004-05-09 2004-05-15  CENTRO OESTE  MATO GROSSO DO SUL   \n",
       "4           4   2004-05-09 2004-05-15      NORDESTE             ALAGOAS   \n",
       "\n",
       "            PRODUTO  NÚMERO DE POSTOS PESQUISADOS UNIDADE DE MEDIDA  \\\n",
       "0  ETANOL HIDRATADO                           127              R$/l   \n",
       "1  ETANOL HIDRATADO                           387              R$/l   \n",
       "2  ETANOL HIDRATADO                           192              R$/l   \n",
       "3  ETANOL HIDRATADO                           162              R$/l   \n",
       "4  ETANOL HIDRATADO                           103              R$/l   \n",
       "\n",
       "   PREÇO MÉDIO REVENDA  DESVIO PADRÃO REVENDA  ...   PREÇO MÁXIMO REVENDA  \\\n",
       "0                1.288                  0.016  ...                  1.350   \n",
       "1                1.162                  0.114  ...                  1.449   \n",
       "2                1.389                  0.097  ...                  1.760   \n",
       "3                1.262                  0.070  ...                  1.509   \n",
       "4                1.181                  0.078  ...                  1.400   \n",
       "\n",
       "   MARGEM MÉDIA REVENDA COEF DE VARIAÇÃO REVENDA  PREÇO MÉDIO DISTRIBUIÇÃO  \\\n",
       "0                 0.463                    0.012                     0.825   \n",
       "1                 0.399                    0.098                     0.763   \n",
       "2                 0.419                    0.070                      0.97   \n",
       "3                 0.432                    0.055                      0.83   \n",
       "4                  0.24                    0.066                     0.941   \n",
       "\n",
       "  DESVIO PADRÃO DISTRIBUIÇÃO PREÇO MÍNIMO DISTRIBUIÇÃO  \\\n",
       "0                       0.11                    0.4201   \n",
       "1                      0.088                    0.5013   \n",
       "2                      0.095                    0.5614   \n",
       "3                      0.119                    0.5991   \n",
       "4                      0.077                    0.7441   \n",
       "\n",
       "  PREÇO MÁXIMO DISTRIBUIÇÃO COEF DE VARIAÇÃO DISTRIBUIÇÃO MÊS   ANO  \n",
       "0                    0.9666                         0.133   5  2004  \n",
       "1                      1.05                         0.115   5  2004  \n",
       "2                     1.161                         0.098   5  2004  \n",
       "3                   1.22242                         0.143   5  2004  \n",
       "4                    1.0317                         0.082   5  2004  \n",
       "\n",
       "[5 rows x 21 columns]"
      ]
     },
     "execution_count": 2,
     "metadata": {},
     "output_type": "execute_result"
    }
   ],
   "source": [
    "data = pd.read_table('2004-2019.tsv', parse_dates=[1, 2])\n",
    "df = data.copy()\n",
    "\n",
    "df.head()"
   ]
  },
  {
   "cell_type": "markdown",
   "metadata": {},
   "source": [
    "# Data Wrangling"
   ]
  },
  {
   "cell_type": "markdown",
   "metadata": {},
   "source": [
    "## Deleting the unneccesary column \"Unnamed: 0\""
   ]
  },
  {
   "cell_type": "code",
   "execution_count": 3,
   "metadata": {
    "ExecuteTime": {
     "end_time": "2019-09-05T14:08:46.431957Z",
     "start_time": "2019-09-05T14:08:46.390069Z"
    }
   },
   "outputs": [
    {
     "data": {
      "text/html": [
       "<div>\n",
       "<style scoped>\n",
       "    .dataframe tbody tr th:only-of-type {\n",
       "        vertical-align: middle;\n",
       "    }\n",
       "\n",
       "    .dataframe tbody tr th {\n",
       "        vertical-align: top;\n",
       "    }\n",
       "\n",
       "    .dataframe thead th {\n",
       "        text-align: right;\n",
       "    }\n",
       "</style>\n",
       "<table border=\"1\" class=\"dataframe\">\n",
       "  <thead>\n",
       "    <tr style=\"text-align: right;\">\n",
       "      <th></th>\n",
       "      <th>DATA INICIAL</th>\n",
       "      <th>DATA FINAL</th>\n",
       "      <th>REGIÃO</th>\n",
       "      <th>ESTADO</th>\n",
       "      <th>PRODUTO</th>\n",
       "      <th>NÚMERO DE POSTOS PESQUISADOS</th>\n",
       "      <th>UNIDADE DE MEDIDA</th>\n",
       "      <th>PREÇO MÉDIO REVENDA</th>\n",
       "      <th>DESVIO PADRÃO REVENDA</th>\n",
       "      <th>PREÇO MÍNIMO REVENDA</th>\n",
       "      <th>PREÇO MÁXIMO REVENDA</th>\n",
       "      <th>MARGEM MÉDIA REVENDA</th>\n",
       "      <th>COEF DE VARIAÇÃO REVENDA</th>\n",
       "      <th>PREÇO MÉDIO DISTRIBUIÇÃO</th>\n",
       "      <th>DESVIO PADRÃO DISTRIBUIÇÃO</th>\n",
       "      <th>PREÇO MÍNIMO DISTRIBUIÇÃO</th>\n",
       "      <th>PREÇO MÁXIMO DISTRIBUIÇÃO</th>\n",
       "      <th>COEF DE VARIAÇÃO DISTRIBUIÇÃO</th>\n",
       "      <th>MÊS</th>\n",
       "      <th>ANO</th>\n",
       "    </tr>\n",
       "  </thead>\n",
       "  <tbody>\n",
       "    <tr>\n",
       "      <th>0</th>\n",
       "      <td>2004-05-09</td>\n",
       "      <td>2004-05-15</td>\n",
       "      <td>CENTRO OESTE</td>\n",
       "      <td>DISTRITO FEDERAL</td>\n",
       "      <td>ETANOL HIDRATADO</td>\n",
       "      <td>127</td>\n",
       "      <td>R$/l</td>\n",
       "      <td>1.288</td>\n",
       "      <td>0.016</td>\n",
       "      <td>1.19</td>\n",
       "      <td>1.350</td>\n",
       "      <td>0.463</td>\n",
       "      <td>0.012</td>\n",
       "      <td>0.825</td>\n",
       "      <td>0.11</td>\n",
       "      <td>0.4201</td>\n",
       "      <td>0.9666</td>\n",
       "      <td>0.133</td>\n",
       "      <td>5</td>\n",
       "      <td>2004</td>\n",
       "    </tr>\n",
       "    <tr>\n",
       "      <th>1</th>\n",
       "      <td>2004-05-09</td>\n",
       "      <td>2004-05-15</td>\n",
       "      <td>CENTRO OESTE</td>\n",
       "      <td>GOIAS</td>\n",
       "      <td>ETANOL HIDRATADO</td>\n",
       "      <td>387</td>\n",
       "      <td>R$/l</td>\n",
       "      <td>1.162</td>\n",
       "      <td>0.114</td>\n",
       "      <td>0.89</td>\n",
       "      <td>1.449</td>\n",
       "      <td>0.399</td>\n",
       "      <td>0.098</td>\n",
       "      <td>0.763</td>\n",
       "      <td>0.088</td>\n",
       "      <td>0.5013</td>\n",
       "      <td>1.05</td>\n",
       "      <td>0.115</td>\n",
       "      <td>5</td>\n",
       "      <td>2004</td>\n",
       "    </tr>\n",
       "    <tr>\n",
       "      <th>2</th>\n",
       "      <td>2004-05-09</td>\n",
       "      <td>2004-05-15</td>\n",
       "      <td>CENTRO OESTE</td>\n",
       "      <td>MATO GROSSO</td>\n",
       "      <td>ETANOL HIDRATADO</td>\n",
       "      <td>192</td>\n",
       "      <td>R$/l</td>\n",
       "      <td>1.389</td>\n",
       "      <td>0.097</td>\n",
       "      <td>1.18</td>\n",
       "      <td>1.760</td>\n",
       "      <td>0.419</td>\n",
       "      <td>0.070</td>\n",
       "      <td>0.97</td>\n",
       "      <td>0.095</td>\n",
       "      <td>0.5614</td>\n",
       "      <td>1.161</td>\n",
       "      <td>0.098</td>\n",
       "      <td>5</td>\n",
       "      <td>2004</td>\n",
       "    </tr>\n",
       "    <tr>\n",
       "      <th>3</th>\n",
       "      <td>2004-05-09</td>\n",
       "      <td>2004-05-15</td>\n",
       "      <td>CENTRO OESTE</td>\n",
       "      <td>MATO GROSSO DO SUL</td>\n",
       "      <td>ETANOL HIDRATADO</td>\n",
       "      <td>162</td>\n",
       "      <td>R$/l</td>\n",
       "      <td>1.262</td>\n",
       "      <td>0.070</td>\n",
       "      <td>1.09</td>\n",
       "      <td>1.509</td>\n",
       "      <td>0.432</td>\n",
       "      <td>0.055</td>\n",
       "      <td>0.83</td>\n",
       "      <td>0.119</td>\n",
       "      <td>0.5991</td>\n",
       "      <td>1.22242</td>\n",
       "      <td>0.143</td>\n",
       "      <td>5</td>\n",
       "      <td>2004</td>\n",
       "    </tr>\n",
       "    <tr>\n",
       "      <th>4</th>\n",
       "      <td>2004-05-09</td>\n",
       "      <td>2004-05-15</td>\n",
       "      <td>NORDESTE</td>\n",
       "      <td>ALAGOAS</td>\n",
       "      <td>ETANOL HIDRATADO</td>\n",
       "      <td>103</td>\n",
       "      <td>R$/l</td>\n",
       "      <td>1.181</td>\n",
       "      <td>0.078</td>\n",
       "      <td>1.05</td>\n",
       "      <td>1.400</td>\n",
       "      <td>0.24</td>\n",
       "      <td>0.066</td>\n",
       "      <td>0.941</td>\n",
       "      <td>0.077</td>\n",
       "      <td>0.7441</td>\n",
       "      <td>1.0317</td>\n",
       "      <td>0.082</td>\n",
       "      <td>5</td>\n",
       "      <td>2004</td>\n",
       "    </tr>\n",
       "  </tbody>\n",
       "</table>\n",
       "</div>"
      ],
      "text/plain": [
       "  DATA INICIAL DATA FINAL        REGIÃO              ESTADO           PRODUTO  \\\n",
       "0   2004-05-09 2004-05-15  CENTRO OESTE    DISTRITO FEDERAL  ETANOL HIDRATADO   \n",
       "1   2004-05-09 2004-05-15  CENTRO OESTE               GOIAS  ETANOL HIDRATADO   \n",
       "2   2004-05-09 2004-05-15  CENTRO OESTE         MATO GROSSO  ETANOL HIDRATADO   \n",
       "3   2004-05-09 2004-05-15  CENTRO OESTE  MATO GROSSO DO SUL  ETANOL HIDRATADO   \n",
       "4   2004-05-09 2004-05-15      NORDESTE             ALAGOAS  ETANOL HIDRATADO   \n",
       "\n",
       "   NÚMERO DE POSTOS PESQUISADOS UNIDADE DE MEDIDA  PREÇO MÉDIO REVENDA  \\\n",
       "0                           127              R$/l                1.288   \n",
       "1                           387              R$/l                1.162   \n",
       "2                           192              R$/l                1.389   \n",
       "3                           162              R$/l                1.262   \n",
       "4                           103              R$/l                1.181   \n",
       "\n",
       "   DESVIO PADRÃO REVENDA  PREÇO MÍNIMO REVENDA  PREÇO MÁXIMO REVENDA  \\\n",
       "0                  0.016                  1.19                 1.350   \n",
       "1                  0.114                  0.89                 1.449   \n",
       "2                  0.097                  1.18                 1.760   \n",
       "3                  0.070                  1.09                 1.509   \n",
       "4                  0.078                  1.05                 1.400   \n",
       "\n",
       "  MARGEM MÉDIA REVENDA  COEF DE VARIAÇÃO REVENDA PREÇO MÉDIO DISTRIBUIÇÃO  \\\n",
       "0                0.463                     0.012                    0.825   \n",
       "1                0.399                     0.098                    0.763   \n",
       "2                0.419                     0.070                     0.97   \n",
       "3                0.432                     0.055                     0.83   \n",
       "4                 0.24                     0.066                    0.941   \n",
       "\n",
       "  DESVIO PADRÃO DISTRIBUIÇÃO PREÇO MÍNIMO DISTRIBUIÇÃO  \\\n",
       "0                       0.11                    0.4201   \n",
       "1                      0.088                    0.5013   \n",
       "2                      0.095                    0.5614   \n",
       "3                      0.119                    0.5991   \n",
       "4                      0.077                    0.7441   \n",
       "\n",
       "  PREÇO MÁXIMO DISTRIBUIÇÃO COEF DE VARIAÇÃO DISTRIBUIÇÃO  MÊS   ANO  \n",
       "0                    0.9666                         0.133    5  2004  \n",
       "1                      1.05                         0.115    5  2004  \n",
       "2                     1.161                         0.098    5  2004  \n",
       "3                   1.22242                         0.143    5  2004  \n",
       "4                    1.0317                         0.082    5  2004  "
      ]
     },
     "execution_count": 3,
     "metadata": {},
     "output_type": "execute_result"
    }
   ],
   "source": [
    "df.drop(axis=1, columns=['Unnamed: 0'], inplace=True)\n",
    "df.head()"
   ]
  },
  {
   "cell_type": "markdown",
   "metadata": {},
   "source": [
    "## Renaming the column names from portuguese to English"
   ]
  },
  {
   "cell_type": "code",
   "execution_count": 4,
   "metadata": {
    "ExecuteTime": {
     "end_time": "2019-09-05T14:08:46.447913Z",
     "start_time": "2019-09-05T14:08:46.433950Z"
    }
   },
   "outputs": [
    {
     "data": {
      "text/plain": [
       "['DATA INICIAL',\n",
       " 'DATA FINAL',\n",
       " 'REGIÃO',\n",
       " 'ESTADO',\n",
       " 'PRODUTO',\n",
       " 'NÚMERO DE POSTOS PESQUISADOS',\n",
       " 'UNIDADE DE MEDIDA',\n",
       " 'PREÇO MÉDIO REVENDA',\n",
       " 'DESVIO PADRÃO REVENDA',\n",
       " 'PREÇO MÍNIMO REVENDA',\n",
       " 'PREÇO MÁXIMO REVENDA',\n",
       " 'MARGEM MÉDIA REVENDA',\n",
       " 'COEF DE VARIAÇÃO REVENDA',\n",
       " 'PREÇO MÉDIO DISTRIBUIÇÃO',\n",
       " 'DESVIO PADRÃO DISTRIBUIÇÃO',\n",
       " 'PREÇO MÍNIMO DISTRIBUIÇÃO',\n",
       " 'PREÇO MÁXIMO DISTRIBUIÇÃO',\n",
       " 'COEF DE VARIAÇÃO DISTRIBUIÇÃO',\n",
       " 'MÊS',\n",
       " 'ANO']"
      ]
     },
     "execution_count": 4,
     "metadata": {},
     "output_type": "execute_result"
    }
   ],
   "source": [
    "list(df.columns)"
   ]
  },
  {
   "cell_type": "code",
   "execution_count": 5,
   "metadata": {
    "ExecuteTime": {
     "end_time": "2019-09-05T14:08:46.464870Z",
     "start_time": "2019-09-05T14:08:46.449908Z"
    }
   },
   "outputs": [
    {
     "data": {
      "text/plain": [
       "['analysis_first_day',\n",
       " 'analysis_last_day',\n",
       " 'macro_region',\n",
       " 'state',\n",
       " 'product_kind',\n",
       " 'no_gas_stations_analyzed',\n",
       " 'measurement_unit',\n",
       " 'avg_price',\n",
       " 'std',\n",
       " 'min_price_observed',\n",
       " 'max_price_observed',\n",
       " 'mean_price_margin',\n",
       " 'coefficient_of_variation',\n",
       " 'mean_distribution_price',\n",
       " 'distribution_std',\n",
       " 'distribution_min_price',\n",
       " 'distribution_max_price',\n",
       " 'distribution_coefficient_of_variation',\n",
       " 'month',\n",
       " 'year']"
      ]
     },
     "execution_count": 5,
     "metadata": {},
     "output_type": "execute_result"
    }
   ],
   "source": [
    "new_column_names = [\n",
    "    'analysis_first_day',\n",
    "    'analysis_last_day',\n",
    "    'macro_region',\n",
    "    'state',\n",
    "    'product_kind',\n",
    "    'no_gas_stations_analyzed',\n",
    "    'measurement_unit',\n",
    "    'avg_price',\n",
    "    'std',\n",
    "    'min_price_observed',\n",
    "    'max_price_observed',\n",
    "    'mean_price_margin',\n",
    "    'coefficient_of_variation',\n",
    "    'mean_distribution_price',\n",
    "    'distribution_std',\n",
    "    'distribution_min_price',\n",
    "    'distribution_max_price',\n",
    "    'distribution_coefficient_of_variation',\n",
    "    'month',\n",
    "    'year'\n",
    "]\n",
    "\n",
    "df.columns = new_column_names\n",
    "list(df.columns)"
   ]
  },
  {
   "cell_type": "code",
   "execution_count": 6,
   "metadata": {
    "ExecuteTime": {
     "end_time": "2019-09-05T14:08:46.505760Z",
     "start_time": "2019-09-05T14:08:46.467862Z"
    }
   },
   "outputs": [
    {
     "data": {
      "text/html": [
       "<div>\n",
       "<style scoped>\n",
       "    .dataframe tbody tr th:only-of-type {\n",
       "        vertical-align: middle;\n",
       "    }\n",
       "\n",
       "    .dataframe tbody tr th {\n",
       "        vertical-align: top;\n",
       "    }\n",
       "\n",
       "    .dataframe thead th {\n",
       "        text-align: right;\n",
       "    }\n",
       "</style>\n",
       "<table border=\"1\" class=\"dataframe\">\n",
       "  <thead>\n",
       "    <tr style=\"text-align: right;\">\n",
       "      <th></th>\n",
       "      <th>analysis_first_day</th>\n",
       "      <th>analysis_last_day</th>\n",
       "      <th>macro_region</th>\n",
       "      <th>state</th>\n",
       "      <th>product_kind</th>\n",
       "      <th>no_gas_stations_analyzed</th>\n",
       "      <th>measurement_unit</th>\n",
       "      <th>avg_price</th>\n",
       "      <th>std</th>\n",
       "      <th>min_price_observed</th>\n",
       "      <th>max_price_observed</th>\n",
       "      <th>mean_price_margin</th>\n",
       "      <th>coefficient_of_variation</th>\n",
       "      <th>mean_distribution_price</th>\n",
       "      <th>distribution_std</th>\n",
       "      <th>distribution_min_price</th>\n",
       "      <th>distribution_max_price</th>\n",
       "      <th>distribution_coefficient_of_variation</th>\n",
       "      <th>month</th>\n",
       "      <th>year</th>\n",
       "    </tr>\n",
       "  </thead>\n",
       "  <tbody>\n",
       "    <tr>\n",
       "      <th>0</th>\n",
       "      <td>2004-05-09</td>\n",
       "      <td>2004-05-15</td>\n",
       "      <td>CENTRO OESTE</td>\n",
       "      <td>DISTRITO FEDERAL</td>\n",
       "      <td>ETANOL HIDRATADO</td>\n",
       "      <td>127</td>\n",
       "      <td>R$/l</td>\n",
       "      <td>1.288</td>\n",
       "      <td>0.016</td>\n",
       "      <td>1.19</td>\n",
       "      <td>1.350</td>\n",
       "      <td>0.463</td>\n",
       "      <td>0.012</td>\n",
       "      <td>0.825</td>\n",
       "      <td>0.11</td>\n",
       "      <td>0.4201</td>\n",
       "      <td>0.9666</td>\n",
       "      <td>0.133</td>\n",
       "      <td>5</td>\n",
       "      <td>2004</td>\n",
       "    </tr>\n",
       "    <tr>\n",
       "      <th>1</th>\n",
       "      <td>2004-05-09</td>\n",
       "      <td>2004-05-15</td>\n",
       "      <td>CENTRO OESTE</td>\n",
       "      <td>GOIAS</td>\n",
       "      <td>ETANOL HIDRATADO</td>\n",
       "      <td>387</td>\n",
       "      <td>R$/l</td>\n",
       "      <td>1.162</td>\n",
       "      <td>0.114</td>\n",
       "      <td>0.89</td>\n",
       "      <td>1.449</td>\n",
       "      <td>0.399</td>\n",
       "      <td>0.098</td>\n",
       "      <td>0.763</td>\n",
       "      <td>0.088</td>\n",
       "      <td>0.5013</td>\n",
       "      <td>1.05</td>\n",
       "      <td>0.115</td>\n",
       "      <td>5</td>\n",
       "      <td>2004</td>\n",
       "    </tr>\n",
       "    <tr>\n",
       "      <th>2</th>\n",
       "      <td>2004-05-09</td>\n",
       "      <td>2004-05-15</td>\n",
       "      <td>CENTRO OESTE</td>\n",
       "      <td>MATO GROSSO</td>\n",
       "      <td>ETANOL HIDRATADO</td>\n",
       "      <td>192</td>\n",
       "      <td>R$/l</td>\n",
       "      <td>1.389</td>\n",
       "      <td>0.097</td>\n",
       "      <td>1.18</td>\n",
       "      <td>1.760</td>\n",
       "      <td>0.419</td>\n",
       "      <td>0.070</td>\n",
       "      <td>0.97</td>\n",
       "      <td>0.095</td>\n",
       "      <td>0.5614</td>\n",
       "      <td>1.161</td>\n",
       "      <td>0.098</td>\n",
       "      <td>5</td>\n",
       "      <td>2004</td>\n",
       "    </tr>\n",
       "    <tr>\n",
       "      <th>3</th>\n",
       "      <td>2004-05-09</td>\n",
       "      <td>2004-05-15</td>\n",
       "      <td>CENTRO OESTE</td>\n",
       "      <td>MATO GROSSO DO SUL</td>\n",
       "      <td>ETANOL HIDRATADO</td>\n",
       "      <td>162</td>\n",
       "      <td>R$/l</td>\n",
       "      <td>1.262</td>\n",
       "      <td>0.070</td>\n",
       "      <td>1.09</td>\n",
       "      <td>1.509</td>\n",
       "      <td>0.432</td>\n",
       "      <td>0.055</td>\n",
       "      <td>0.83</td>\n",
       "      <td>0.119</td>\n",
       "      <td>0.5991</td>\n",
       "      <td>1.22242</td>\n",
       "      <td>0.143</td>\n",
       "      <td>5</td>\n",
       "      <td>2004</td>\n",
       "    </tr>\n",
       "    <tr>\n",
       "      <th>4</th>\n",
       "      <td>2004-05-09</td>\n",
       "      <td>2004-05-15</td>\n",
       "      <td>NORDESTE</td>\n",
       "      <td>ALAGOAS</td>\n",
       "      <td>ETANOL HIDRATADO</td>\n",
       "      <td>103</td>\n",
       "      <td>R$/l</td>\n",
       "      <td>1.181</td>\n",
       "      <td>0.078</td>\n",
       "      <td>1.05</td>\n",
       "      <td>1.400</td>\n",
       "      <td>0.24</td>\n",
       "      <td>0.066</td>\n",
       "      <td>0.941</td>\n",
       "      <td>0.077</td>\n",
       "      <td>0.7441</td>\n",
       "      <td>1.0317</td>\n",
       "      <td>0.082</td>\n",
       "      <td>5</td>\n",
       "      <td>2004</td>\n",
       "    </tr>\n",
       "  </tbody>\n",
       "</table>\n",
       "</div>"
      ],
      "text/plain": [
       "  analysis_first_day analysis_last_day  macro_region               state  \\\n",
       "0         2004-05-09        2004-05-15  CENTRO OESTE    DISTRITO FEDERAL   \n",
       "1         2004-05-09        2004-05-15  CENTRO OESTE               GOIAS   \n",
       "2         2004-05-09        2004-05-15  CENTRO OESTE         MATO GROSSO   \n",
       "3         2004-05-09        2004-05-15  CENTRO OESTE  MATO GROSSO DO SUL   \n",
       "4         2004-05-09        2004-05-15      NORDESTE             ALAGOAS   \n",
       "\n",
       "       product_kind  no_gas_stations_analyzed measurement_unit  avg_price  \\\n",
       "0  ETANOL HIDRATADO                       127             R$/l      1.288   \n",
       "1  ETANOL HIDRATADO                       387             R$/l      1.162   \n",
       "2  ETANOL HIDRATADO                       192             R$/l      1.389   \n",
       "3  ETANOL HIDRATADO                       162             R$/l      1.262   \n",
       "4  ETANOL HIDRATADO                       103             R$/l      1.181   \n",
       "\n",
       "     std  min_price_observed  max_price_observed mean_price_margin  \\\n",
       "0  0.016                1.19               1.350             0.463   \n",
       "1  0.114                0.89               1.449             0.399   \n",
       "2  0.097                1.18               1.760             0.419   \n",
       "3  0.070                1.09               1.509             0.432   \n",
       "4  0.078                1.05               1.400              0.24   \n",
       "\n",
       "   coefficient_of_variation mean_distribution_price distribution_std  \\\n",
       "0                     0.012                   0.825             0.11   \n",
       "1                     0.098                   0.763            0.088   \n",
       "2                     0.070                    0.97            0.095   \n",
       "3                     0.055                    0.83            0.119   \n",
       "4                     0.066                   0.941            0.077   \n",
       "\n",
       "  distribution_min_price distribution_max_price  \\\n",
       "0                 0.4201                 0.9666   \n",
       "1                 0.5013                   1.05   \n",
       "2                 0.5614                  1.161   \n",
       "3                 0.5991                1.22242   \n",
       "4                 0.7441                 1.0317   \n",
       "\n",
       "  distribution_coefficient_of_variation  month  year  \n",
       "0                                 0.133      5  2004  \n",
       "1                                 0.115      5  2004  \n",
       "2                                 0.098      5  2004  \n",
       "3                                 0.143      5  2004  \n",
       "4                                 0.082      5  2004  "
      ]
     },
     "execution_count": 6,
     "metadata": {},
     "output_type": "execute_result"
    }
   ],
   "source": [
    "df.head()"
   ]
  },
  {
   "cell_type": "markdown",
   "metadata": {},
   "source": [
    "## Check for any null value"
   ]
  },
  {
   "cell_type": "code",
   "execution_count": 7,
   "metadata": {
    "ExecuteTime": {
     "end_time": "2019-09-05T14:08:46.611478Z",
     "start_time": "2019-09-05T14:08:46.507754Z"
    }
   },
   "outputs": [
    {
     "data": {
      "text/plain": [
       "analysis_first_day                       0\n",
       "analysis_last_day                        0\n",
       "macro_region                             0\n",
       "state                                    0\n",
       "product_kind                             0\n",
       "no_gas_stations_analyzed                 0\n",
       "measurement_unit                         0\n",
       "avg_price                                0\n",
       "std                                      0\n",
       "min_price_observed                       0\n",
       "max_price_observed                       0\n",
       "mean_price_margin                        0\n",
       "coefficient_of_variation                 0\n",
       "mean_distribution_price                  0\n",
       "distribution_std                         0\n",
       "distribution_min_price                   0\n",
       "distribution_max_price                   0\n",
       "distribution_coefficient_of_variation    0\n",
       "month                                    0\n",
       "year                                     0\n",
       "dtype: int64"
      ]
     },
     "execution_count": 7,
     "metadata": {},
     "output_type": "execute_result"
    }
   ],
   "source": [
    "df.isnull().sum()"
   ]
  },
  {
   "cell_type": "markdown",
   "metadata": {},
   "source": [
    "We have no null value so no need to worry about it 'yet'."
   ]
  },
  {
   "cell_type": "markdown",
   "metadata": {},
   "source": [
    "## Number of Rows and Columns"
   ]
  },
  {
   "cell_type": "code",
   "execution_count": 8,
   "metadata": {
    "ExecuteTime": {
     "end_time": "2019-09-05T14:08:46.621452Z",
     "start_time": "2019-09-05T14:08:46.614471Z"
    }
   },
   "outputs": [
    {
     "name": "stdout",
     "output_type": "stream",
     "text": [
      "Number of rows:    106823\n",
      "Number of Columns: 20\n"
     ]
    }
   ],
   "source": [
    "print('Number of rows:   ', df.shape[0])\n",
    "print('Number of Columns:', df.shape[1])"
   ]
  },
  {
   "cell_type": "markdown",
   "metadata": {},
   "source": [
    "## Let's check the summary statistics"
   ]
  },
  {
   "cell_type": "code",
   "execution_count": 9,
   "metadata": {
    "ExecuteTime": {
     "end_time": "2019-09-05T14:08:46.706223Z",
     "start_time": "2019-09-05T14:08:46.623445Z"
    }
   },
   "outputs": [
    {
     "data": {
      "text/html": [
       "<div>\n",
       "<style scoped>\n",
       "    .dataframe tbody tr th:only-of-type {\n",
       "        vertical-align: middle;\n",
       "    }\n",
       "\n",
       "    .dataframe tbody tr th {\n",
       "        vertical-align: top;\n",
       "    }\n",
       "\n",
       "    .dataframe thead th {\n",
       "        text-align: right;\n",
       "    }\n",
       "</style>\n",
       "<table border=\"1\" class=\"dataframe\">\n",
       "  <thead>\n",
       "    <tr style=\"text-align: right;\">\n",
       "      <th></th>\n",
       "      <th>no_gas_stations_analyzed</th>\n",
       "      <th>avg_price</th>\n",
       "      <th>std</th>\n",
       "      <th>min_price_observed</th>\n",
       "      <th>max_price_observed</th>\n",
       "      <th>coefficient_of_variation</th>\n",
       "      <th>month</th>\n",
       "      <th>year</th>\n",
       "    </tr>\n",
       "  </thead>\n",
       "  <tbody>\n",
       "    <tr>\n",
       "      <th>count</th>\n",
       "      <td>106823.000000</td>\n",
       "      <td>106823.000000</td>\n",
       "      <td>106823.000000</td>\n",
       "      <td>106823.000000</td>\n",
       "      <td>106823.000000</td>\n",
       "      <td>106823.000000</td>\n",
       "      <td>106823.000000</td>\n",
       "      <td>106823.000000</td>\n",
       "    </tr>\n",
       "    <tr>\n",
       "      <th>mean</th>\n",
       "      <td>233.770976</td>\n",
       "      <td>10.870780</td>\n",
       "      <td>0.657227</td>\n",
       "      <td>9.416038</td>\n",
       "      <td>12.537731</td>\n",
       "      <td>0.045418</td>\n",
       "      <td>6.484006</td>\n",
       "      <td>2011.802271</td>\n",
       "    </tr>\n",
       "    <tr>\n",
       "      <th>std</th>\n",
       "      <td>403.282519</td>\n",
       "      <td>17.752533</td>\n",
       "      <td>1.349169</td>\n",
       "      <td>15.092193</td>\n",
       "      <td>20.841497</td>\n",
       "      <td>0.025066</td>\n",
       "      <td>3.443391</td>\n",
       "      <td>4.391530</td>\n",
       "    </tr>\n",
       "    <tr>\n",
       "      <th>min</th>\n",
       "      <td>1.000000</td>\n",
       "      <td>0.766000</td>\n",
       "      <td>0.000000</td>\n",
       "      <td>0.590000</td>\n",
       "      <td>0.999000</td>\n",
       "      <td>0.000000</td>\n",
       "      <td>1.000000</td>\n",
       "      <td>2004.000000</td>\n",
       "    </tr>\n",
       "    <tr>\n",
       "      <th>25%</th>\n",
       "      <td>42.000000</td>\n",
       "      <td>2.072000</td>\n",
       "      <td>0.072000</td>\n",
       "      <td>1.900000</td>\n",
       "      <td>2.310000</td>\n",
       "      <td>0.029000</td>\n",
       "      <td>4.000000</td>\n",
       "      <td>2008.000000</td>\n",
       "    </tr>\n",
       "    <tr>\n",
       "      <th>50%</th>\n",
       "      <td>104.000000</td>\n",
       "      <td>2.718000</td>\n",
       "      <td>0.114000</td>\n",
       "      <td>2.510000</td>\n",
       "      <td>2.999000</td>\n",
       "      <td>0.041000</td>\n",
       "      <td>6.000000</td>\n",
       "      <td>2012.000000</td>\n",
       "    </tr>\n",
       "    <tr>\n",
       "      <th>75%</th>\n",
       "      <td>243.000000</td>\n",
       "      <td>3.752000</td>\n",
       "      <td>0.191000</td>\n",
       "      <td>3.499000</td>\n",
       "      <td>4.150000</td>\n",
       "      <td>0.058000</td>\n",
       "      <td>9.000000</td>\n",
       "      <td>2016.000000</td>\n",
       "    </tr>\n",
       "    <tr>\n",
       "      <th>max</th>\n",
       "      <td>4167.000000</td>\n",
       "      <td>99.357000</td>\n",
       "      <td>10.748000</td>\n",
       "      <td>90.000000</td>\n",
       "      <td>120.000000</td>\n",
       "      <td>0.395000</td>\n",
       "      <td>12.000000</td>\n",
       "      <td>2019.000000</td>\n",
       "    </tr>\n",
       "  </tbody>\n",
       "</table>\n",
       "</div>"
      ],
      "text/plain": [
       "       no_gas_stations_analyzed      avg_price            std  \\\n",
       "count             106823.000000  106823.000000  106823.000000   \n",
       "mean                 233.770976      10.870780       0.657227   \n",
       "std                  403.282519      17.752533       1.349169   \n",
       "min                    1.000000       0.766000       0.000000   \n",
       "25%                   42.000000       2.072000       0.072000   \n",
       "50%                  104.000000       2.718000       0.114000   \n",
       "75%                  243.000000       3.752000       0.191000   \n",
       "max                 4167.000000      99.357000      10.748000   \n",
       "\n",
       "       min_price_observed  max_price_observed  coefficient_of_variation  \\\n",
       "count       106823.000000       106823.000000             106823.000000   \n",
       "mean             9.416038           12.537731                  0.045418   \n",
       "std             15.092193           20.841497                  0.025066   \n",
       "min              0.590000            0.999000                  0.000000   \n",
       "25%              1.900000            2.310000                  0.029000   \n",
       "50%              2.510000            2.999000                  0.041000   \n",
       "75%              3.499000            4.150000                  0.058000   \n",
       "max             90.000000          120.000000                  0.395000   \n",
       "\n",
       "               month           year  \n",
       "count  106823.000000  106823.000000  \n",
       "mean        6.484006    2011.802271  \n",
       "std         3.443391       4.391530  \n",
       "min         1.000000    2004.000000  \n",
       "25%         4.000000    2008.000000  \n",
       "50%         6.000000    2012.000000  \n",
       "75%         9.000000    2016.000000  \n",
       "max        12.000000    2019.000000  "
      ]
     },
     "execution_count": 9,
     "metadata": {},
     "output_type": "execute_result"
    }
   ],
   "source": [
    "df.describe()"
   ]
  },
  {
   "cell_type": "markdown",
   "metadata": {},
   "source": [
    "We can see that the price column is right skewed because mean is greater than the 50% quartile (or median). This information may come in handy later."
   ]
  },
  {
   "cell_type": "markdown",
   "metadata": {},
   "source": [
    "## Datatypes"
   ]
  },
  {
   "cell_type": "code",
   "execution_count": 10,
   "metadata": {
    "ExecuteTime": {
     "end_time": "2019-09-05T14:08:46.716198Z",
     "start_time": "2019-09-05T14:08:46.707221Z"
    }
   },
   "outputs": [
    {
     "data": {
      "text/html": [
       "<div>\n",
       "<style scoped>\n",
       "    .dataframe tbody tr th:only-of-type {\n",
       "        vertical-align: middle;\n",
       "    }\n",
       "\n",
       "    .dataframe tbody tr th {\n",
       "        vertical-align: top;\n",
       "    }\n",
       "\n",
       "    .dataframe thead th {\n",
       "        text-align: right;\n",
       "    }\n",
       "</style>\n",
       "<table border=\"1\" class=\"dataframe\">\n",
       "  <thead>\n",
       "    <tr style=\"text-align: right;\">\n",
       "      <th></th>\n",
       "      <th>Data Type</th>\n",
       "    </tr>\n",
       "  </thead>\n",
       "  <tbody>\n",
       "    <tr>\n",
       "      <th>analysis_first_day</th>\n",
       "      <td>datetime64[ns]</td>\n",
       "    </tr>\n",
       "    <tr>\n",
       "      <th>analysis_last_day</th>\n",
       "      <td>datetime64[ns]</td>\n",
       "    </tr>\n",
       "    <tr>\n",
       "      <th>macro_region</th>\n",
       "      <td>object</td>\n",
       "    </tr>\n",
       "    <tr>\n",
       "      <th>state</th>\n",
       "      <td>object</td>\n",
       "    </tr>\n",
       "    <tr>\n",
       "      <th>product_kind</th>\n",
       "      <td>object</td>\n",
       "    </tr>\n",
       "    <tr>\n",
       "      <th>no_gas_stations_analyzed</th>\n",
       "      <td>int64</td>\n",
       "    </tr>\n",
       "    <tr>\n",
       "      <th>measurement_unit</th>\n",
       "      <td>object</td>\n",
       "    </tr>\n",
       "    <tr>\n",
       "      <th>avg_price</th>\n",
       "      <td>float64</td>\n",
       "    </tr>\n",
       "    <tr>\n",
       "      <th>std</th>\n",
       "      <td>float64</td>\n",
       "    </tr>\n",
       "    <tr>\n",
       "      <th>min_price_observed</th>\n",
       "      <td>float64</td>\n",
       "    </tr>\n",
       "    <tr>\n",
       "      <th>max_price_observed</th>\n",
       "      <td>float64</td>\n",
       "    </tr>\n",
       "    <tr>\n",
       "      <th>mean_price_margin</th>\n",
       "      <td>object</td>\n",
       "    </tr>\n",
       "    <tr>\n",
       "      <th>coefficient_of_variation</th>\n",
       "      <td>float64</td>\n",
       "    </tr>\n",
       "    <tr>\n",
       "      <th>mean_distribution_price</th>\n",
       "      <td>object</td>\n",
       "    </tr>\n",
       "    <tr>\n",
       "      <th>distribution_std</th>\n",
       "      <td>object</td>\n",
       "    </tr>\n",
       "    <tr>\n",
       "      <th>distribution_min_price</th>\n",
       "      <td>object</td>\n",
       "    </tr>\n",
       "    <tr>\n",
       "      <th>distribution_max_price</th>\n",
       "      <td>object</td>\n",
       "    </tr>\n",
       "    <tr>\n",
       "      <th>distribution_coefficient_of_variation</th>\n",
       "      <td>object</td>\n",
       "    </tr>\n",
       "    <tr>\n",
       "      <th>month</th>\n",
       "      <td>int64</td>\n",
       "    </tr>\n",
       "    <tr>\n",
       "      <th>year</th>\n",
       "      <td>int64</td>\n",
       "    </tr>\n",
       "  </tbody>\n",
       "</table>\n",
       "</div>"
      ],
      "text/plain": [
       "                                            Data Type\n",
       "analysis_first_day                     datetime64[ns]\n",
       "analysis_last_day                      datetime64[ns]\n",
       "macro_region                                   object\n",
       "state                                          object\n",
       "product_kind                                   object\n",
       "no_gas_stations_analyzed                        int64\n",
       "measurement_unit                               object\n",
       "avg_price                                     float64\n",
       "std                                           float64\n",
       "min_price_observed                            float64\n",
       "max_price_observed                            float64\n",
       "mean_price_margin                              object\n",
       "coefficient_of_variation                      float64\n",
       "mean_distribution_price                        object\n",
       "distribution_std                               object\n",
       "distribution_min_price                         object\n",
       "distribution_max_price                         object\n",
       "distribution_coefficient_of_variation          object\n",
       "month                                           int64\n",
       "year                                            int64"
      ]
     },
     "execution_count": 10,
     "metadata": {},
     "output_type": "execute_result"
    }
   ],
   "source": [
    "df.dtypes.to_frame(name='Data Type')"
   ]
  },
  {
   "cell_type": "markdown",
   "metadata": {},
   "source": [
    "Let's check some of the datatypes which are object and should be numerical."
   ]
  },
  {
   "cell_type": "code",
   "execution_count": 11,
   "metadata": {
    "ExecuteTime": {
     "end_time": "2019-09-05T14:08:46.738138Z",
     "start_time": "2019-09-05T14:08:46.718193Z"
    }
   },
   "outputs": [
    {
     "data": {
      "text/html": [
       "<div>\n",
       "<style scoped>\n",
       "    .dataframe tbody tr th:only-of-type {\n",
       "        vertical-align: middle;\n",
       "    }\n",
       "\n",
       "    .dataframe tbody tr th {\n",
       "        vertical-align: top;\n",
       "    }\n",
       "\n",
       "    .dataframe thead th {\n",
       "        text-align: right;\n",
       "    }\n",
       "</style>\n",
       "<table border=\"1\" class=\"dataframe\">\n",
       "  <thead>\n",
       "    <tr style=\"text-align: right;\">\n",
       "      <th></th>\n",
       "      <th>index</th>\n",
       "    </tr>\n",
       "  </thead>\n",
       "  <tbody>\n",
       "    <tr>\n",
       "      <th>0</th>\n",
       "      <td>macro_region</td>\n",
       "    </tr>\n",
       "    <tr>\n",
       "      <th>1</th>\n",
       "      <td>state</td>\n",
       "    </tr>\n",
       "    <tr>\n",
       "      <th>2</th>\n",
       "      <td>product_kind</td>\n",
       "    </tr>\n",
       "    <tr>\n",
       "      <th>3</th>\n",
       "      <td>measurement_unit</td>\n",
       "    </tr>\n",
       "    <tr>\n",
       "      <th>4</th>\n",
       "      <td>mean_price_margin</td>\n",
       "    </tr>\n",
       "    <tr>\n",
       "      <th>5</th>\n",
       "      <td>mean_distribution_price</td>\n",
       "    </tr>\n",
       "    <tr>\n",
       "      <th>6</th>\n",
       "      <td>distribution_std</td>\n",
       "    </tr>\n",
       "    <tr>\n",
       "      <th>7</th>\n",
       "      <td>distribution_min_price</td>\n",
       "    </tr>\n",
       "    <tr>\n",
       "      <th>8</th>\n",
       "      <td>distribution_max_price</td>\n",
       "    </tr>\n",
       "    <tr>\n",
       "      <th>9</th>\n",
       "      <td>distribution_coefficient_of_variation</td>\n",
       "    </tr>\n",
       "  </tbody>\n",
       "</table>\n",
       "</div>"
      ],
      "text/plain": [
       "                                   index\n",
       "0                           macro_region\n",
       "1                                  state\n",
       "2                           product_kind\n",
       "3                       measurement_unit\n",
       "4                      mean_price_margin\n",
       "5                mean_distribution_price\n",
       "6                       distribution_std\n",
       "7                 distribution_min_price\n",
       "8                 distribution_max_price\n",
       "9  distribution_coefficient_of_variation"
      ]
     },
     "execution_count": 11,
     "metadata": {},
     "output_type": "execute_result"
    }
   ],
   "source": [
    "check_df = (df.dtypes == np.object).reset_index()\n",
    "check_df[check_df[0] == True]['index'].reset_index().drop('level_0', axis=1)"
   ]
  },
  {
   "cell_type": "markdown",
   "metadata": {},
   "source": [
    "Data types of the following columns should be numerical but are of type object:<br>\n",
    "* mean_price_margin\n",
    "* mean_distribution_price\n",
    "* distribution_std\n",
    "* distribution_min_price\n",
    "* distribution_max_price\n",
    "* distribution_coefficient_of_variation"
   ]
  },
  {
   "cell_type": "markdown",
   "metadata": {},
   "source": [
    "### Dealing with the column: mean_price_margin"
   ]
  },
  {
   "cell_type": "markdown",
   "metadata": {},
   "source": [
    "Let's first check the unique values."
   ]
  },
  {
   "cell_type": "code",
   "execution_count": 12,
   "metadata": {
    "ExecuteTime": {
     "end_time": "2019-09-05T14:08:46.757088Z",
     "start_time": "2019-09-05T14:08:46.740133Z"
    }
   },
   "outputs": [
    {
     "data": {
      "text/plain": [
       "array(['0.463', '0.399', '0.419', ..., '1.007', '0.876', '1.179'],\n",
       "      dtype=object)"
      ]
     },
     "execution_count": 12,
     "metadata": {},
     "output_type": "execute_result"
    }
   ],
   "source": [
    "df.mean_price_margin.unique()"
   ]
  },
  {
   "cell_type": "markdown",
   "metadata": {},
   "source": [
    "Now, let's check if there is a value other than floats."
   ]
  },
  {
   "cell_type": "code",
   "execution_count": 13,
   "metadata": {
    "ExecuteTime": {
     "end_time": "2019-09-05T14:08:46.765074Z",
     "start_time": "2019-09-05T14:08:46.759082Z"
    }
   },
   "outputs": [],
   "source": [
    "def is_float(n):\n",
    "    try:\n",
    "        float(n)\n",
    "        return True\n",
    "    except ValueError:\n",
    "        return False"
   ]
  },
  {
   "cell_type": "code",
   "execution_count": 14,
   "metadata": {
    "ExecuteTime": {
     "end_time": "2019-09-05T14:08:46.847844Z",
     "start_time": "2019-09-05T14:08:46.767060Z"
    }
   },
   "outputs": [
    {
     "data": {
      "text/plain": [
       "array(['-'], dtype=object)"
      ]
     },
     "execution_count": 14,
     "metadata": {},
     "output_type": "execute_result"
    }
   ],
   "source": [
    "df.mean_price_margin[~df.mean_price_margin.apply(lambda x: is_float(x))].unique()"
   ]
  },
  {
   "cell_type": "markdown",
   "metadata": {},
   "source": [
    "Let's check the ratio of \"-\" appearing in the table as compared to the all rows to decide how to replace it."
   ]
  },
  {
   "cell_type": "code",
   "execution_count": 15,
   "metadata": {
    "ExecuteTime": {
     "end_time": "2019-09-05T14:08:46.919652Z",
     "start_time": "2019-09-05T14:08:46.849839Z"
    }
   },
   "outputs": [
    {
     "name": "stdout",
     "output_type": "stream",
     "text": [
      "Number of times \"-\" appeared: 3431\n",
      "Total number of entries:      106823\n",
      "Percentage of occurance:      3.21 %\n"
     ]
    }
   ],
   "source": [
    "appearance = df.mean_price_margin[~df.mean_price_margin.apply(lambda x: is_float(x))].value_counts().iloc[0]\n",
    "total_entries = df.shape[0]\n",
    "perc_of_occurance = (appearance / total_entries) * 100\n",
    "\n",
    "print('Number of times \"-\" appeared:', appearance)\n",
    "print('Total number of entries:     ', total_entries)\n",
    "print('Percentage of occurance:     ', round(perc_of_occurance, 2), '%')"
   ]
  },
  {
   "cell_type": "markdown",
   "metadata": {},
   "source": [
    "Since, that is about only 3.2 percent of the total data. We might as well delete these entire rows instead of replacing them with any value."
   ]
  },
  {
   "cell_type": "code",
   "execution_count": 16,
   "metadata": {
    "ExecuteTime": {
     "end_time": "2019-09-05T14:08:47.002466Z",
     "start_time": "2019-09-05T14:08:46.923663Z"
    }
   },
   "outputs": [],
   "source": [
    "df = df[df.mean_price_margin.apply(lambda x: is_float(x))]"
   ]
  },
  {
   "cell_type": "markdown",
   "metadata": {},
   "source": [
    "Now, converting all the values of this column into float."
   ]
  },
  {
   "cell_type": "code",
   "execution_count": 17,
   "metadata": {
    "ExecuteTime": {
     "end_time": "2019-09-05T14:08:47.108149Z",
     "start_time": "2019-09-05T14:08:47.004426Z"
    }
   },
   "outputs": [
    {
     "data": {
      "text/plain": [
       "dtype('float64')"
      ]
     },
     "execution_count": 17,
     "metadata": {},
     "output_type": "execute_result"
    }
   ],
   "source": [
    "df.mean_price_margin = df.mean_price_margin.apply(lambda x: float(x))\n",
    "df.mean_price_margin.dtypes"
   ]
  },
  {
   "cell_type": "markdown",
   "metadata": {},
   "source": [
    "### Dealing with the column: mean_distribution_price"
   ]
  },
  {
   "cell_type": "markdown",
   "metadata": {},
   "source": [
    "Let's first check the unique values."
   ]
  },
  {
   "cell_type": "code",
   "execution_count": 18,
   "metadata": {
    "ExecuteTime": {
     "end_time": "2019-09-05T14:08:47.121113Z",
     "start_time": "2019-09-05T14:08:47.110143Z"
    }
   },
   "outputs": [
    {
     "data": {
      "text/plain": [
       "array(['0.825', '0.763', '0.97', ..., '49.214', '54.078', '57.05'],\n",
       "      dtype=object)"
      ]
     },
     "execution_count": 18,
     "metadata": {},
     "output_type": "execute_result"
    }
   ],
   "source": [
    "df.mean_distribution_price.unique()"
   ]
  },
  {
   "cell_type": "markdown",
   "metadata": {},
   "source": [
    "Let's check if there are any values other than floats."
   ]
  },
  {
   "cell_type": "code",
   "execution_count": 19,
   "metadata": {
    "ExecuteTime": {
     "end_time": "2019-09-05T14:08:47.190927Z",
     "start_time": "2019-09-05T14:08:47.123108Z"
    }
   },
   "outputs": [
    {
     "data": {
      "text/plain": [
       "array([], dtype=object)"
      ]
     },
     "execution_count": 19,
     "metadata": {},
     "output_type": "execute_result"
    }
   ],
   "source": [
    "df.mean_distribution_price[~df.mean_distribution_price.apply(lambda x: is_float(x))].unique()"
   ]
  },
  {
   "cell_type": "markdown",
   "metadata": {},
   "source": [
    "There are no values other than floats (in string representation). Converting all the string representations of floats to actual floats."
   ]
  },
  {
   "cell_type": "code",
   "execution_count": 20,
   "metadata": {
    "ExecuteTime": {
     "end_time": "2019-09-05T14:08:47.256751Z",
     "start_time": "2019-09-05T14:08:47.194916Z"
    }
   },
   "outputs": [
    {
     "data": {
      "text/plain": [
       "dtype('float64')"
      ]
     },
     "execution_count": 20,
     "metadata": {},
     "output_type": "execute_result"
    }
   ],
   "source": [
    "df.mean_distribution_price = df.mean_distribution_price.apply(lambda x: float(x))\n",
    "df.mean_distribution_price.dtypes"
   ]
  },
  {
   "cell_type": "markdown",
   "metadata": {
    "ExecuteTime": {
     "end_time": "2019-08-03T20:20:57.543463Z",
     "start_time": "2019-08-03T20:20:57.539473Z"
    }
   },
   "source": [
    "### Dealing with the column: distribution_std"
   ]
  },
  {
   "cell_type": "markdown",
   "metadata": {},
   "source": [
    "Let's first check the unique values."
   ]
  },
  {
   "cell_type": "code",
   "execution_count": 21,
   "metadata": {
    "ExecuteTime": {
     "end_time": "2019-09-05T14:08:47.269716Z",
     "start_time": "2019-09-05T14:08:47.258745Z"
    }
   },
   "outputs": [
    {
     "data": {
      "text/plain": [
       "array(['0.11', '0.088', '0.095', ..., '5.254', '6.52', '6.906'],\n",
       "      dtype=object)"
      ]
     },
     "execution_count": 21,
     "metadata": {},
     "output_type": "execute_result"
    }
   ],
   "source": [
    "df.distribution_std.unique()"
   ]
  },
  {
   "cell_type": "markdown",
   "metadata": {},
   "source": [
    "Let's check if values other than floats exist in the strings."
   ]
  },
  {
   "cell_type": "code",
   "execution_count": 22,
   "metadata": {
    "ExecuteTime": {
     "end_time": "2019-09-05T14:08:47.333546Z",
     "start_time": "2019-09-05T14:08:47.271712Z"
    }
   },
   "outputs": [
    {
     "data": {
      "text/plain": [
       "array([], dtype=object)"
      ]
     },
     "execution_count": 22,
     "metadata": {},
     "output_type": "execute_result"
    }
   ],
   "source": [
    "df.distribution_std[~df.distribution_std.apply(lambda x: is_float(x))].unique()"
   ]
  },
  {
   "cell_type": "markdown",
   "metadata": {},
   "source": [
    "There are no values other than floats (in string representation). Converting all the string representations of floats to actual floats."
   ]
  },
  {
   "cell_type": "code",
   "execution_count": 23,
   "metadata": {
    "ExecuteTime": {
     "end_time": "2019-09-05T14:08:47.409343Z",
     "start_time": "2019-09-05T14:08:47.335539Z"
    }
   },
   "outputs": [
    {
     "data": {
      "text/plain": [
       "dtype('float64')"
      ]
     },
     "execution_count": 23,
     "metadata": {},
     "output_type": "execute_result"
    }
   ],
   "source": [
    "df.distribution_std = df.distribution_std.apply(lambda x: float(x))\n",
    "df.distribution_std.dtypes"
   ]
  },
  {
   "cell_type": "markdown",
   "metadata": {},
   "source": [
    "### Dealing with the column: distribution_min_price"
   ]
  },
  {
   "cell_type": "markdown",
   "metadata": {},
   "source": [
    "Let's first check the unique values."
   ]
  },
  {
   "cell_type": "code",
   "execution_count": 24,
   "metadata": {
    "ExecuteTime": {
     "end_time": "2019-09-05T14:08:47.424302Z",
     "start_time": "2019-09-05T14:08:47.411337Z"
    }
   },
   "outputs": [
    {
     "data": {
      "text/plain": [
       "array(['0.4201', '0.5013', '0.5614', ..., '50.68', '61.92', '40.19'],\n",
       "      dtype=object)"
      ]
     },
     "execution_count": 24,
     "metadata": {},
     "output_type": "execute_result"
    }
   ],
   "source": [
    "df.distribution_min_price.unique()"
   ]
  },
  {
   "cell_type": "markdown",
   "metadata": {},
   "source": [
    "Now, let's check if any value other than float exists."
   ]
  },
  {
   "cell_type": "code",
   "execution_count": 25,
   "metadata": {
    "ExecuteTime": {
     "end_time": "2019-09-05T14:08:47.528026Z",
     "start_time": "2019-09-05T14:08:47.426297Z"
    }
   },
   "outputs": [
    {
     "data": {
      "text/plain": [
       "array([], dtype=object)"
      ]
     },
     "execution_count": 25,
     "metadata": {},
     "output_type": "execute_result"
    }
   ],
   "source": [
    "df.distribution_min_price[~df.distribution_min_price.apply(lambda x: is_float(x))].unique()"
   ]
  },
  {
   "cell_type": "markdown",
   "metadata": {},
   "source": [
    "No value other than float exists. Let's convert the values to actual floats."
   ]
  },
  {
   "cell_type": "code",
   "execution_count": 26,
   "metadata": {
    "ExecuteTime": {
     "end_time": "2019-09-05T14:08:47.614792Z",
     "start_time": "2019-09-05T14:08:47.530019Z"
    }
   },
   "outputs": [
    {
     "data": {
      "text/plain": [
       "dtype('float64')"
      ]
     },
     "execution_count": 26,
     "metadata": {},
     "output_type": "execute_result"
    }
   ],
   "source": [
    "df.distribution_min_price = df.distribution_min_price.apply(lambda x: float(x))\n",
    "df.distribution_min_price.dtypes"
   ]
  },
  {
   "cell_type": "markdown",
   "metadata": {},
   "source": [
    "### Dealing with the column: distribution_max_price"
   ]
  },
  {
   "cell_type": "markdown",
   "metadata": {},
   "source": [
    "Let's check the unique values."
   ]
  },
  {
   "cell_type": "code",
   "execution_count": 27,
   "metadata": {
    "ExecuteTime": {
     "end_time": "2019-09-05T14:08:47.630750Z",
     "start_time": "2019-09-05T14:08:47.616787Z"
    }
   },
   "outputs": [
    {
     "data": {
      "text/plain": [
       "array(['0.9666', '1.05', '1.161', ..., '4.3999', '4.095', '3.825'],\n",
       "      dtype=object)"
      ]
     },
     "execution_count": 27,
     "metadata": {},
     "output_type": "execute_result"
    }
   ],
   "source": [
    "df.distribution_max_price.unique()"
   ]
  },
  {
   "cell_type": "markdown",
   "metadata": {},
   "source": [
    "Now, let's check if any value other than float exists."
   ]
  },
  {
   "cell_type": "code",
   "execution_count": 28,
   "metadata": {
    "ExecuteTime": {
     "end_time": "2019-09-05T14:08:47.722504Z",
     "start_time": "2019-09-05T14:08:47.632744Z"
    }
   },
   "outputs": [
    {
     "data": {
      "text/plain": [
       "array([], dtype=object)"
      ]
     },
     "execution_count": 28,
     "metadata": {},
     "output_type": "execute_result"
    }
   ],
   "source": [
    "df.distribution_max_price[~df.distribution_max_price.apply(lambda x: is_float(x))].unique()"
   ]
  },
  {
   "cell_type": "markdown",
   "metadata": {},
   "source": [
    "Converting the values to float."
   ]
  },
  {
   "cell_type": "code",
   "execution_count": 29,
   "metadata": {
    "ExecuteTime": {
     "end_time": "2019-09-05T14:08:47.792316Z",
     "start_time": "2019-09-05T14:08:47.724499Z"
    }
   },
   "outputs": [
    {
     "data": {
      "text/plain": [
       "dtype('float64')"
      ]
     },
     "execution_count": 29,
     "metadata": {},
     "output_type": "execute_result"
    }
   ],
   "source": [
    "df.distribution_max_price = df.distribution_max_price.apply(lambda x: float(x))\n",
    "df.distribution_min_price.dtypes"
   ]
  },
  {
   "cell_type": "markdown",
   "metadata": {},
   "source": [
    "### Dealing with the column: distribution_coefficient_of_variation"
   ]
  },
  {
   "cell_type": "markdown",
   "metadata": {},
   "source": [
    "Checking the unique values."
   ]
  },
  {
   "cell_type": "code",
   "execution_count": 30,
   "metadata": {
    "ExecuteTime": {
     "end_time": "2019-09-05T14:08:47.806279Z",
     "start_time": "2019-09-05T14:08:47.794311Z"
    },
    "scrolled": true
   },
   "outputs": [
    {
     "data": {
      "text/plain": [
       "array(['0.133', '0.115', '0.098', '0.143', '0.082', '0.134', '0.062',\n",
       "       '0.077', '0.096', '0.072', '0.083', '0.053', '0.153', '0.122',\n",
       "       '0.06', '0.172', '0.147', '0.087', '0.168', '0.108', '0.151',\n",
       "       '0.22', '0.157', '0.101', '0.119', '0.135', '0.116', '0.079',\n",
       "       '0.139', '0.07', '0.054', '0.095', '0.084', '0.085', '0.149',\n",
       "       '0.035', '0.059', '0.105', '0.217', '0.15', '0.123', '0.167',\n",
       "       '0.111', '0.148', '0.128', '0.058', '0.088', '0.063', '0.162',\n",
       "       '0.04', '0.156', '0.12', '0.08', '0.097', '0.141', '0.202',\n",
       "       '0.103', '0.099', '0.164', '0.118', '0.081', '0.125', '0.091',\n",
       "       '0.078', '0.106', '0.159', '0.049', '0.066', '0.126', '0.052',\n",
       "       '0.221', '0.112', '0.131', '0.107', '0.138', '0.144', '0.073',\n",
       "       '0.11', '0.086', '0.068', '0.136', '0.074', '0.14', '0.104',\n",
       "       '0.17', '0.161', '0.093', '0.155', '0.094', '0.113', '0.064',\n",
       "       '0.13', '0.109', '0.21', '0.16', '0.09', '0.163', '0.069', '0.129',\n",
       "       '0.212', '0.092', '0.1', '0.179', '0.056', '0.127', '0.207',\n",
       "       '0.117', '0.146', '0.193', '0.102', '0.067', '0.057', '0.185',\n",
       "       '0.075', '0.174', '0.121', '0.152', '0.183', '0.132', '0.137',\n",
       "       '0.114', '0.065', '0.176', '0.166', '0.089', '0.05', '0.021',\n",
       "       '0.124', '0.171', '0.076', '0.071', '0.154', '0.181', '0.158',\n",
       "       '0.177', '0.182', '0.175', '0.044', '0.184', '0.051', '0.055',\n",
       "       '0.045', '0.195', '0.047', '0.036', '0.061', '0.145', '0.037',\n",
       "       '0.19', '0.005', '0.201', '0.042', '0.038', '0.191', '0.048',\n",
       "       '0.18', '0.178', '0.186', '0.165', '0.173', '0.043', '0.033',\n",
       "       '0.03', '0.039', '0.032', '0.027', '0.01', '0.029', '0.034',\n",
       "       '0.022', '0.028', '0.031', '0.046', '0.024', '0.008', '0.041',\n",
       "       '0.018', '0.011', '0.025', '0.023', '0.014', '0.026', '0', '0.142',\n",
       "       '0.007', '0.004', '0.003', '0.017', '0.012', '0.019', '0.009',\n",
       "       '0.001', '0.013', '0.015', '0.02', '0.006', '0.002', '0.016',\n",
       "       '0.2', '0.251', '0.368', '0.187', '0.189', '0.205', '0.204',\n",
       "       '0.194', '0.196', '0.24', '0.224', '0.208', '0.211', '0.197',\n",
       "       '0.222', '0.188', '0.219', '0.227', '0.244', '0.223', '0.225',\n",
       "       '0.263', '0.276', '0.247', '0.241', '0.228', '0.198', '0.214',\n",
       "       '0.236', '0.239', '0.216', '0.203', '0.206', '0.169', '0.209',\n",
       "       '0.213', '0.192', '0.215', '0.238', '0.218', '0.226', '0.229',\n",
       "       '0.234', '0.199', '0.233', '0.232', '0.317', '0.297', '0.243',\n",
       "       '0.258', '0.231', '0.29', '0.248', '0.32', '0.23', '0.272',\n",
       "       '0.267', '0.275', '0.259', '0.309', '0.25', '0.358', '0.237',\n",
       "       '0.294', '0.421', '0.463', '0.5', '0.314', '0.516', '0.277',\n",
       "       '0.609', '0.644', '0.603', '0.592', '0.55', '0.499', '0.578',\n",
       "       '0.56', '0.45', '0.579', '0.623', '0.78', '0.249', '0.571',\n",
       "       '0.261', '0.26', '0.418', '0.466', '0.468', '0.586', '0.246',\n",
       "       '0.291', '0.507', '0.287', '0.423', '0.405', '0.424', '0.264',\n",
       "       '0.425', '0.401', '0.27', '0.372', '0.344', '0.333', '0.351',\n",
       "       '0.242', '0.353', '0.281', '0.282', '0.269', '0.256', '0.373',\n",
       "       '0.369', '0.39', '0.365', '0.35', '0.352', '0.334', '0.496',\n",
       "       '0.408', '0.446', '0.448', '0.435', '0.464', '0.453', '0.437',\n",
       "       '0.439', '0.299', '0.34', '0.43', '0.608', '0.493', '0.33',\n",
       "       '0.345', '0.268', '0.235', '0.254', '0.284', '0.262', '0.362',\n",
       "       '0.426', '0.337', '0.528', '0.301', '0.384', '0.36', '0.313',\n",
       "       '0.325', '0.293', '0.328', '0.305', '0.31', '0.245', '0.279',\n",
       "       '0.255', '0.387', '0.307', '0.302', '0.321', '0.253', '0.271',\n",
       "       '0.265', '0.319', '0.375', '0.457', '0.449', '0.471', '0.338',\n",
       "       '0.304', '0.415', '0.442', '0.292', '0.274', '0.44', '0.323',\n",
       "       '0.525', '0.473', '0.419', '0.339', '0.391', '0.273', '0.4',\n",
       "       '0.266', '0.394', '0.395', '0.285', '0.407', '0.393', '0.286',\n",
       "       '0.331', '0.28', '0.278', '0.42', '0.318', '0.444', '0.283',\n",
       "       '0.289', '0.252'], dtype=object)"
      ]
     },
     "execution_count": 30,
     "metadata": {},
     "output_type": "execute_result"
    }
   ],
   "source": [
    "df.distribution_coefficient_of_variation.unique()"
   ]
  },
  {
   "cell_type": "markdown",
   "metadata": {},
   "source": [
    "Checking if any value other than float exists."
   ]
  },
  {
   "cell_type": "code",
   "execution_count": 31,
   "metadata": {
    "ExecuteTime": {
     "end_time": "2019-09-05T14:08:47.877092Z",
     "start_time": "2019-09-05T14:08:47.808274Z"
    }
   },
   "outputs": [
    {
     "data": {
      "text/plain": [
       "Series([], Name: distribution_coefficient_of_variation, dtype: object)"
      ]
     },
     "execution_count": 31,
     "metadata": {},
     "output_type": "execute_result"
    }
   ],
   "source": [
    "df.distribution_coefficient_of_variation[~df.distribution_coefficient_of_variation.apply(lambda x: is_float(x))] "
   ]
  },
  {
   "cell_type": "markdown",
   "metadata": {},
   "source": [
    "Converting the values to float."
   ]
  },
  {
   "cell_type": "code",
   "execution_count": 32,
   "metadata": {
    "ExecuteTime": {
     "end_time": "2019-09-05T14:08:47.940920Z",
     "start_time": "2019-09-05T14:08:47.879085Z"
    }
   },
   "outputs": [
    {
     "data": {
      "text/plain": [
       "dtype('float64')"
      ]
     },
     "execution_count": 32,
     "metadata": {},
     "output_type": "execute_result"
    }
   ],
   "source": [
    "df.distribution_coefficient_of_variation = df.distribution_coefficient_of_variation.apply(lambda x: float(x))\n",
    "df.distribution_coefficient_of_variation.dtypes"
   ]
  },
  {
   "cell_type": "markdown",
   "metadata": {},
   "source": [
    "### Checking the datatypes for the final time."
   ]
  },
  {
   "cell_type": "code",
   "execution_count": 33,
   "metadata": {
    "ExecuteTime": {
     "end_time": "2019-09-05T14:08:47.949896Z",
     "start_time": "2019-09-05T14:08:47.942915Z"
    }
   },
   "outputs": [
    {
     "data": {
      "text/plain": [
       "analysis_first_day                       datetime64[ns]\n",
       "analysis_last_day                        datetime64[ns]\n",
       "macro_region                                     object\n",
       "state                                            object\n",
       "product_kind                                     object\n",
       "no_gas_stations_analyzed                          int64\n",
       "measurement_unit                                 object\n",
       "avg_price                                       float64\n",
       "std                                             float64\n",
       "min_price_observed                              float64\n",
       "max_price_observed                              float64\n",
       "mean_price_margin                               float64\n",
       "coefficient_of_variation                        float64\n",
       "mean_distribution_price                         float64\n",
       "distribution_std                                float64\n",
       "distribution_min_price                          float64\n",
       "distribution_max_price                          float64\n",
       "distribution_coefficient_of_variation           float64\n",
       "month                                             int64\n",
       "year                                              int64\n",
       "dtype: object"
      ]
     },
     "execution_count": 33,
     "metadata": {},
     "output_type": "execute_result"
    }
   ],
   "source": [
    "df.dtypes"
   ]
  },
  {
   "cell_type": "markdown",
   "metadata": {},
   "source": [
    "Let's look at the first two columns \"analysis_first_day\" & \"analysis_last_day\". We can engineer a new feature which would be the number of days the prices are analyzed. Let's do this."
   ]
  },
  {
   "cell_type": "code",
   "execution_count": 34,
   "metadata": {
    "ExecuteTime": {
     "end_time": "2019-09-05T14:08:53.468117Z",
     "start_time": "2019-09-05T14:08:47.951891Z"
    }
   },
   "outputs": [
    {
     "data": {
      "text/html": [
       "<div>\n",
       "<style scoped>\n",
       "    .dataframe tbody tr th:only-of-type {\n",
       "        vertical-align: middle;\n",
       "    }\n",
       "\n",
       "    .dataframe tbody tr th {\n",
       "        vertical-align: top;\n",
       "    }\n",
       "\n",
       "    .dataframe thead th {\n",
       "        text-align: right;\n",
       "    }\n",
       "</style>\n",
       "<table border=\"1\" class=\"dataframe\">\n",
       "  <thead>\n",
       "    <tr style=\"text-align: right;\">\n",
       "      <th></th>\n",
       "      <th>macro_region</th>\n",
       "      <th>state</th>\n",
       "      <th>product_kind</th>\n",
       "      <th>no_gas_stations_analyzed</th>\n",
       "      <th>measurement_unit</th>\n",
       "      <th>avg_price</th>\n",
       "      <th>std</th>\n",
       "      <th>min_price_observed</th>\n",
       "      <th>max_price_observed</th>\n",
       "      <th>mean_price_margin</th>\n",
       "      <th>coefficient_of_variation</th>\n",
       "      <th>mean_distribution_price</th>\n",
       "      <th>distribution_std</th>\n",
       "      <th>distribution_min_price</th>\n",
       "      <th>distribution_max_price</th>\n",
       "      <th>distribution_coefficient_of_variation</th>\n",
       "      <th>month</th>\n",
       "      <th>year</th>\n",
       "      <th>num_of_days_analysis_done</th>\n",
       "    </tr>\n",
       "  </thead>\n",
       "  <tbody>\n",
       "    <tr>\n",
       "      <th>0</th>\n",
       "      <td>CENTRO OESTE</td>\n",
       "      <td>DISTRITO FEDERAL</td>\n",
       "      <td>ETANOL HIDRATADO</td>\n",
       "      <td>127</td>\n",
       "      <td>R$/l</td>\n",
       "      <td>1.288</td>\n",
       "      <td>0.016</td>\n",
       "      <td>1.19</td>\n",
       "      <td>1.350</td>\n",
       "      <td>0.463</td>\n",
       "      <td>0.012</td>\n",
       "      <td>0.825</td>\n",
       "      <td>0.110</td>\n",
       "      <td>0.4201</td>\n",
       "      <td>0.96660</td>\n",
       "      <td>0.133</td>\n",
       "      <td>5</td>\n",
       "      <td>2004</td>\n",
       "      <td>6</td>\n",
       "    </tr>\n",
       "    <tr>\n",
       "      <th>1</th>\n",
       "      <td>CENTRO OESTE</td>\n",
       "      <td>GOIAS</td>\n",
       "      <td>ETANOL HIDRATADO</td>\n",
       "      <td>387</td>\n",
       "      <td>R$/l</td>\n",
       "      <td>1.162</td>\n",
       "      <td>0.114</td>\n",
       "      <td>0.89</td>\n",
       "      <td>1.449</td>\n",
       "      <td>0.399</td>\n",
       "      <td>0.098</td>\n",
       "      <td>0.763</td>\n",
       "      <td>0.088</td>\n",
       "      <td>0.5013</td>\n",
       "      <td>1.05000</td>\n",
       "      <td>0.115</td>\n",
       "      <td>5</td>\n",
       "      <td>2004</td>\n",
       "      <td>6</td>\n",
       "    </tr>\n",
       "    <tr>\n",
       "      <th>2</th>\n",
       "      <td>CENTRO OESTE</td>\n",
       "      <td>MATO GROSSO</td>\n",
       "      <td>ETANOL HIDRATADO</td>\n",
       "      <td>192</td>\n",
       "      <td>R$/l</td>\n",
       "      <td>1.389</td>\n",
       "      <td>0.097</td>\n",
       "      <td>1.18</td>\n",
       "      <td>1.760</td>\n",
       "      <td>0.419</td>\n",
       "      <td>0.070</td>\n",
       "      <td>0.970</td>\n",
       "      <td>0.095</td>\n",
       "      <td>0.5614</td>\n",
       "      <td>1.16100</td>\n",
       "      <td>0.098</td>\n",
       "      <td>5</td>\n",
       "      <td>2004</td>\n",
       "      <td>6</td>\n",
       "    </tr>\n",
       "    <tr>\n",
       "      <th>3</th>\n",
       "      <td>CENTRO OESTE</td>\n",
       "      <td>MATO GROSSO DO SUL</td>\n",
       "      <td>ETANOL HIDRATADO</td>\n",
       "      <td>162</td>\n",
       "      <td>R$/l</td>\n",
       "      <td>1.262</td>\n",
       "      <td>0.070</td>\n",
       "      <td>1.09</td>\n",
       "      <td>1.509</td>\n",
       "      <td>0.432</td>\n",
       "      <td>0.055</td>\n",
       "      <td>0.830</td>\n",
       "      <td>0.119</td>\n",
       "      <td>0.5991</td>\n",
       "      <td>1.22242</td>\n",
       "      <td>0.143</td>\n",
       "      <td>5</td>\n",
       "      <td>2004</td>\n",
       "      <td>6</td>\n",
       "    </tr>\n",
       "    <tr>\n",
       "      <th>4</th>\n",
       "      <td>NORDESTE</td>\n",
       "      <td>ALAGOAS</td>\n",
       "      <td>ETANOL HIDRATADO</td>\n",
       "      <td>103</td>\n",
       "      <td>R$/l</td>\n",
       "      <td>1.181</td>\n",
       "      <td>0.078</td>\n",
       "      <td>1.05</td>\n",
       "      <td>1.400</td>\n",
       "      <td>0.240</td>\n",
       "      <td>0.066</td>\n",
       "      <td>0.941</td>\n",
       "      <td>0.077</td>\n",
       "      <td>0.7441</td>\n",
       "      <td>1.03170</td>\n",
       "      <td>0.082</td>\n",
       "      <td>5</td>\n",
       "      <td>2004</td>\n",
       "      <td>6</td>\n",
       "    </tr>\n",
       "  </tbody>\n",
       "</table>\n",
       "</div>"
      ],
      "text/plain": [
       "   macro_region               state      product_kind  \\\n",
       "0  CENTRO OESTE    DISTRITO FEDERAL  ETANOL HIDRATADO   \n",
       "1  CENTRO OESTE               GOIAS  ETANOL HIDRATADO   \n",
       "2  CENTRO OESTE         MATO GROSSO  ETANOL HIDRATADO   \n",
       "3  CENTRO OESTE  MATO GROSSO DO SUL  ETANOL HIDRATADO   \n",
       "4      NORDESTE             ALAGOAS  ETANOL HIDRATADO   \n",
       "\n",
       "   no_gas_stations_analyzed measurement_unit  avg_price    std  \\\n",
       "0                       127             R$/l      1.288  0.016   \n",
       "1                       387             R$/l      1.162  0.114   \n",
       "2                       192             R$/l      1.389  0.097   \n",
       "3                       162             R$/l      1.262  0.070   \n",
       "4                       103             R$/l      1.181  0.078   \n",
       "\n",
       "   min_price_observed  max_price_observed  mean_price_margin  \\\n",
       "0                1.19               1.350              0.463   \n",
       "1                0.89               1.449              0.399   \n",
       "2                1.18               1.760              0.419   \n",
       "3                1.09               1.509              0.432   \n",
       "4                1.05               1.400              0.240   \n",
       "\n",
       "   coefficient_of_variation  mean_distribution_price  distribution_std  \\\n",
       "0                     0.012                    0.825             0.110   \n",
       "1                     0.098                    0.763             0.088   \n",
       "2                     0.070                    0.970             0.095   \n",
       "3                     0.055                    0.830             0.119   \n",
       "4                     0.066                    0.941             0.077   \n",
       "\n",
       "   distribution_min_price  distribution_max_price  \\\n",
       "0                  0.4201                 0.96660   \n",
       "1                  0.5013                 1.05000   \n",
       "2                  0.5614                 1.16100   \n",
       "3                  0.5991                 1.22242   \n",
       "4                  0.7441                 1.03170   \n",
       "\n",
       "   distribution_coefficient_of_variation  month  year  \\\n",
       "0                                  0.133      5  2004   \n",
       "1                                  0.115      5  2004   \n",
       "2                                  0.098      5  2004   \n",
       "3                                  0.143      5  2004   \n",
       "4                                  0.082      5  2004   \n",
       "\n",
       "   num_of_days_analysis_done  \n",
       "0                          6  \n",
       "1                          6  \n",
       "2                          6  \n",
       "3                          6  \n",
       "4                          6  "
      ]
     },
     "execution_count": 34,
     "metadata": {},
     "output_type": "execute_result"
    }
   ],
   "source": [
    "# Defining the function to get the number of days the analysis is done\n",
    "def get_num_days_analysis_done(last_day, first_day):\n",
    "    return (last_day - first_day).days\n",
    "\n",
    "\n",
    "# Making a new column named as 'num_of_days_analysis_done'\n",
    "df['num_of_days_analysis_done'] = df[['analysis_first_day', 'analysis_last_day']].apply(\n",
    "    lambda x: get_num_days_analysis_done(x.analysis_last_day, x.analysis_first_day), axis=1)\n",
    "\n",
    "# Deleting the first two columns because we don't need them anymore\n",
    "df.drop(['analysis_first_day', 'analysis_last_day'], axis=1, inplace=True)\n",
    "\n",
    "# Checking the first five rows\n",
    "df.head()"
   ]
  },
  {
   "cell_type": "markdown",
   "metadata": {},
   "source": [
    "Now, let's check if 6 is the only number of days the prices are analyzed or there may be the case that some gas prices are analyzed for more than one day, which would cause anomaly in the data."
   ]
  },
  {
   "cell_type": "code",
   "execution_count": 35,
   "metadata": {
    "ExecuteTime": {
     "end_time": "2019-09-05T14:08:53.476816Z",
     "start_time": "2019-09-05T14:08:53.469796Z"
    }
   },
   "outputs": [
    {
     "name": "stdout",
     "output_type": "stream",
     "text": [
      "Unique number of  days the gas prices are analyzed: [6]\n"
     ]
    }
   ],
   "source": [
    "print('Unique number of  days the gas prices are analyzed:', list(df.num_of_days_analysis_done.unique()))"
   ]
  },
  {
   "cell_type": "markdown",
   "metadata": {},
   "source": [
    "Alright, so we can say that every entry is analyzed only for 6 days which is good."
   ]
  },
  {
   "cell_type": "markdown",
   "metadata": {},
   "source": [
    "### Dealing with month and year"
   ]
  },
  {
   "cell_type": "markdown",
   "metadata": {},
   "source": [
    "We can see that the 'month' and 'year' column are of type integer. Let's merge them and make a DateTime object."
   ]
  },
  {
   "cell_type": "code",
   "execution_count": 36,
   "metadata": {
    "ExecuteTime": {
     "end_time": "2019-09-05T14:08:53.502708Z",
     "start_time": "2019-09-05T14:08:53.478770Z"
    }
   },
   "outputs": [
    {
     "data": {
      "text/html": [
       "<div>\n",
       "<style scoped>\n",
       "    .dataframe tbody tr th:only-of-type {\n",
       "        vertical-align: middle;\n",
       "    }\n",
       "\n",
       "    .dataframe tbody tr th {\n",
       "        vertical-align: top;\n",
       "    }\n",
       "\n",
       "    .dataframe thead th {\n",
       "        text-align: right;\n",
       "    }\n",
       "</style>\n",
       "<table border=\"1\" class=\"dataframe\">\n",
       "  <thead>\n",
       "    <tr style=\"text-align: right;\">\n",
       "      <th></th>\n",
       "      <th>macro_region</th>\n",
       "      <th>state</th>\n",
       "      <th>product_kind</th>\n",
       "      <th>no_gas_stations_analyzed</th>\n",
       "      <th>measurement_unit</th>\n",
       "      <th>avg_price</th>\n",
       "      <th>std</th>\n",
       "      <th>min_price_observed</th>\n",
       "      <th>max_price_observed</th>\n",
       "      <th>mean_price_margin</th>\n",
       "      <th>coefficient_of_variation</th>\n",
       "      <th>mean_distribution_price</th>\n",
       "      <th>distribution_std</th>\n",
       "      <th>distribution_min_price</th>\n",
       "      <th>distribution_max_price</th>\n",
       "      <th>distribution_coefficient_of_variation</th>\n",
       "      <th>month</th>\n",
       "      <th>year</th>\n",
       "      <th>num_of_days_analysis_done</th>\n",
       "    </tr>\n",
       "  </thead>\n",
       "  <tbody>\n",
       "    <tr>\n",
       "      <th>0</th>\n",
       "      <td>CENTRO OESTE</td>\n",
       "      <td>DISTRITO FEDERAL</td>\n",
       "      <td>ETANOL HIDRATADO</td>\n",
       "      <td>127</td>\n",
       "      <td>R$/l</td>\n",
       "      <td>1.288</td>\n",
       "      <td>0.016</td>\n",
       "      <td>1.19</td>\n",
       "      <td>1.350</td>\n",
       "      <td>0.463</td>\n",
       "      <td>0.012</td>\n",
       "      <td>0.825</td>\n",
       "      <td>0.110</td>\n",
       "      <td>0.4201</td>\n",
       "      <td>0.96660</td>\n",
       "      <td>0.133</td>\n",
       "      <td>5</td>\n",
       "      <td>2004</td>\n",
       "      <td>6</td>\n",
       "    </tr>\n",
       "    <tr>\n",
       "      <th>1</th>\n",
       "      <td>CENTRO OESTE</td>\n",
       "      <td>GOIAS</td>\n",
       "      <td>ETANOL HIDRATADO</td>\n",
       "      <td>387</td>\n",
       "      <td>R$/l</td>\n",
       "      <td>1.162</td>\n",
       "      <td>0.114</td>\n",
       "      <td>0.89</td>\n",
       "      <td>1.449</td>\n",
       "      <td>0.399</td>\n",
       "      <td>0.098</td>\n",
       "      <td>0.763</td>\n",
       "      <td>0.088</td>\n",
       "      <td>0.5013</td>\n",
       "      <td>1.05000</td>\n",
       "      <td>0.115</td>\n",
       "      <td>5</td>\n",
       "      <td>2004</td>\n",
       "      <td>6</td>\n",
       "    </tr>\n",
       "    <tr>\n",
       "      <th>2</th>\n",
       "      <td>CENTRO OESTE</td>\n",
       "      <td>MATO GROSSO</td>\n",
       "      <td>ETANOL HIDRATADO</td>\n",
       "      <td>192</td>\n",
       "      <td>R$/l</td>\n",
       "      <td>1.389</td>\n",
       "      <td>0.097</td>\n",
       "      <td>1.18</td>\n",
       "      <td>1.760</td>\n",
       "      <td>0.419</td>\n",
       "      <td>0.070</td>\n",
       "      <td>0.970</td>\n",
       "      <td>0.095</td>\n",
       "      <td>0.5614</td>\n",
       "      <td>1.16100</td>\n",
       "      <td>0.098</td>\n",
       "      <td>5</td>\n",
       "      <td>2004</td>\n",
       "      <td>6</td>\n",
       "    </tr>\n",
       "    <tr>\n",
       "      <th>3</th>\n",
       "      <td>CENTRO OESTE</td>\n",
       "      <td>MATO GROSSO DO SUL</td>\n",
       "      <td>ETANOL HIDRATADO</td>\n",
       "      <td>162</td>\n",
       "      <td>R$/l</td>\n",
       "      <td>1.262</td>\n",
       "      <td>0.070</td>\n",
       "      <td>1.09</td>\n",
       "      <td>1.509</td>\n",
       "      <td>0.432</td>\n",
       "      <td>0.055</td>\n",
       "      <td>0.830</td>\n",
       "      <td>0.119</td>\n",
       "      <td>0.5991</td>\n",
       "      <td>1.22242</td>\n",
       "      <td>0.143</td>\n",
       "      <td>5</td>\n",
       "      <td>2004</td>\n",
       "      <td>6</td>\n",
       "    </tr>\n",
       "    <tr>\n",
       "      <th>4</th>\n",
       "      <td>NORDESTE</td>\n",
       "      <td>ALAGOAS</td>\n",
       "      <td>ETANOL HIDRATADO</td>\n",
       "      <td>103</td>\n",
       "      <td>R$/l</td>\n",
       "      <td>1.181</td>\n",
       "      <td>0.078</td>\n",
       "      <td>1.05</td>\n",
       "      <td>1.400</td>\n",
       "      <td>0.240</td>\n",
       "      <td>0.066</td>\n",
       "      <td>0.941</td>\n",
       "      <td>0.077</td>\n",
       "      <td>0.7441</td>\n",
       "      <td>1.03170</td>\n",
       "      <td>0.082</td>\n",
       "      <td>5</td>\n",
       "      <td>2004</td>\n",
       "      <td>6</td>\n",
       "    </tr>\n",
       "  </tbody>\n",
       "</table>\n",
       "</div>"
      ],
      "text/plain": [
       "   macro_region               state      product_kind  \\\n",
       "0  CENTRO OESTE    DISTRITO FEDERAL  ETANOL HIDRATADO   \n",
       "1  CENTRO OESTE               GOIAS  ETANOL HIDRATADO   \n",
       "2  CENTRO OESTE         MATO GROSSO  ETANOL HIDRATADO   \n",
       "3  CENTRO OESTE  MATO GROSSO DO SUL  ETANOL HIDRATADO   \n",
       "4      NORDESTE             ALAGOAS  ETANOL HIDRATADO   \n",
       "\n",
       "   no_gas_stations_analyzed measurement_unit  avg_price    std  \\\n",
       "0                       127             R$/l      1.288  0.016   \n",
       "1                       387             R$/l      1.162  0.114   \n",
       "2                       192             R$/l      1.389  0.097   \n",
       "3                       162             R$/l      1.262  0.070   \n",
       "4                       103             R$/l      1.181  0.078   \n",
       "\n",
       "   min_price_observed  max_price_observed  mean_price_margin  \\\n",
       "0                1.19               1.350              0.463   \n",
       "1                0.89               1.449              0.399   \n",
       "2                1.18               1.760              0.419   \n",
       "3                1.09               1.509              0.432   \n",
       "4                1.05               1.400              0.240   \n",
       "\n",
       "   coefficient_of_variation  mean_distribution_price  distribution_std  \\\n",
       "0                     0.012                    0.825             0.110   \n",
       "1                     0.098                    0.763             0.088   \n",
       "2                     0.070                    0.970             0.095   \n",
       "3                     0.055                    0.830             0.119   \n",
       "4                     0.066                    0.941             0.077   \n",
       "\n",
       "   distribution_min_price  distribution_max_price  \\\n",
       "0                  0.4201                 0.96660   \n",
       "1                  0.5013                 1.05000   \n",
       "2                  0.5614                 1.16100   \n",
       "3                  0.5991                 1.22242   \n",
       "4                  0.7441                 1.03170   \n",
       "\n",
       "   distribution_coefficient_of_variation  month  year  \\\n",
       "0                                  0.133      5  2004   \n",
       "1                                  0.115      5  2004   \n",
       "2                                  0.098      5  2004   \n",
       "3                                  0.143      5  2004   \n",
       "4                                  0.082      5  2004   \n",
       "\n",
       "   num_of_days_analysis_done  \n",
       "0                          6  \n",
       "1                          6  \n",
       "2                          6  \n",
       "3                          6  \n",
       "4                          6  "
      ]
     },
     "execution_count": 36,
     "metadata": {},
     "output_type": "execute_result"
    }
   ],
   "source": [
    "# Checking the first five rows once again to get the idea.\n",
    "df.head()"
   ]
  },
  {
   "cell_type": "code",
   "execution_count": 37,
   "metadata": {
    "ExecuteTime": {
     "end_time": "2019-09-05T14:08:53.516670Z",
     "start_time": "2019-09-05T14:08:53.504702Z"
    }
   },
   "outputs": [
    {
     "name": "stdout",
     "output_type": "stream",
     "text": [
      "Months: [1, 2, 3, 4, 5, 6, 7, 8, 9, 10, 11, 12]\n",
      "Years: [2004, 2005, 2006, 2007, 2008, 2009, 2010, 2011, 2012, 2013, 2014, 2015, 2016, 2017, 2018, 2019]\n"
     ]
    }
   ],
   "source": [
    "print('Months:', sorted(df.month.unique()))\n",
    "print('Years:', sorted(df.year.unique()))"
   ]
  },
  {
   "cell_type": "markdown",
   "metadata": {},
   "source": [
    "Let's merge year and month and make a new column named as date."
   ]
  },
  {
   "cell_type": "code",
   "execution_count": 38,
   "metadata": {
    "ExecuteTime": {
     "end_time": "2019-09-05T14:08:53.659289Z",
     "start_time": "2019-09-05T14:08:53.518664Z"
    }
   },
   "outputs": [
    {
     "data": {
      "text/html": [
       "<div>\n",
       "<style scoped>\n",
       "    .dataframe tbody tr th:only-of-type {\n",
       "        vertical-align: middle;\n",
       "    }\n",
       "\n",
       "    .dataframe tbody tr th {\n",
       "        vertical-align: top;\n",
       "    }\n",
       "\n",
       "    .dataframe thead th {\n",
       "        text-align: right;\n",
       "    }\n",
       "</style>\n",
       "<table border=\"1\" class=\"dataframe\">\n",
       "  <thead>\n",
       "    <tr style=\"text-align: right;\">\n",
       "      <th></th>\n",
       "      <th>macro_region</th>\n",
       "      <th>state</th>\n",
       "      <th>product_kind</th>\n",
       "      <th>no_gas_stations_analyzed</th>\n",
       "      <th>measurement_unit</th>\n",
       "      <th>avg_price</th>\n",
       "      <th>std</th>\n",
       "      <th>min_price_observed</th>\n",
       "      <th>max_price_observed</th>\n",
       "      <th>mean_price_margin</th>\n",
       "      <th>coefficient_of_variation</th>\n",
       "      <th>mean_distribution_price</th>\n",
       "      <th>distribution_std</th>\n",
       "      <th>distribution_min_price</th>\n",
       "      <th>distribution_max_price</th>\n",
       "      <th>distribution_coefficient_of_variation</th>\n",
       "      <th>month</th>\n",
       "      <th>year</th>\n",
       "      <th>num_of_days_analysis_done</th>\n",
       "      <th>date</th>\n",
       "    </tr>\n",
       "  </thead>\n",
       "  <tbody>\n",
       "    <tr>\n",
       "      <th>0</th>\n",
       "      <td>CENTRO OESTE</td>\n",
       "      <td>DISTRITO FEDERAL</td>\n",
       "      <td>ETANOL HIDRATADO</td>\n",
       "      <td>127</td>\n",
       "      <td>R$/l</td>\n",
       "      <td>1.288</td>\n",
       "      <td>0.016</td>\n",
       "      <td>1.19</td>\n",
       "      <td>1.350</td>\n",
       "      <td>0.463</td>\n",
       "      <td>0.012</td>\n",
       "      <td>0.825</td>\n",
       "      <td>0.110</td>\n",
       "      <td>0.4201</td>\n",
       "      <td>0.96660</td>\n",
       "      <td>0.133</td>\n",
       "      <td>5</td>\n",
       "      <td>2004</td>\n",
       "      <td>6</td>\n",
       "      <td>2004-05-01</td>\n",
       "    </tr>\n",
       "    <tr>\n",
       "      <th>1</th>\n",
       "      <td>CENTRO OESTE</td>\n",
       "      <td>GOIAS</td>\n",
       "      <td>ETANOL HIDRATADO</td>\n",
       "      <td>387</td>\n",
       "      <td>R$/l</td>\n",
       "      <td>1.162</td>\n",
       "      <td>0.114</td>\n",
       "      <td>0.89</td>\n",
       "      <td>1.449</td>\n",
       "      <td>0.399</td>\n",
       "      <td>0.098</td>\n",
       "      <td>0.763</td>\n",
       "      <td>0.088</td>\n",
       "      <td>0.5013</td>\n",
       "      <td>1.05000</td>\n",
       "      <td>0.115</td>\n",
       "      <td>5</td>\n",
       "      <td>2004</td>\n",
       "      <td>6</td>\n",
       "      <td>2004-05-01</td>\n",
       "    </tr>\n",
       "    <tr>\n",
       "      <th>2</th>\n",
       "      <td>CENTRO OESTE</td>\n",
       "      <td>MATO GROSSO</td>\n",
       "      <td>ETANOL HIDRATADO</td>\n",
       "      <td>192</td>\n",
       "      <td>R$/l</td>\n",
       "      <td>1.389</td>\n",
       "      <td>0.097</td>\n",
       "      <td>1.18</td>\n",
       "      <td>1.760</td>\n",
       "      <td>0.419</td>\n",
       "      <td>0.070</td>\n",
       "      <td>0.970</td>\n",
       "      <td>0.095</td>\n",
       "      <td>0.5614</td>\n",
       "      <td>1.16100</td>\n",
       "      <td>0.098</td>\n",
       "      <td>5</td>\n",
       "      <td>2004</td>\n",
       "      <td>6</td>\n",
       "      <td>2004-05-01</td>\n",
       "    </tr>\n",
       "    <tr>\n",
       "      <th>3</th>\n",
       "      <td>CENTRO OESTE</td>\n",
       "      <td>MATO GROSSO DO SUL</td>\n",
       "      <td>ETANOL HIDRATADO</td>\n",
       "      <td>162</td>\n",
       "      <td>R$/l</td>\n",
       "      <td>1.262</td>\n",
       "      <td>0.070</td>\n",
       "      <td>1.09</td>\n",
       "      <td>1.509</td>\n",
       "      <td>0.432</td>\n",
       "      <td>0.055</td>\n",
       "      <td>0.830</td>\n",
       "      <td>0.119</td>\n",
       "      <td>0.5991</td>\n",
       "      <td>1.22242</td>\n",
       "      <td>0.143</td>\n",
       "      <td>5</td>\n",
       "      <td>2004</td>\n",
       "      <td>6</td>\n",
       "      <td>2004-05-01</td>\n",
       "    </tr>\n",
       "    <tr>\n",
       "      <th>4</th>\n",
       "      <td>NORDESTE</td>\n",
       "      <td>ALAGOAS</td>\n",
       "      <td>ETANOL HIDRATADO</td>\n",
       "      <td>103</td>\n",
       "      <td>R$/l</td>\n",
       "      <td>1.181</td>\n",
       "      <td>0.078</td>\n",
       "      <td>1.05</td>\n",
       "      <td>1.400</td>\n",
       "      <td>0.240</td>\n",
       "      <td>0.066</td>\n",
       "      <td>0.941</td>\n",
       "      <td>0.077</td>\n",
       "      <td>0.7441</td>\n",
       "      <td>1.03170</td>\n",
       "      <td>0.082</td>\n",
       "      <td>5</td>\n",
       "      <td>2004</td>\n",
       "      <td>6</td>\n",
       "      <td>2004-05-01</td>\n",
       "    </tr>\n",
       "  </tbody>\n",
       "</table>\n",
       "</div>"
      ],
      "text/plain": [
       "   macro_region               state      product_kind  \\\n",
       "0  CENTRO OESTE    DISTRITO FEDERAL  ETANOL HIDRATADO   \n",
       "1  CENTRO OESTE               GOIAS  ETANOL HIDRATADO   \n",
       "2  CENTRO OESTE         MATO GROSSO  ETANOL HIDRATADO   \n",
       "3  CENTRO OESTE  MATO GROSSO DO SUL  ETANOL HIDRATADO   \n",
       "4      NORDESTE             ALAGOAS  ETANOL HIDRATADO   \n",
       "\n",
       "   no_gas_stations_analyzed measurement_unit  avg_price    std  \\\n",
       "0                       127             R$/l      1.288  0.016   \n",
       "1                       387             R$/l      1.162  0.114   \n",
       "2                       192             R$/l      1.389  0.097   \n",
       "3                       162             R$/l      1.262  0.070   \n",
       "4                       103             R$/l      1.181  0.078   \n",
       "\n",
       "   min_price_observed  max_price_observed  mean_price_margin  \\\n",
       "0                1.19               1.350              0.463   \n",
       "1                0.89               1.449              0.399   \n",
       "2                1.18               1.760              0.419   \n",
       "3                1.09               1.509              0.432   \n",
       "4                1.05               1.400              0.240   \n",
       "\n",
       "   coefficient_of_variation  mean_distribution_price  distribution_std  \\\n",
       "0                     0.012                    0.825             0.110   \n",
       "1                     0.098                    0.763             0.088   \n",
       "2                     0.070                    0.970             0.095   \n",
       "3                     0.055                    0.830             0.119   \n",
       "4                     0.066                    0.941             0.077   \n",
       "\n",
       "   distribution_min_price  distribution_max_price  \\\n",
       "0                  0.4201                 0.96660   \n",
       "1                  0.5013                 1.05000   \n",
       "2                  0.5614                 1.16100   \n",
       "3                  0.5991                 1.22242   \n",
       "4                  0.7441                 1.03170   \n",
       "\n",
       "   distribution_coefficient_of_variation  month  year  \\\n",
       "0                                  0.133      5  2004   \n",
       "1                                  0.115      5  2004   \n",
       "2                                  0.098      5  2004   \n",
       "3                                  0.143      5  2004   \n",
       "4                                  0.082      5  2004   \n",
       "\n",
       "   num_of_days_analysis_done       date  \n",
       "0                          6 2004-05-01  \n",
       "1                          6 2004-05-01  \n",
       "2                          6 2004-05-01  \n",
       "3                          6 2004-05-01  \n",
       "4                          6 2004-05-01  "
      ]
     },
     "execution_count": 38,
     "metadata": {},
     "output_type": "execute_result"
    }
   ],
   "source": [
    "df['date'] = pd.to_datetime(df[['year', 'month']].assign(Day=1))\n",
    "df.head()"
   ]
  },
  {
   "cell_type": "markdown",
   "metadata": {},
   "source": [
    "Now, we'll remove the 'year' and 'month' columns since we don't need them anymore."
   ]
  },
  {
   "cell_type": "code",
   "execution_count": 39,
   "metadata": {
    "ExecuteTime": {
     "end_time": "2019-09-05T14:08:53.687213Z",
     "start_time": "2019-09-05T14:08:53.660301Z"
    }
   },
   "outputs": [
    {
     "data": {
      "text/html": [
       "<div>\n",
       "<style scoped>\n",
       "    .dataframe tbody tr th:only-of-type {\n",
       "        vertical-align: middle;\n",
       "    }\n",
       "\n",
       "    .dataframe tbody tr th {\n",
       "        vertical-align: top;\n",
       "    }\n",
       "\n",
       "    .dataframe thead th {\n",
       "        text-align: right;\n",
       "    }\n",
       "</style>\n",
       "<table border=\"1\" class=\"dataframe\">\n",
       "  <thead>\n",
       "    <tr style=\"text-align: right;\">\n",
       "      <th></th>\n",
       "      <th>macro_region</th>\n",
       "      <th>state</th>\n",
       "      <th>product_kind</th>\n",
       "      <th>no_gas_stations_analyzed</th>\n",
       "      <th>measurement_unit</th>\n",
       "      <th>avg_price</th>\n",
       "      <th>std</th>\n",
       "      <th>min_price_observed</th>\n",
       "      <th>max_price_observed</th>\n",
       "      <th>mean_price_margin</th>\n",
       "      <th>coefficient_of_variation</th>\n",
       "      <th>mean_distribution_price</th>\n",
       "      <th>distribution_std</th>\n",
       "      <th>distribution_min_price</th>\n",
       "      <th>distribution_max_price</th>\n",
       "      <th>distribution_coefficient_of_variation</th>\n",
       "      <th>num_of_days_analysis_done</th>\n",
       "      <th>date</th>\n",
       "    </tr>\n",
       "  </thead>\n",
       "  <tbody>\n",
       "    <tr>\n",
       "      <th>0</th>\n",
       "      <td>CENTRO OESTE</td>\n",
       "      <td>DISTRITO FEDERAL</td>\n",
       "      <td>ETANOL HIDRATADO</td>\n",
       "      <td>127</td>\n",
       "      <td>R$/l</td>\n",
       "      <td>1.288</td>\n",
       "      <td>0.016</td>\n",
       "      <td>1.19</td>\n",
       "      <td>1.350</td>\n",
       "      <td>0.463</td>\n",
       "      <td>0.012</td>\n",
       "      <td>0.825</td>\n",
       "      <td>0.110</td>\n",
       "      <td>0.4201</td>\n",
       "      <td>0.96660</td>\n",
       "      <td>0.133</td>\n",
       "      <td>6</td>\n",
       "      <td>2004-05-01</td>\n",
       "    </tr>\n",
       "    <tr>\n",
       "      <th>1</th>\n",
       "      <td>CENTRO OESTE</td>\n",
       "      <td>GOIAS</td>\n",
       "      <td>ETANOL HIDRATADO</td>\n",
       "      <td>387</td>\n",
       "      <td>R$/l</td>\n",
       "      <td>1.162</td>\n",
       "      <td>0.114</td>\n",
       "      <td>0.89</td>\n",
       "      <td>1.449</td>\n",
       "      <td>0.399</td>\n",
       "      <td>0.098</td>\n",
       "      <td>0.763</td>\n",
       "      <td>0.088</td>\n",
       "      <td>0.5013</td>\n",
       "      <td>1.05000</td>\n",
       "      <td>0.115</td>\n",
       "      <td>6</td>\n",
       "      <td>2004-05-01</td>\n",
       "    </tr>\n",
       "    <tr>\n",
       "      <th>2</th>\n",
       "      <td>CENTRO OESTE</td>\n",
       "      <td>MATO GROSSO</td>\n",
       "      <td>ETANOL HIDRATADO</td>\n",
       "      <td>192</td>\n",
       "      <td>R$/l</td>\n",
       "      <td>1.389</td>\n",
       "      <td>0.097</td>\n",
       "      <td>1.18</td>\n",
       "      <td>1.760</td>\n",
       "      <td>0.419</td>\n",
       "      <td>0.070</td>\n",
       "      <td>0.970</td>\n",
       "      <td>0.095</td>\n",
       "      <td>0.5614</td>\n",
       "      <td>1.16100</td>\n",
       "      <td>0.098</td>\n",
       "      <td>6</td>\n",
       "      <td>2004-05-01</td>\n",
       "    </tr>\n",
       "    <tr>\n",
       "      <th>3</th>\n",
       "      <td>CENTRO OESTE</td>\n",
       "      <td>MATO GROSSO DO SUL</td>\n",
       "      <td>ETANOL HIDRATADO</td>\n",
       "      <td>162</td>\n",
       "      <td>R$/l</td>\n",
       "      <td>1.262</td>\n",
       "      <td>0.070</td>\n",
       "      <td>1.09</td>\n",
       "      <td>1.509</td>\n",
       "      <td>0.432</td>\n",
       "      <td>0.055</td>\n",
       "      <td>0.830</td>\n",
       "      <td>0.119</td>\n",
       "      <td>0.5991</td>\n",
       "      <td>1.22242</td>\n",
       "      <td>0.143</td>\n",
       "      <td>6</td>\n",
       "      <td>2004-05-01</td>\n",
       "    </tr>\n",
       "    <tr>\n",
       "      <th>4</th>\n",
       "      <td>NORDESTE</td>\n",
       "      <td>ALAGOAS</td>\n",
       "      <td>ETANOL HIDRATADO</td>\n",
       "      <td>103</td>\n",
       "      <td>R$/l</td>\n",
       "      <td>1.181</td>\n",
       "      <td>0.078</td>\n",
       "      <td>1.05</td>\n",
       "      <td>1.400</td>\n",
       "      <td>0.240</td>\n",
       "      <td>0.066</td>\n",
       "      <td>0.941</td>\n",
       "      <td>0.077</td>\n",
       "      <td>0.7441</td>\n",
       "      <td>1.03170</td>\n",
       "      <td>0.082</td>\n",
       "      <td>6</td>\n",
       "      <td>2004-05-01</td>\n",
       "    </tr>\n",
       "  </tbody>\n",
       "</table>\n",
       "</div>"
      ],
      "text/plain": [
       "   macro_region               state      product_kind  \\\n",
       "0  CENTRO OESTE    DISTRITO FEDERAL  ETANOL HIDRATADO   \n",
       "1  CENTRO OESTE               GOIAS  ETANOL HIDRATADO   \n",
       "2  CENTRO OESTE         MATO GROSSO  ETANOL HIDRATADO   \n",
       "3  CENTRO OESTE  MATO GROSSO DO SUL  ETANOL HIDRATADO   \n",
       "4      NORDESTE             ALAGOAS  ETANOL HIDRATADO   \n",
       "\n",
       "   no_gas_stations_analyzed measurement_unit  avg_price    std  \\\n",
       "0                       127             R$/l      1.288  0.016   \n",
       "1                       387             R$/l      1.162  0.114   \n",
       "2                       192             R$/l      1.389  0.097   \n",
       "3                       162             R$/l      1.262  0.070   \n",
       "4                       103             R$/l      1.181  0.078   \n",
       "\n",
       "   min_price_observed  max_price_observed  mean_price_margin  \\\n",
       "0                1.19               1.350              0.463   \n",
       "1                0.89               1.449              0.399   \n",
       "2                1.18               1.760              0.419   \n",
       "3                1.09               1.509              0.432   \n",
       "4                1.05               1.400              0.240   \n",
       "\n",
       "   coefficient_of_variation  mean_distribution_price  distribution_std  \\\n",
       "0                     0.012                    0.825             0.110   \n",
       "1                     0.098                    0.763             0.088   \n",
       "2                     0.070                    0.970             0.095   \n",
       "3                     0.055                    0.830             0.119   \n",
       "4                     0.066                    0.941             0.077   \n",
       "\n",
       "   distribution_min_price  distribution_max_price  \\\n",
       "0                  0.4201                 0.96660   \n",
       "1                  0.5013                 1.05000   \n",
       "2                  0.5614                 1.16100   \n",
       "3                  0.5991                 1.22242   \n",
       "4                  0.7441                 1.03170   \n",
       "\n",
       "   distribution_coefficient_of_variation  num_of_days_analysis_done       date  \n",
       "0                                  0.133                          6 2004-05-01  \n",
       "1                                  0.115                          6 2004-05-01  \n",
       "2                                  0.098                          6 2004-05-01  \n",
       "3                                  0.143                          6 2004-05-01  \n",
       "4                                  0.082                          6 2004-05-01  "
      ]
     },
     "execution_count": 39,
     "metadata": {},
     "output_type": "execute_result"
    }
   ],
   "source": [
    "df.drop(['year', 'month'], axis=1, inplace=True)\n",
    "df.head()"
   ]
  },
  {
   "cell_type": "code",
   "execution_count": 40,
   "metadata": {
    "ExecuteTime": {
     "end_time": "2019-09-05T14:08:53.702173Z",
     "start_time": "2019-09-05T14:08:53.689208Z"
    }
   },
   "outputs": [
    {
     "data": {
      "text/html": [
       "<div>\n",
       "<style scoped>\n",
       "    .dataframe tbody tr th:only-of-type {\n",
       "        vertical-align: middle;\n",
       "    }\n",
       "\n",
       "    .dataframe tbody tr th {\n",
       "        vertical-align: top;\n",
       "    }\n",
       "\n",
       "    .dataframe thead th {\n",
       "        text-align: right;\n",
       "    }\n",
       "</style>\n",
       "<table border=\"1\" class=\"dataframe\">\n",
       "  <thead>\n",
       "    <tr style=\"text-align: right;\">\n",
       "      <th></th>\n",
       "      <th>Data Type</th>\n",
       "    </tr>\n",
       "  </thead>\n",
       "  <tbody>\n",
       "    <tr>\n",
       "      <th>macro_region</th>\n",
       "      <td>object</td>\n",
       "    </tr>\n",
       "    <tr>\n",
       "      <th>state</th>\n",
       "      <td>object</td>\n",
       "    </tr>\n",
       "    <tr>\n",
       "      <th>product_kind</th>\n",
       "      <td>object</td>\n",
       "    </tr>\n",
       "    <tr>\n",
       "      <th>no_gas_stations_analyzed</th>\n",
       "      <td>int64</td>\n",
       "    </tr>\n",
       "    <tr>\n",
       "      <th>measurement_unit</th>\n",
       "      <td>object</td>\n",
       "    </tr>\n",
       "    <tr>\n",
       "      <th>avg_price</th>\n",
       "      <td>float64</td>\n",
       "    </tr>\n",
       "    <tr>\n",
       "      <th>std</th>\n",
       "      <td>float64</td>\n",
       "    </tr>\n",
       "    <tr>\n",
       "      <th>min_price_observed</th>\n",
       "      <td>float64</td>\n",
       "    </tr>\n",
       "    <tr>\n",
       "      <th>max_price_observed</th>\n",
       "      <td>float64</td>\n",
       "    </tr>\n",
       "    <tr>\n",
       "      <th>mean_price_margin</th>\n",
       "      <td>float64</td>\n",
       "    </tr>\n",
       "    <tr>\n",
       "      <th>coefficient_of_variation</th>\n",
       "      <td>float64</td>\n",
       "    </tr>\n",
       "    <tr>\n",
       "      <th>mean_distribution_price</th>\n",
       "      <td>float64</td>\n",
       "    </tr>\n",
       "    <tr>\n",
       "      <th>distribution_std</th>\n",
       "      <td>float64</td>\n",
       "    </tr>\n",
       "    <tr>\n",
       "      <th>distribution_min_price</th>\n",
       "      <td>float64</td>\n",
       "    </tr>\n",
       "    <tr>\n",
       "      <th>distribution_max_price</th>\n",
       "      <td>float64</td>\n",
       "    </tr>\n",
       "    <tr>\n",
       "      <th>distribution_coefficient_of_variation</th>\n",
       "      <td>float64</td>\n",
       "    </tr>\n",
       "    <tr>\n",
       "      <th>num_of_days_analysis_done</th>\n",
       "      <td>int64</td>\n",
       "    </tr>\n",
       "    <tr>\n",
       "      <th>date</th>\n",
       "      <td>datetime64[ns]</td>\n",
       "    </tr>\n",
       "  </tbody>\n",
       "</table>\n",
       "</div>"
      ],
      "text/plain": [
       "                                            Data Type\n",
       "macro_region                                   object\n",
       "state                                          object\n",
       "product_kind                                   object\n",
       "no_gas_stations_analyzed                        int64\n",
       "measurement_unit                               object\n",
       "avg_price                                     float64\n",
       "std                                           float64\n",
       "min_price_observed                            float64\n",
       "max_price_observed                            float64\n",
       "mean_price_margin                             float64\n",
       "coefficient_of_variation                      float64\n",
       "mean_distribution_price                       float64\n",
       "distribution_std                              float64\n",
       "distribution_min_price                        float64\n",
       "distribution_max_price                        float64\n",
       "distribution_coefficient_of_variation         float64\n",
       "num_of_days_analysis_done                       int64\n",
       "date                                   datetime64[ns]"
      ]
     },
     "execution_count": 40,
     "metadata": {},
     "output_type": "execute_result"
    }
   ],
   "source": [
    "df.dtypes.to_frame('Data Type')"
   ]
  },
  {
   "cell_type": "markdown",
   "metadata": {},
   "source": [
    "#### Hurrayyy"
   ]
  },
  {
   "cell_type": "markdown",
   "metadata": {},
   "source": [
    "Now that our data is cleaned and some new features are engineered. It's time for some **Exploratory Data Analysis** to find the answers to the questions asked earlier."
   ]
  },
  {
   "cell_type": "markdown",
   "metadata": {},
   "source": [
    "# Answering the questions"
   ]
  },
  {
   "cell_type": "markdown",
   "metadata": {},
   "source": [
    "Let's perform EDA to find the answer to the given three questions:<br>\n",
    "<ol>\n",
    "<li>How different regions of Brazil saw their gas prices change?</li>\n",
    "<li>Within a region, which states increased more their prices?</li>\n",
    "<li>Which states are the cheapest (or most expensive) for different types of fuels?</li>\n",
    "</ol>"
   ]
  },
  {
   "cell_type": "markdown",
   "metadata": {},
   "source": [
    "Let's first check the kind of gases we have."
   ]
  },
  {
   "cell_type": "code",
   "execution_count": 41,
   "metadata": {
    "ExecuteTime": {
     "end_time": "2019-09-05T14:10:27.089715Z",
     "start_time": "2019-09-05T14:10:27.079741Z"
    }
   },
   "outputs": [
    {
     "data": {
      "text/plain": [
       "array(['ETANOL HIDRATADO', 'GASOLINA COMUM', 'GLP', 'GNV', 'ÓLEO DIESEL',\n",
       "       'ÓLEO DIESEL S10'], dtype=object)"
      ]
     },
     "execution_count": 41,
     "metadata": {},
     "output_type": "execute_result"
    }
   ],
   "source": [
    "df.product_kind.unique()"
   ]
  },
  {
   "cell_type": "markdown",
   "metadata": {},
   "source": [
    "We need to calculate the percentage change of the prices in order to continue."
   ]
  },
  {
   "cell_type": "code",
   "execution_count": null,
   "metadata": {
    "ExecuteTime": {
     "end_time": "2019-09-04T22:41:24.060233Z",
     "start_time": "2019-09-04T22:41:24.052252Z"
    }
   },
   "outputs": [],
   "source": [
    "# df.avg_price = df.avg_price.pct_change() * 100\n",
    "# df.avg_price.head()"
   ]
  },
  {
   "cell_type": "code",
   "execution_count": null,
   "metadata": {
    "ExecuteTime": {
     "end_time": "2019-09-04T22:41:25.539484Z",
     "start_time": "2019-09-04T22:41:25.533499Z"
    }
   },
   "outputs": [],
   "source": [
    "# df.head()"
   ]
  },
  {
   "cell_type": "markdown",
   "metadata": {},
   "source": [
    "## Question 1: How different regions of Brazil saw their gas prices change?"
   ]
  },
  {
   "cell_type": "markdown",
   "metadata": {},
   "source": [
    "## Question 2: Within a region, which states increased more their prices?"
   ]
  },
  {
   "cell_type": "code",
   "execution_count": 80,
   "metadata": {
    "ExecuteTime": {
     "end_time": "2019-09-05T14:45:47.236358Z",
     "start_time": "2019-09-05T14:45:47.204442Z"
    },
    "run_control": {
     "marked": false
    },
    "scrolled": true
   },
   "outputs": [
    {
     "data": {
      "text/html": [
       "<div>\n",
       "<style scoped>\n",
       "    .dataframe tbody tr th:only-of-type {\n",
       "        vertical-align: middle;\n",
       "    }\n",
       "\n",
       "    .dataframe tbody tr th {\n",
       "        vertical-align: top;\n",
       "    }\n",
       "\n",
       "    .dataframe thead th {\n",
       "        text-align: right;\n",
       "    }\n",
       "</style>\n",
       "<table border=\"1\" class=\"dataframe\">\n",
       "  <thead>\n",
       "    <tr style=\"text-align: right;\">\n",
       "      <th></th>\n",
       "      <th></th>\n",
       "      <th>avg_price</th>\n",
       "    </tr>\n",
       "    <tr>\n",
       "      <th>macro_region</th>\n",
       "      <th>state</th>\n",
       "      <th></th>\n",
       "    </tr>\n",
       "  </thead>\n",
       "  <tbody>\n",
       "    <tr>\n",
       "      <th rowspan=\"4\" valign=\"top\">CENTRO OESTE</th>\n",
       "      <th>DISTRITO FEDERAL</th>\n",
       "      <td>73.929</td>\n",
       "    </tr>\n",
       "    <tr>\n",
       "      <th>GOIAS</th>\n",
       "      <td>74.320</td>\n",
       "    </tr>\n",
       "    <tr>\n",
       "      <th>MATO GROSSO</th>\n",
       "      <td>99.357</td>\n",
       "    </tr>\n",
       "    <tr>\n",
       "      <th>MATO GROSSO DO SUL</th>\n",
       "      <td>77.911</td>\n",
       "    </tr>\n",
       "    <tr>\n",
       "      <th rowspan=\"9\" valign=\"top\">NORDESTE</th>\n",
       "      <th>ALAGOAS</th>\n",
       "      <td>69.185</td>\n",
       "    </tr>\n",
       "    <tr>\n",
       "      <th>BAHIA</th>\n",
       "      <td>63.577</td>\n",
       "    </tr>\n",
       "    <tr>\n",
       "      <th>CEARA</th>\n",
       "      <td>75.317</td>\n",
       "    </tr>\n",
       "    <tr>\n",
       "      <th>MARANHAO</th>\n",
       "      <td>75.972</td>\n",
       "    </tr>\n",
       "    <tr>\n",
       "      <th>PARAIBA</th>\n",
       "      <td>68.410</td>\n",
       "    </tr>\n",
       "    <tr>\n",
       "      <th>PERNAMBUCO</th>\n",
       "      <td>66.993</td>\n",
       "    </tr>\n",
       "    <tr>\n",
       "      <th>PIAUI</th>\n",
       "      <td>73.125</td>\n",
       "    </tr>\n",
       "    <tr>\n",
       "      <th>RIO GRANDE DO NORTE</th>\n",
       "      <td>72.233</td>\n",
       "    </tr>\n",
       "    <tr>\n",
       "      <th>SERGIPE</th>\n",
       "      <td>79.630</td>\n",
       "    </tr>\n",
       "    <tr>\n",
       "      <th rowspan=\"7\" valign=\"top\">NORTE</th>\n",
       "      <th>ACRE</th>\n",
       "      <td>81.072</td>\n",
       "    </tr>\n",
       "    <tr>\n",
       "      <th>AMAPA</th>\n",
       "      <td>80.081</td>\n",
       "    </tr>\n",
       "    <tr>\n",
       "      <th>AMAZONAS</th>\n",
       "      <td>73.916</td>\n",
       "    </tr>\n",
       "    <tr>\n",
       "      <th>PARA</th>\n",
       "      <td>77.192</td>\n",
       "    </tr>\n",
       "    <tr>\n",
       "      <th>RONDONIA</th>\n",
       "      <td>79.352</td>\n",
       "    </tr>\n",
       "    <tr>\n",
       "      <th>RORAIMA</th>\n",
       "      <td>85.375</td>\n",
       "    </tr>\n",
       "    <tr>\n",
       "      <th>TOCANTINS</th>\n",
       "      <td>87.270</td>\n",
       "    </tr>\n",
       "    <tr>\n",
       "      <th rowspan=\"4\" valign=\"top\">SUDESTE</th>\n",
       "      <th>ESPIRITO SANTO</th>\n",
       "      <td>65.438</td>\n",
       "    </tr>\n",
       "    <tr>\n",
       "      <th>MINAS GERAIS</th>\n",
       "      <td>79.192</td>\n",
       "    </tr>\n",
       "    <tr>\n",
       "      <th>RIO DE JANEIRO</th>\n",
       "      <td>67.679</td>\n",
       "    </tr>\n",
       "    <tr>\n",
       "      <th>SAO PAULO</th>\n",
       "      <td>70.800</td>\n",
       "    </tr>\n",
       "    <tr>\n",
       "      <th rowspan=\"3\" valign=\"top\">SUL</th>\n",
       "      <th>PARANA</th>\n",
       "      <td>70.631</td>\n",
       "    </tr>\n",
       "    <tr>\n",
       "      <th>RIO GRANDE DO SUL</th>\n",
       "      <td>70.729</td>\n",
       "    </tr>\n",
       "    <tr>\n",
       "      <th>SANTA CATARINA</th>\n",
       "      <td>72.088</td>\n",
       "    </tr>\n",
       "  </tbody>\n",
       "</table>\n",
       "</div>"
      ],
      "text/plain": [
       "                                  avg_price\n",
       "macro_region state                         \n",
       "CENTRO OESTE DISTRITO FEDERAL        73.929\n",
       "             GOIAS                   74.320\n",
       "             MATO GROSSO             99.357\n",
       "             MATO GROSSO DO SUL      77.911\n",
       "NORDESTE     ALAGOAS                 69.185\n",
       "             BAHIA                   63.577\n",
       "             CEARA                   75.317\n",
       "             MARANHAO                75.972\n",
       "             PARAIBA                 68.410\n",
       "             PERNAMBUCO              66.993\n",
       "             PIAUI                   73.125\n",
       "             RIO GRANDE DO NORTE     72.233\n",
       "             SERGIPE                 79.630\n",
       "NORTE        ACRE                    81.072\n",
       "             AMAPA                   80.081\n",
       "             AMAZONAS                73.916\n",
       "             PARA                    77.192\n",
       "             RONDONIA                79.352\n",
       "             RORAIMA                 85.375\n",
       "             TOCANTINS               87.270\n",
       "SUDESTE      ESPIRITO SANTO          65.438\n",
       "             MINAS GERAIS            79.192\n",
       "             RIO DE JANEIRO          67.679\n",
       "             SAO PAULO               70.800\n",
       "SUL          PARANA                  70.631\n",
       "             RIO GRANDE DO SUL       70.729\n",
       "             SANTA CATARINA          72.088"
      ]
     },
     "execution_count": 80,
     "metadata": {},
     "output_type": "execute_result"
    }
   ],
   "source": [
    "df_region_state = df.groupby(['macro_region', 'state'])['avg_price'].max().to_frame()\n",
    "df_region_state"
   ]
  },
  {
   "cell_type": "code",
   "execution_count": 81,
   "metadata": {
    "ExecuteTime": {
     "end_time": "2019-09-05T14:45:47.638308Z",
     "start_time": "2019-09-05T14:45:47.615368Z"
    },
    "run_control": {
     "marked": false
    }
   },
   "outputs": [
    {
     "name": "stdout",
     "output_type": "stream",
     "text": [
      "For region, CENTRO OESTE the state, MATO GROSSO has increased most in their prices. Average price: 99.357\n",
      "\n",
      "For region, NORDESTE the state, SERGIPE has increased most in their prices. Average price: 79.63\n",
      "\n",
      "For region, NORTE the state, TOCANTINS has increased most in their prices. Average price: 87.27\n",
      "\n",
      "For region, SUDESTE the state, MINAS GERAIS has increased most in their prices. Average price: 79.192\n",
      "\n",
      "For region, SUL the state, SANTA CATARINA has increased most in their prices. Average price: 72.08800000000002\n",
      "\n"
     ]
    }
   ],
   "source": [
    "df_region_state = df_region_state.reset_index()\n",
    "\n",
    "for region in list(df_region_state.macro_region.unique()):\n",
    "    df_temp = df_region_state[df_region_state.macro_region == region][['state', 'avg_price']]\n",
    "    region_name = region\n",
    "    state_name = df_temp[df_temp.avg_price == df_temp.avg_price.max()]['state'].iloc[0]\n",
    "    price = df_temp.avg_price.max()\n",
    "    print('For region,', region, 'the state,', state_name, 'has increased most in their prices. Average price:', price)\n",
    "    print()  # Adding a line-space"
   ]
  },
  {
   "cell_type": "code",
   "execution_count": 82,
   "metadata": {
    "ExecuteTime": {
     "end_time": "2019-09-05T14:45:49.694397Z",
     "start_time": "2019-09-05T14:45:49.037624Z"
    }
   },
   "outputs": [
    {
     "data": {
      "text/plain": [
       "<matplotlib.axes._subplots.AxesSubplot at 0x1dfa5237f98>"
      ]
     },
     "execution_count": 82,
     "metadata": {},
     "output_type": "execute_result"
    },
    {
     "data": {
      "image/png": "[encoded data removed]",
      "text/plain": [
       "<Figure size 432x288 with 1 Axes>"
      ]
     },
     "metadata": {
      "needs_background": "light"
     },
     "output_type": "display_data"
    }
   ],
   "source": [
    "sns.barplot(y='avg_price', x='state', hue='macro_region', data=df_region_state)"
   ]
  },
  {
   "cell_type": "markdown",
   "metadata": {},
   "source": [
    "## Question 3: Which states are the cheapest (or most expensive) for different types of fuels?"
   ]
  },
  {
   "cell_type": "markdown",
   "metadata": {},
   "source": [
    "Let's first check the different kinds of fuel we have."
   ]
  },
  {
   "cell_type": "code",
   "execution_count": 83,
   "metadata": {
    "ExecuteTime": {
     "end_time": "2019-09-05T14:45:50.589620Z",
     "start_time": "2019-09-05T14:45:50.578649Z"
    }
   },
   "outputs": [
    {
     "data": {
      "text/plain": [
       "['ETANOL HIDRATADO',\n",
       " 'GASOLINA COMUM',\n",
       " 'GLP',\n",
       " 'GNV',\n",
       " 'ÓLEO DIESEL',\n",
       " 'ÓLEO DIESEL S10']"
      ]
     },
     "execution_count": 83,
     "metadata": {},
     "output_type": "execute_result"
    }
   ],
   "source": [
    "list(df.product_kind.unique())"
   ]
  },
  {
   "cell_type": "markdown",
   "metadata": {},
   "source": [
    "Now, let's check how different states are cheapest or most expensive w.r.t the type of fuel."
   ]
  },
  {
   "cell_type": "code",
   "execution_count": 84,
   "metadata": {
    "ExecuteTime": {
     "end_time": "2019-09-05T14:45:56.858220Z",
     "start_time": "2019-09-05T14:45:51.835991Z"
    }
   },
   "outputs": [
    {
     "data": {
      "text/plain": [
       "<seaborn.axisgrid.FacetGrid at 0x1dfa52e3940>"
      ]
     },
     "execution_count": 84,
     "metadata": {},
     "output_type": "execute_result"
    },
    {
     "data": {
      "image/png": "[encoded data removed]",
      "text/plain": [
       "<Figure size 720x1080 with 6 Axes>"
      ]
     },
     "metadata": {
      "needs_background": "light"
     },
     "output_type": "display_data"
    }
   ],
   "source": [
    "sns.catplot(kind='bar', x='avg_price', y='state', col='product_kind', col_wrap=2, data=df)"
   ]
  },
  {
   "cell_type": "code",
   "execution_count": null,
   "metadata": {},
   "outputs": [],
   "source": []
  }
 ],
 "metadata": {
  "hide_input": false,
  "kernelspec": {
   "display_name": "Python 3",
   "language": "python",
   "name": "python3"
  },
  "language_info": {
   "codemirror_mode": {
    "name": "ipython",
    "version": 3
   },
   "file_extension": ".py",
   "mimetype": "text/x-python",
   "name": "python",
   "nbconvert_exporter": "python",
   "pygments_lexer": "ipython3",
   "version": "3.7.0"
  },
  "toc": {
   "base_numbering": 1,
   "nav_menu": {},
   "number_sections": false,
   "sideBar": true,
   "skip_h1_title": false,
   "title_cell": "Table of Contents",
   "title_sidebar": "Contents",
   "toc_cell": false,
   "toc_position": {
    "height": "calc(100% - 180px)",
    "left": "10px",
    "top": "150px",
    "width": "314.352px"
   },
   "toc_section_display": true,
   "toc_window_display": false
  },
  "varInspector": {
   "cols": {
    "lenName": 16,
    "lenType": 16,
    "lenVar": 40
   },
   "kernels_config": {
    "python": {
     "delete_cmd_postfix": "",
     "delete_cmd_prefix": "del ",
     "library": "var_list.py",
     "varRefreshCmd": "print(var_dic_list())"
    },
    "r": {
     "delete_cmd_postfix": ") ",
     "delete_cmd_prefix": "rm(",
     "library": "var_list.r",
     "varRefreshCmd": "cat(var_dic_list()) "
    }
   },
   "types_to_exclude": [
    "module",
    "function",
    "builtin_function_or_method",
    "instance",
    "_Feature"
   ],
   "window_display": false
  }
 },
 "nbformat": 4,
 "nbformat_minor": 2
}
