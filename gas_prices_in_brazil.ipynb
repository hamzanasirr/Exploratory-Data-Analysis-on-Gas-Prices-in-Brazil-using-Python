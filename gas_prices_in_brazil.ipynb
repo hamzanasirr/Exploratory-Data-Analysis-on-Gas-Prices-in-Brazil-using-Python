{
 "cells": [
  {
   "cell_type": "markdown",
   "metadata": {},
   "source": [
    "# Information from Kaggle"
   ]
  },
  {
   "cell_type": "markdown",
   "metadata": {},
   "source": [
    "The following information is directly copied from this dataset's <a href='https://www.kaggle.com/matheusfreitag/gas-prices-in-brazil' target='_blank'>Kaggle Page</a>."
   ]
  },
  {
   "cell_type": "markdown",
   "metadata": {},
   "source": [
    "<h2>The Data</h2>\n",
    "\n",
    "<p>The National Agency of Petroleum, Natural Gas and Bio fuels (<em>ANP</em> in Portuguese) releases weekly reports of gas, diesel and other fuels prices used in transportation across the country. These datasets bring the mean value per liter, number of gas stations analyzed and other information grouped by regions and states across the country.</p>\n",
    "\n",
    "<h2>Source</h2>\n",
    "\n",
    "<p>As stated before, these datasets are provided by ANP, and are regularly updated with new dates and information - which can be retrieved <a href=\"http://www.anp.gov.br/precos-e-defesa-da-concorrencia/precos/levantamento-de-precos/serie-historica-do-levantamento-de-precos-e-de-margens-de-comercializacao-de-combustiveis\" rel=\"nofollow\">here</a> (in portuguese).</p>\n",
    "\n",
    "<h2>What can be done with this?</h2>\n",
    "\n",
    "<ul>\n",
    "<li>How different regions of Brazil saw their gas prices change?</li>\n",
    "<li>Within a region, which states increased more their prices?</li>\n",
    "<li>Which states are the cheapest (or most expensive) for different types of fuels?</li>\n",
    "</ul>"
   ]
  },
  {
   "cell_type": "markdown",
   "metadata": {},
   "source": [
    "<a href='https://www.kaggle.com/matheusfreitag/gas-prices-in-brazil' target='_blank'>Kaggle Link</a>"
   ]
  },
  {
   "cell_type": "markdown",
   "metadata": {},
   "source": [
    "# Importing the libraries"
   ]
  },
  {
   "cell_type": "code",
   "execution_count": 1,
   "metadata": {
    "ExecuteTime": {
     "end_time": "2019-08-04T08:13:26.859924Z",
     "start_time": "2019-08-04T08:13:25.738812Z"
    }
   },
   "outputs": [],
   "source": [
    "# Importing the libraries\n",
    "import pandas as pd\n",
    "import numpy as np\n",
    "import matplotlib.pyplot as plt\n",
    "import seaborn as sns\n",
    "import warnings\n",
    "\n",
    "%matplotlib inline\n",
    "sns.set()\n",
    "\n",
    "# Ignoring warnings\n",
    "warnings.simplefilter('ignore')"
   ]
  },
  {
   "cell_type": "markdown",
   "metadata": {},
   "source": [
    "Loading the dataset into a pandas dataframe."
   ]
  },
  {
   "cell_type": "code",
   "execution_count": 2,
   "metadata": {
    "ExecuteTime": {
     "end_time": "2019-08-04T08:13:27.820928Z",
     "start_time": "2019-08-04T08:13:26.861858Z"
    }
   },
   "outputs": [
    {
     "data": {
      "text/html": [
       "<div>\n",
       "<style scoped>\n",
       "    .dataframe tbody tr th:only-of-type {\n",
       "        vertical-align: middle;\n",
       "    }\n",
       "\n",
       "    .dataframe tbody tr th {\n",
       "        vertical-align: top;\n",
       "    }\n",
       "\n",
       "    .dataframe thead th {\n",
       "        text-align: right;\n",
       "    }\n",
       "</style>\n",
       "<table border=\"1\" class=\"dataframe\">\n",
       "  <thead>\n",
       "    <tr style=\"text-align: right;\">\n",
       "      <th></th>\n",
       "      <th>Unnamed: 0</th>\n",
       "      <th>DATA INICIAL</th>\n",
       "      <th>DATA FINAL</th>\n",
       "      <th>REGIÃO</th>\n",
       "      <th>ESTADO</th>\n",
       "      <th>PRODUTO</th>\n",
       "      <th>NÚMERO DE POSTOS PESQUISADOS</th>\n",
       "      <th>UNIDADE DE MEDIDA</th>\n",
       "      <th>PREÇO MÉDIO REVENDA</th>\n",
       "      <th>DESVIO PADRÃO REVENDA</th>\n",
       "      <th>...</th>\n",
       "      <th>PREÇO MÁXIMO REVENDA</th>\n",
       "      <th>MARGEM MÉDIA REVENDA</th>\n",
       "      <th>COEF DE VARIAÇÃO REVENDA</th>\n",
       "      <th>PREÇO MÉDIO DISTRIBUIÇÃO</th>\n",
       "      <th>DESVIO PADRÃO DISTRIBUIÇÃO</th>\n",
       "      <th>PREÇO MÍNIMO DISTRIBUIÇÃO</th>\n",
       "      <th>PREÇO MÁXIMO DISTRIBUIÇÃO</th>\n",
       "      <th>COEF DE VARIAÇÃO DISTRIBUIÇÃO</th>\n",
       "      <th>MÊS</th>\n",
       "      <th>ANO</th>\n",
       "    </tr>\n",
       "  </thead>\n",
       "  <tbody>\n",
       "    <tr>\n",
       "      <th>0</th>\n",
       "      <td>0</td>\n",
       "      <td>2004-05-09</td>\n",
       "      <td>2004-05-15</td>\n",
       "      <td>CENTRO OESTE</td>\n",
       "      <td>DISTRITO FEDERAL</td>\n",
       "      <td>ETANOL HIDRATADO</td>\n",
       "      <td>127</td>\n",
       "      <td>R$/l</td>\n",
       "      <td>1.288</td>\n",
       "      <td>0.016</td>\n",
       "      <td>...</td>\n",
       "      <td>1.350</td>\n",
       "      <td>0.463</td>\n",
       "      <td>0.012</td>\n",
       "      <td>0.825</td>\n",
       "      <td>0.11</td>\n",
       "      <td>0.4201</td>\n",
       "      <td>0.9666</td>\n",
       "      <td>0.133</td>\n",
       "      <td>5</td>\n",
       "      <td>2004</td>\n",
       "    </tr>\n",
       "    <tr>\n",
       "      <th>1</th>\n",
       "      <td>1</td>\n",
       "      <td>2004-05-09</td>\n",
       "      <td>2004-05-15</td>\n",
       "      <td>CENTRO OESTE</td>\n",
       "      <td>GOIAS</td>\n",
       "      <td>ETANOL HIDRATADO</td>\n",
       "      <td>387</td>\n",
       "      <td>R$/l</td>\n",
       "      <td>1.162</td>\n",
       "      <td>0.114</td>\n",
       "      <td>...</td>\n",
       "      <td>1.449</td>\n",
       "      <td>0.399</td>\n",
       "      <td>0.098</td>\n",
       "      <td>0.763</td>\n",
       "      <td>0.088</td>\n",
       "      <td>0.5013</td>\n",
       "      <td>1.05</td>\n",
       "      <td>0.115</td>\n",
       "      <td>5</td>\n",
       "      <td>2004</td>\n",
       "    </tr>\n",
       "    <tr>\n",
       "      <th>2</th>\n",
       "      <td>2</td>\n",
       "      <td>2004-05-09</td>\n",
       "      <td>2004-05-15</td>\n",
       "      <td>CENTRO OESTE</td>\n",
       "      <td>MATO GROSSO</td>\n",
       "      <td>ETANOL HIDRATADO</td>\n",
       "      <td>192</td>\n",
       "      <td>R$/l</td>\n",
       "      <td>1.389</td>\n",
       "      <td>0.097</td>\n",
       "      <td>...</td>\n",
       "      <td>1.760</td>\n",
       "      <td>0.419</td>\n",
       "      <td>0.070</td>\n",
       "      <td>0.97</td>\n",
       "      <td>0.095</td>\n",
       "      <td>0.5614</td>\n",
       "      <td>1.161</td>\n",
       "      <td>0.098</td>\n",
       "      <td>5</td>\n",
       "      <td>2004</td>\n",
       "    </tr>\n",
       "    <tr>\n",
       "      <th>3</th>\n",
       "      <td>3</td>\n",
       "      <td>2004-05-09</td>\n",
       "      <td>2004-05-15</td>\n",
       "      <td>CENTRO OESTE</td>\n",
       "      <td>MATO GROSSO DO SUL</td>\n",
       "      <td>ETANOL HIDRATADO</td>\n",
       "      <td>162</td>\n",
       "      <td>R$/l</td>\n",
       "      <td>1.262</td>\n",
       "      <td>0.070</td>\n",
       "      <td>...</td>\n",
       "      <td>1.509</td>\n",
       "      <td>0.432</td>\n",
       "      <td>0.055</td>\n",
       "      <td>0.83</td>\n",
       "      <td>0.119</td>\n",
       "      <td>0.5991</td>\n",
       "      <td>1.22242</td>\n",
       "      <td>0.143</td>\n",
       "      <td>5</td>\n",
       "      <td>2004</td>\n",
       "    </tr>\n",
       "    <tr>\n",
       "      <th>4</th>\n",
       "      <td>4</td>\n",
       "      <td>2004-05-09</td>\n",
       "      <td>2004-05-15</td>\n",
       "      <td>NORDESTE</td>\n",
       "      <td>ALAGOAS</td>\n",
       "      <td>ETANOL HIDRATADO</td>\n",
       "      <td>103</td>\n",
       "      <td>R$/l</td>\n",
       "      <td>1.181</td>\n",
       "      <td>0.078</td>\n",
       "      <td>...</td>\n",
       "      <td>1.400</td>\n",
       "      <td>0.24</td>\n",
       "      <td>0.066</td>\n",
       "      <td>0.941</td>\n",
       "      <td>0.077</td>\n",
       "      <td>0.7441</td>\n",
       "      <td>1.0317</td>\n",
       "      <td>0.082</td>\n",
       "      <td>5</td>\n",
       "      <td>2004</td>\n",
       "    </tr>\n",
       "  </tbody>\n",
       "</table>\n",
       "<p>5 rows × 21 columns</p>\n",
       "</div>"
      ],
      "text/plain": [
       "   Unnamed: 0 DATA INICIAL DATA FINAL        REGIÃO              ESTADO  \\\n",
       "0           0   2004-05-09 2004-05-15  CENTRO OESTE    DISTRITO FEDERAL   \n",
       "1           1   2004-05-09 2004-05-15  CENTRO OESTE               GOIAS   \n",
       "2           2   2004-05-09 2004-05-15  CENTRO OESTE         MATO GROSSO   \n",
       "3           3   2004-05-09 2004-05-15  CENTRO OESTE  MATO GROSSO DO SUL   \n",
       "4           4   2004-05-09 2004-05-15      NORDESTE             ALAGOAS   \n",
       "\n",
       "            PRODUTO  NÚMERO DE POSTOS PESQUISADOS UNIDADE DE MEDIDA  \\\n",
       "0  ETANOL HIDRATADO                           127              R$/l   \n",
       "1  ETANOL HIDRATADO                           387              R$/l   \n",
       "2  ETANOL HIDRATADO                           192              R$/l   \n",
       "3  ETANOL HIDRATADO                           162              R$/l   \n",
       "4  ETANOL HIDRATADO                           103              R$/l   \n",
       "\n",
       "   PREÇO MÉDIO REVENDA  DESVIO PADRÃO REVENDA  ...   PREÇO MÁXIMO REVENDA  \\\n",
       "0                1.288                  0.016  ...                  1.350   \n",
       "1                1.162                  0.114  ...                  1.449   \n",
       "2                1.389                  0.097  ...                  1.760   \n",
       "3                1.262                  0.070  ...                  1.509   \n",
       "4                1.181                  0.078  ...                  1.400   \n",
       "\n",
       "   MARGEM MÉDIA REVENDA COEF DE VARIAÇÃO REVENDA  PREÇO MÉDIO DISTRIBUIÇÃO  \\\n",
       "0                 0.463                    0.012                     0.825   \n",
       "1                 0.399                    0.098                     0.763   \n",
       "2                 0.419                    0.070                      0.97   \n",
       "3                 0.432                    0.055                      0.83   \n",
       "4                  0.24                    0.066                     0.941   \n",
       "\n",
       "  DESVIO PADRÃO DISTRIBUIÇÃO PREÇO MÍNIMO DISTRIBUIÇÃO  \\\n",
       "0                       0.11                    0.4201   \n",
       "1                      0.088                    0.5013   \n",
       "2                      0.095                    0.5614   \n",
       "3                      0.119                    0.5991   \n",
       "4                      0.077                    0.7441   \n",
       "\n",
       "  PREÇO MÁXIMO DISTRIBUIÇÃO COEF DE VARIAÇÃO DISTRIBUIÇÃO MÊS   ANO  \n",
       "0                    0.9666                         0.133   5  2004  \n",
       "1                      1.05                         0.115   5  2004  \n",
       "2                     1.161                         0.098   5  2004  \n",
       "3                   1.22242                         0.143   5  2004  \n",
       "4                    1.0317                         0.082   5  2004  \n",
       "\n",
       "[5 rows x 21 columns]"
      ]
     },
     "execution_count": 2,
     "metadata": {},
     "output_type": "execute_result"
    }
   ],
   "source": [
    "data = pd.read_table('2004-2019.tsv', parse_dates=[1, 2])\n",
    "df = data.copy()\n",
    "\n",
    "df.head()"
   ]
  },
  {
   "cell_type": "markdown",
   "metadata": {},
   "source": [
    "# Data Wrangling"
   ]
  },
  {
   "cell_type": "markdown",
   "metadata": {},
   "source": [
    "## Deleting the unneccesary column \"Unnamed: 0\""
   ]
  },
  {
   "cell_type": "code",
   "execution_count": 3,
   "metadata": {
    "ExecuteTime": {
     "end_time": "2019-08-04T08:13:27.858825Z",
     "start_time": "2019-08-04T08:13:27.822922Z"
    }
   },
   "outputs": [
    {
     "data": {
      "text/html": [
       "<div>\n",
       "<style scoped>\n",
       "    .dataframe tbody tr th:only-of-type {\n",
       "        vertical-align: middle;\n",
       "    }\n",
       "\n",
       "    .dataframe tbody tr th {\n",
       "        vertical-align: top;\n",
       "    }\n",
       "\n",
       "    .dataframe thead th {\n",
       "        text-align: right;\n",
       "    }\n",
       "</style>\n",
       "<table border=\"1\" class=\"dataframe\">\n",
       "  <thead>\n",
       "    <tr style=\"text-align: right;\">\n",
       "      <th></th>\n",
       "      <th>DATA INICIAL</th>\n",
       "      <th>DATA FINAL</th>\n",
       "      <th>REGIÃO</th>\n",
       "      <th>ESTADO</th>\n",
       "      <th>PRODUTO</th>\n",
       "      <th>NÚMERO DE POSTOS PESQUISADOS</th>\n",
       "      <th>UNIDADE DE MEDIDA</th>\n",
       "      <th>PREÇO MÉDIO REVENDA</th>\n",
       "      <th>DESVIO PADRÃO REVENDA</th>\n",
       "      <th>PREÇO MÍNIMO REVENDA</th>\n",
       "      <th>PREÇO MÁXIMO REVENDA</th>\n",
       "      <th>MARGEM MÉDIA REVENDA</th>\n",
       "      <th>COEF DE VARIAÇÃO REVENDA</th>\n",
       "      <th>PREÇO MÉDIO DISTRIBUIÇÃO</th>\n",
       "      <th>DESVIO PADRÃO DISTRIBUIÇÃO</th>\n",
       "      <th>PREÇO MÍNIMO DISTRIBUIÇÃO</th>\n",
       "      <th>PREÇO MÁXIMO DISTRIBUIÇÃO</th>\n",
       "      <th>COEF DE VARIAÇÃO DISTRIBUIÇÃO</th>\n",
       "      <th>MÊS</th>\n",
       "      <th>ANO</th>\n",
       "    </tr>\n",
       "  </thead>\n",
       "  <tbody>\n",
       "    <tr>\n",
       "      <th>0</th>\n",
       "      <td>2004-05-09</td>\n",
       "      <td>2004-05-15</td>\n",
       "      <td>CENTRO OESTE</td>\n",
       "      <td>DISTRITO FEDERAL</td>\n",
       "      <td>ETANOL HIDRATADO</td>\n",
       "      <td>127</td>\n",
       "      <td>R$/l</td>\n",
       "      <td>1.288</td>\n",
       "      <td>0.016</td>\n",
       "      <td>1.19</td>\n",
       "      <td>1.350</td>\n",
       "      <td>0.463</td>\n",
       "      <td>0.012</td>\n",
       "      <td>0.825</td>\n",
       "      <td>0.11</td>\n",
       "      <td>0.4201</td>\n",
       "      <td>0.9666</td>\n",
       "      <td>0.133</td>\n",
       "      <td>5</td>\n",
       "      <td>2004</td>\n",
       "    </tr>\n",
       "    <tr>\n",
       "      <th>1</th>\n",
       "      <td>2004-05-09</td>\n",
       "      <td>2004-05-15</td>\n",
       "      <td>CENTRO OESTE</td>\n",
       "      <td>GOIAS</td>\n",
       "      <td>ETANOL HIDRATADO</td>\n",
       "      <td>387</td>\n",
       "      <td>R$/l</td>\n",
       "      <td>1.162</td>\n",
       "      <td>0.114</td>\n",
       "      <td>0.89</td>\n",
       "      <td>1.449</td>\n",
       "      <td>0.399</td>\n",
       "      <td>0.098</td>\n",
       "      <td>0.763</td>\n",
       "      <td>0.088</td>\n",
       "      <td>0.5013</td>\n",
       "      <td>1.05</td>\n",
       "      <td>0.115</td>\n",
       "      <td>5</td>\n",
       "      <td>2004</td>\n",
       "    </tr>\n",
       "    <tr>\n",
       "      <th>2</th>\n",
       "      <td>2004-05-09</td>\n",
       "      <td>2004-05-15</td>\n",
       "      <td>CENTRO OESTE</td>\n",
       "      <td>MATO GROSSO</td>\n",
       "      <td>ETANOL HIDRATADO</td>\n",
       "      <td>192</td>\n",
       "      <td>R$/l</td>\n",
       "      <td>1.389</td>\n",
       "      <td>0.097</td>\n",
       "      <td>1.18</td>\n",
       "      <td>1.760</td>\n",
       "      <td>0.419</td>\n",
       "      <td>0.070</td>\n",
       "      <td>0.97</td>\n",
       "      <td>0.095</td>\n",
       "      <td>0.5614</td>\n",
       "      <td>1.161</td>\n",
       "      <td>0.098</td>\n",
       "      <td>5</td>\n",
       "      <td>2004</td>\n",
       "    </tr>\n",
       "    <tr>\n",
       "      <th>3</th>\n",
       "      <td>2004-05-09</td>\n",
       "      <td>2004-05-15</td>\n",
       "      <td>CENTRO OESTE</td>\n",
       "      <td>MATO GROSSO DO SUL</td>\n",
       "      <td>ETANOL HIDRATADO</td>\n",
       "      <td>162</td>\n",
       "      <td>R$/l</td>\n",
       "      <td>1.262</td>\n",
       "      <td>0.070</td>\n",
       "      <td>1.09</td>\n",
       "      <td>1.509</td>\n",
       "      <td>0.432</td>\n",
       "      <td>0.055</td>\n",
       "      <td>0.83</td>\n",
       "      <td>0.119</td>\n",
       "      <td>0.5991</td>\n",
       "      <td>1.22242</td>\n",
       "      <td>0.143</td>\n",
       "      <td>5</td>\n",
       "      <td>2004</td>\n",
       "    </tr>\n",
       "    <tr>\n",
       "      <th>4</th>\n",
       "      <td>2004-05-09</td>\n",
       "      <td>2004-05-15</td>\n",
       "      <td>NORDESTE</td>\n",
       "      <td>ALAGOAS</td>\n",
       "      <td>ETANOL HIDRATADO</td>\n",
       "      <td>103</td>\n",
       "      <td>R$/l</td>\n",
       "      <td>1.181</td>\n",
       "      <td>0.078</td>\n",
       "      <td>1.05</td>\n",
       "      <td>1.400</td>\n",
       "      <td>0.24</td>\n",
       "      <td>0.066</td>\n",
       "      <td>0.941</td>\n",
       "      <td>0.077</td>\n",
       "      <td>0.7441</td>\n",
       "      <td>1.0317</td>\n",
       "      <td>0.082</td>\n",
       "      <td>5</td>\n",
       "      <td>2004</td>\n",
       "    </tr>\n",
       "  </tbody>\n",
       "</table>\n",
       "</div>"
      ],
      "text/plain": [
       "  DATA INICIAL DATA FINAL        REGIÃO              ESTADO           PRODUTO  \\\n",
       "0   2004-05-09 2004-05-15  CENTRO OESTE    DISTRITO FEDERAL  ETANOL HIDRATADO   \n",
       "1   2004-05-09 2004-05-15  CENTRO OESTE               GOIAS  ETANOL HIDRATADO   \n",
       "2   2004-05-09 2004-05-15  CENTRO OESTE         MATO GROSSO  ETANOL HIDRATADO   \n",
       "3   2004-05-09 2004-05-15  CENTRO OESTE  MATO GROSSO DO SUL  ETANOL HIDRATADO   \n",
       "4   2004-05-09 2004-05-15      NORDESTE             ALAGOAS  ETANOL HIDRATADO   \n",
       "\n",
       "   NÚMERO DE POSTOS PESQUISADOS UNIDADE DE MEDIDA  PREÇO MÉDIO REVENDA  \\\n",
       "0                           127              R$/l                1.288   \n",
       "1                           387              R$/l                1.162   \n",
       "2                           192              R$/l                1.389   \n",
       "3                           162              R$/l                1.262   \n",
       "4                           103              R$/l                1.181   \n",
       "\n",
       "   DESVIO PADRÃO REVENDA  PREÇO MÍNIMO REVENDA  PREÇO MÁXIMO REVENDA  \\\n",
       "0                  0.016                  1.19                 1.350   \n",
       "1                  0.114                  0.89                 1.449   \n",
       "2                  0.097                  1.18                 1.760   \n",
       "3                  0.070                  1.09                 1.509   \n",
       "4                  0.078                  1.05                 1.400   \n",
       "\n",
       "  MARGEM MÉDIA REVENDA  COEF DE VARIAÇÃO REVENDA PREÇO MÉDIO DISTRIBUIÇÃO  \\\n",
       "0                0.463                     0.012                    0.825   \n",
       "1                0.399                     0.098                    0.763   \n",
       "2                0.419                     0.070                     0.97   \n",
       "3                0.432                     0.055                     0.83   \n",
       "4                 0.24                     0.066                    0.941   \n",
       "\n",
       "  DESVIO PADRÃO DISTRIBUIÇÃO PREÇO MÍNIMO DISTRIBUIÇÃO  \\\n",
       "0                       0.11                    0.4201   \n",
       "1                      0.088                    0.5013   \n",
       "2                      0.095                    0.5614   \n",
       "3                      0.119                    0.5991   \n",
       "4                      0.077                    0.7441   \n",
       "\n",
       "  PREÇO MÁXIMO DISTRIBUIÇÃO COEF DE VARIAÇÃO DISTRIBUIÇÃO  MÊS   ANO  \n",
       "0                    0.9666                         0.133    5  2004  \n",
       "1                      1.05                         0.115    5  2004  \n",
       "2                     1.161                         0.098    5  2004  \n",
       "3                   1.22242                         0.143    5  2004  \n",
       "4                    1.0317                         0.082    5  2004  "
      ]
     },
     "execution_count": 3,
     "metadata": {},
     "output_type": "execute_result"
    }
   ],
   "source": [
    "df.drop(axis=1, columns=['Unnamed: 0'], inplace=True)\n",
    "df.head()"
   ]
  },
  {
   "cell_type": "markdown",
   "metadata": {},
   "source": [
    "## Renaming the column names from portuguese to English"
   ]
  },
  {
   "cell_type": "code",
   "execution_count": 4,
   "metadata": {
    "ExecuteTime": {
     "end_time": "2019-08-04T08:13:27.877776Z",
     "start_time": "2019-08-04T08:13:27.860822Z"
    }
   },
   "outputs": [
    {
     "data": {
      "text/plain": [
       "['DATA INICIAL',\n",
       " 'DATA FINAL',\n",
       " 'REGIÃO',\n",
       " 'ESTADO',\n",
       " 'PRODUTO',\n",
       " 'NÚMERO DE POSTOS PESQUISADOS',\n",
       " 'UNIDADE DE MEDIDA',\n",
       " 'PREÇO MÉDIO REVENDA',\n",
       " 'DESVIO PADRÃO REVENDA',\n",
       " 'PREÇO MÍNIMO REVENDA',\n",
       " 'PREÇO MÁXIMO REVENDA',\n",
       " 'MARGEM MÉDIA REVENDA',\n",
       " 'COEF DE VARIAÇÃO REVENDA',\n",
       " 'PREÇO MÉDIO DISTRIBUIÇÃO',\n",
       " 'DESVIO PADRÃO DISTRIBUIÇÃO',\n",
       " 'PREÇO MÍNIMO DISTRIBUIÇÃO',\n",
       " 'PREÇO MÁXIMO DISTRIBUIÇÃO',\n",
       " 'COEF DE VARIAÇÃO DISTRIBUIÇÃO',\n",
       " 'MÊS',\n",
       " 'ANO']"
      ]
     },
     "execution_count": 4,
     "metadata": {},
     "output_type": "execute_result"
    }
   ],
   "source": [
    "list(df.columns)"
   ]
  },
  {
   "cell_type": "code",
   "execution_count": 5,
   "metadata": {
    "ExecuteTime": {
     "end_time": "2019-08-04T08:13:27.897789Z",
     "start_time": "2019-08-04T08:13:27.879774Z"
    }
   },
   "outputs": [
    {
     "data": {
      "text/plain": [
       "['analysis_first_day',\n",
       " 'analysis_last_day',\n",
       " 'macro_region',\n",
       " 'state',\n",
       " 'product_kind',\n",
       " 'no_gas_stations_analyzed',\n",
       " 'measurement_unit',\n",
       " 'avg_price',\n",
       " 'std',\n",
       " 'min_price_observed',\n",
       " 'max_price_observed',\n",
       " 'mean_price_margin',\n",
       " 'coefficient_of_variation',\n",
       " 'mean_distribution_price',\n",
       " 'distribution_std',\n",
       " 'distribution_min_price',\n",
       " 'distribution_max_price',\n",
       " 'distribution_coefficient_of_variation',\n",
       " 'month',\n",
       " 'year']"
      ]
     },
     "execution_count": 5,
     "metadata": {},
     "output_type": "execute_result"
    }
   ],
   "source": [
    "new_column_names = [\n",
    "    'analysis_first_day',\n",
    "    'analysis_last_day',\n",
    "    'macro_region',\n",
    "    'state',\n",
    "    'product_kind',\n",
    "    'no_gas_stations_analyzed',\n",
    "    'measurement_unit',\n",
    "    'avg_price',\n",
    "    'std',\n",
    "    'min_price_observed',\n",
    "    'max_price_observed',\n",
    "    'mean_price_margin',\n",
    "    'coefficient_of_variation',\n",
    "    'mean_distribution_price',\n",
    "    'distribution_std',\n",
    "    'distribution_min_price',\n",
    "    'distribution_max_price',\n",
    "    'distribution_coefficient_of_variation',\n",
    "    'month',\n",
    "    'year'\n",
    "]\n",
    "\n",
    "df.columns = new_column_names\n",
    "list(df.columns)"
   ]
  },
  {
   "cell_type": "code",
   "execution_count": 6,
   "metadata": {
    "ExecuteTime": {
     "end_time": "2019-08-04T08:13:27.930635Z",
     "start_time": "2019-08-04T08:13:27.899717Z"
    }
   },
   "outputs": [
    {
     "data": {
      "text/html": [
       "<div>\n",
       "<style scoped>\n",
       "    .dataframe tbody tr th:only-of-type {\n",
       "        vertical-align: middle;\n",
       "    }\n",
       "\n",
       "    .dataframe tbody tr th {\n",
       "        vertical-align: top;\n",
       "    }\n",
       "\n",
       "    .dataframe thead th {\n",
       "        text-align: right;\n",
       "    }\n",
       "</style>\n",
       "<table border=\"1\" class=\"dataframe\">\n",
       "  <thead>\n",
       "    <tr style=\"text-align: right;\">\n",
       "      <th></th>\n",
       "      <th>analysis_first_day</th>\n",
       "      <th>analysis_last_day</th>\n",
       "      <th>macro_region</th>\n",
       "      <th>state</th>\n",
       "      <th>product_kind</th>\n",
       "      <th>no_gas_stations_analyzed</th>\n",
       "      <th>measurement_unit</th>\n",
       "      <th>avg_price</th>\n",
       "      <th>std</th>\n",
       "      <th>min_price_observed</th>\n",
       "      <th>max_price_observed</th>\n",
       "      <th>mean_price_margin</th>\n",
       "      <th>coefficient_of_variation</th>\n",
       "      <th>mean_distribution_price</th>\n",
       "      <th>distribution_std</th>\n",
       "      <th>distribution_min_price</th>\n",
       "      <th>distribution_max_price</th>\n",
       "      <th>distribution_coefficient_of_variation</th>\n",
       "      <th>month</th>\n",
       "      <th>year</th>\n",
       "    </tr>\n",
       "  </thead>\n",
       "  <tbody>\n",
       "    <tr>\n",
       "      <th>0</th>\n",
       "      <td>2004-05-09</td>\n",
       "      <td>2004-05-15</td>\n",
       "      <td>CENTRO OESTE</td>\n",
       "      <td>DISTRITO FEDERAL</td>\n",
       "      <td>ETANOL HIDRATADO</td>\n",
       "      <td>127</td>\n",
       "      <td>R$/l</td>\n",
       "      <td>1.288</td>\n",
       "      <td>0.016</td>\n",
       "      <td>1.19</td>\n",
       "      <td>1.350</td>\n",
       "      <td>0.463</td>\n",
       "      <td>0.012</td>\n",
       "      <td>0.825</td>\n",
       "      <td>0.11</td>\n",
       "      <td>0.4201</td>\n",
       "      <td>0.9666</td>\n",
       "      <td>0.133</td>\n",
       "      <td>5</td>\n",
       "      <td>2004</td>\n",
       "    </tr>\n",
       "    <tr>\n",
       "      <th>1</th>\n",
       "      <td>2004-05-09</td>\n",
       "      <td>2004-05-15</td>\n",
       "      <td>CENTRO OESTE</td>\n",
       "      <td>GOIAS</td>\n",
       "      <td>ETANOL HIDRATADO</td>\n",
       "      <td>387</td>\n",
       "      <td>R$/l</td>\n",
       "      <td>1.162</td>\n",
       "      <td>0.114</td>\n",
       "      <td>0.89</td>\n",
       "      <td>1.449</td>\n",
       "      <td>0.399</td>\n",
       "      <td>0.098</td>\n",
       "      <td>0.763</td>\n",
       "      <td>0.088</td>\n",
       "      <td>0.5013</td>\n",
       "      <td>1.05</td>\n",
       "      <td>0.115</td>\n",
       "      <td>5</td>\n",
       "      <td>2004</td>\n",
       "    </tr>\n",
       "    <tr>\n",
       "      <th>2</th>\n",
       "      <td>2004-05-09</td>\n",
       "      <td>2004-05-15</td>\n",
       "      <td>CENTRO OESTE</td>\n",
       "      <td>MATO GROSSO</td>\n",
       "      <td>ETANOL HIDRATADO</td>\n",
       "      <td>192</td>\n",
       "      <td>R$/l</td>\n",
       "      <td>1.389</td>\n",
       "      <td>0.097</td>\n",
       "      <td>1.18</td>\n",
       "      <td>1.760</td>\n",
       "      <td>0.419</td>\n",
       "      <td>0.070</td>\n",
       "      <td>0.97</td>\n",
       "      <td>0.095</td>\n",
       "      <td>0.5614</td>\n",
       "      <td>1.161</td>\n",
       "      <td>0.098</td>\n",
       "      <td>5</td>\n",
       "      <td>2004</td>\n",
       "    </tr>\n",
       "    <tr>\n",
       "      <th>3</th>\n",
       "      <td>2004-05-09</td>\n",
       "      <td>2004-05-15</td>\n",
       "      <td>CENTRO OESTE</td>\n",
       "      <td>MATO GROSSO DO SUL</td>\n",
       "      <td>ETANOL HIDRATADO</td>\n",
       "      <td>162</td>\n",
       "      <td>R$/l</td>\n",
       "      <td>1.262</td>\n",
       "      <td>0.070</td>\n",
       "      <td>1.09</td>\n",
       "      <td>1.509</td>\n",
       "      <td>0.432</td>\n",
       "      <td>0.055</td>\n",
       "      <td>0.83</td>\n",
       "      <td>0.119</td>\n",
       "      <td>0.5991</td>\n",
       "      <td>1.22242</td>\n",
       "      <td>0.143</td>\n",
       "      <td>5</td>\n",
       "      <td>2004</td>\n",
       "    </tr>\n",
       "    <tr>\n",
       "      <th>4</th>\n",
       "      <td>2004-05-09</td>\n",
       "      <td>2004-05-15</td>\n",
       "      <td>NORDESTE</td>\n",
       "      <td>ALAGOAS</td>\n",
       "      <td>ETANOL HIDRATADO</td>\n",
       "      <td>103</td>\n",
       "      <td>R$/l</td>\n",
       "      <td>1.181</td>\n",
       "      <td>0.078</td>\n",
       "      <td>1.05</td>\n",
       "      <td>1.400</td>\n",
       "      <td>0.24</td>\n",
       "      <td>0.066</td>\n",
       "      <td>0.941</td>\n",
       "      <td>0.077</td>\n",
       "      <td>0.7441</td>\n",
       "      <td>1.0317</td>\n",
       "      <td>0.082</td>\n",
       "      <td>5</td>\n",
       "      <td>2004</td>\n",
       "    </tr>\n",
       "  </tbody>\n",
       "</table>\n",
       "</div>"
      ],
      "text/plain": [
       "  analysis_first_day analysis_last_day  macro_region               state  \\\n",
       "0         2004-05-09        2004-05-15  CENTRO OESTE    DISTRITO FEDERAL   \n",
       "1         2004-05-09        2004-05-15  CENTRO OESTE               GOIAS   \n",
       "2         2004-05-09        2004-05-15  CENTRO OESTE         MATO GROSSO   \n",
       "3         2004-05-09        2004-05-15  CENTRO OESTE  MATO GROSSO DO SUL   \n",
       "4         2004-05-09        2004-05-15      NORDESTE             ALAGOAS   \n",
       "\n",
       "       product_kind  no_gas_stations_analyzed measurement_unit  avg_price  \\\n",
       "0  ETANOL HIDRATADO                       127             R$/l      1.288   \n",
       "1  ETANOL HIDRATADO                       387             R$/l      1.162   \n",
       "2  ETANOL HIDRATADO                       192             R$/l      1.389   \n",
       "3  ETANOL HIDRATADO                       162             R$/l      1.262   \n",
       "4  ETANOL HIDRATADO                       103             R$/l      1.181   \n",
       "\n",
       "     std  min_price_observed  max_price_observed mean_price_margin  \\\n",
       "0  0.016                1.19               1.350             0.463   \n",
       "1  0.114                0.89               1.449             0.399   \n",
       "2  0.097                1.18               1.760             0.419   \n",
       "3  0.070                1.09               1.509             0.432   \n",
       "4  0.078                1.05               1.400              0.24   \n",
       "\n",
       "   coefficient_of_variation mean_distribution_price distribution_std  \\\n",
       "0                     0.012                   0.825             0.11   \n",
       "1                     0.098                   0.763            0.088   \n",
       "2                     0.070                    0.97            0.095   \n",
       "3                     0.055                    0.83            0.119   \n",
       "4                     0.066                   0.941            0.077   \n",
       "\n",
       "  distribution_min_price distribution_max_price  \\\n",
       "0                 0.4201                 0.9666   \n",
       "1                 0.5013                   1.05   \n",
       "2                 0.5614                  1.161   \n",
       "3                 0.5991                1.22242   \n",
       "4                 0.7441                 1.0317   \n",
       "\n",
       "  distribution_coefficient_of_variation  month  year  \n",
       "0                                 0.133      5  2004  \n",
       "1                                 0.115      5  2004  \n",
       "2                                 0.098      5  2004  \n",
       "3                                 0.143      5  2004  \n",
       "4                                 0.082      5  2004  "
      ]
     },
     "execution_count": 6,
     "metadata": {},
     "output_type": "execute_result"
    }
   ],
   "source": [
    "df.head()"
   ]
  },
  {
   "cell_type": "markdown",
   "metadata": {},
   "source": [
    "## Check for any null value"
   ]
  },
  {
   "cell_type": "code",
   "execution_count": 7,
   "metadata": {
    "ExecuteTime": {
     "end_time": "2019-08-04T08:13:28.020395Z",
     "start_time": "2019-08-04T08:13:27.931631Z"
    }
   },
   "outputs": [
    {
     "data": {
      "text/plain": [
       "analysis_first_day                       0\n",
       "analysis_last_day                        0\n",
       "macro_region                             0\n",
       "state                                    0\n",
       "product_kind                             0\n",
       "no_gas_stations_analyzed                 0\n",
       "measurement_unit                         0\n",
       "avg_price                                0\n",
       "std                                      0\n",
       "min_price_observed                       0\n",
       "max_price_observed                       0\n",
       "mean_price_margin                        0\n",
       "coefficient_of_variation                 0\n",
       "mean_distribution_price                  0\n",
       "distribution_std                         0\n",
       "distribution_min_price                   0\n",
       "distribution_max_price                   0\n",
       "distribution_coefficient_of_variation    0\n",
       "month                                    0\n",
       "year                                     0\n",
       "dtype: int64"
      ]
     },
     "execution_count": 7,
     "metadata": {},
     "output_type": "execute_result"
    }
   ],
   "source": [
    "df.isnull().sum()"
   ]
  },
  {
   "cell_type": "markdown",
   "metadata": {},
   "source": [
    "We have no null value so no need to worry about it 'yet'."
   ]
  },
  {
   "cell_type": "markdown",
   "metadata": {},
   "source": [
    "## Number of Rows and Columns"
   ]
  },
  {
   "cell_type": "code",
   "execution_count": 8,
   "metadata": {
    "ExecuteTime": {
     "end_time": "2019-08-04T08:13:28.026379Z",
     "start_time": "2019-08-04T08:13:28.022389Z"
    }
   },
   "outputs": [
    {
     "name": "stdout",
     "output_type": "stream",
     "text": [
      "Number of rows:    106823\n",
      "Number of Columns: 20\n"
     ]
    }
   ],
   "source": [
    "print('Number of rows:   ', df.shape[0])\n",
    "print('Number of Columns:', df.shape[1])"
   ]
  },
  {
   "cell_type": "markdown",
   "metadata": {},
   "source": [
    "## Let's check the summary statistics"
   ]
  },
  {
   "cell_type": "code",
   "execution_count": 9,
   "metadata": {
    "ExecuteTime": {
     "end_time": "2019-08-04T08:13:28.112151Z",
     "start_time": "2019-08-04T08:13:28.028373Z"
    }
   },
   "outputs": [
    {
     "data": {
      "text/html": [
       "<div>\n",
       "<style scoped>\n",
       "    .dataframe tbody tr th:only-of-type {\n",
       "        vertical-align: middle;\n",
       "    }\n",
       "\n",
       "    .dataframe tbody tr th {\n",
       "        vertical-align: top;\n",
       "    }\n",
       "\n",
       "    .dataframe thead th {\n",
       "        text-align: right;\n",
       "    }\n",
       "</style>\n",
       "<table border=\"1\" class=\"dataframe\">\n",
       "  <thead>\n",
       "    <tr style=\"text-align: right;\">\n",
       "      <th></th>\n",
       "      <th>no_gas_stations_analyzed</th>\n",
       "      <th>avg_price</th>\n",
       "      <th>std</th>\n",
       "      <th>min_price_observed</th>\n",
       "      <th>max_price_observed</th>\n",
       "      <th>coefficient_of_variation</th>\n",
       "      <th>month</th>\n",
       "      <th>year</th>\n",
       "    </tr>\n",
       "  </thead>\n",
       "  <tbody>\n",
       "    <tr>\n",
       "      <th>count</th>\n",
       "      <td>106823.000000</td>\n",
       "      <td>106823.000000</td>\n",
       "      <td>106823.000000</td>\n",
       "      <td>106823.000000</td>\n",
       "      <td>106823.000000</td>\n",
       "      <td>106823.000000</td>\n",
       "      <td>106823.000000</td>\n",
       "      <td>106823.000000</td>\n",
       "    </tr>\n",
       "    <tr>\n",
       "      <th>mean</th>\n",
       "      <td>233.770976</td>\n",
       "      <td>10.870780</td>\n",
       "      <td>0.657227</td>\n",
       "      <td>9.416038</td>\n",
       "      <td>12.537731</td>\n",
       "      <td>0.045418</td>\n",
       "      <td>6.484006</td>\n",
       "      <td>2011.802271</td>\n",
       "    </tr>\n",
       "    <tr>\n",
       "      <th>std</th>\n",
       "      <td>403.282519</td>\n",
       "      <td>17.752533</td>\n",
       "      <td>1.349169</td>\n",
       "      <td>15.092193</td>\n",
       "      <td>20.841497</td>\n",
       "      <td>0.025066</td>\n",
       "      <td>3.443391</td>\n",
       "      <td>4.391530</td>\n",
       "    </tr>\n",
       "    <tr>\n",
       "      <th>min</th>\n",
       "      <td>1.000000</td>\n",
       "      <td>0.766000</td>\n",
       "      <td>0.000000</td>\n",
       "      <td>0.590000</td>\n",
       "      <td>0.999000</td>\n",
       "      <td>0.000000</td>\n",
       "      <td>1.000000</td>\n",
       "      <td>2004.000000</td>\n",
       "    </tr>\n",
       "    <tr>\n",
       "      <th>25%</th>\n",
       "      <td>42.000000</td>\n",
       "      <td>2.072000</td>\n",
       "      <td>0.072000</td>\n",
       "      <td>1.900000</td>\n",
       "      <td>2.310000</td>\n",
       "      <td>0.029000</td>\n",
       "      <td>4.000000</td>\n",
       "      <td>2008.000000</td>\n",
       "    </tr>\n",
       "    <tr>\n",
       "      <th>50%</th>\n",
       "      <td>104.000000</td>\n",
       "      <td>2.718000</td>\n",
       "      <td>0.114000</td>\n",
       "      <td>2.510000</td>\n",
       "      <td>2.999000</td>\n",
       "      <td>0.041000</td>\n",
       "      <td>6.000000</td>\n",
       "      <td>2012.000000</td>\n",
       "    </tr>\n",
       "    <tr>\n",
       "      <th>75%</th>\n",
       "      <td>243.000000</td>\n",
       "      <td>3.752000</td>\n",
       "      <td>0.191000</td>\n",
       "      <td>3.499000</td>\n",
       "      <td>4.150000</td>\n",
       "      <td>0.058000</td>\n",
       "      <td>9.000000</td>\n",
       "      <td>2016.000000</td>\n",
       "    </tr>\n",
       "    <tr>\n",
       "      <th>max</th>\n",
       "      <td>4167.000000</td>\n",
       "      <td>99.357000</td>\n",
       "      <td>10.748000</td>\n",
       "      <td>90.000000</td>\n",
       "      <td>120.000000</td>\n",
       "      <td>0.395000</td>\n",
       "      <td>12.000000</td>\n",
       "      <td>2019.000000</td>\n",
       "    </tr>\n",
       "  </tbody>\n",
       "</table>\n",
       "</div>"
      ],
      "text/plain": [
       "       no_gas_stations_analyzed      avg_price            std  \\\n",
       "count             106823.000000  106823.000000  106823.000000   \n",
       "mean                 233.770976      10.870780       0.657227   \n",
       "std                  403.282519      17.752533       1.349169   \n",
       "min                    1.000000       0.766000       0.000000   \n",
       "25%                   42.000000       2.072000       0.072000   \n",
       "50%                  104.000000       2.718000       0.114000   \n",
       "75%                  243.000000       3.752000       0.191000   \n",
       "max                 4167.000000      99.357000      10.748000   \n",
       "\n",
       "       min_price_observed  max_price_observed  coefficient_of_variation  \\\n",
       "count       106823.000000       106823.000000             106823.000000   \n",
       "mean             9.416038           12.537731                  0.045418   \n",
       "std             15.092193           20.841497                  0.025066   \n",
       "min              0.590000            0.999000                  0.000000   \n",
       "25%              1.900000            2.310000                  0.029000   \n",
       "50%              2.510000            2.999000                  0.041000   \n",
       "75%              3.499000            4.150000                  0.058000   \n",
       "max             90.000000          120.000000                  0.395000   \n",
       "\n",
       "               month           year  \n",
       "count  106823.000000  106823.000000  \n",
       "mean        6.484006    2011.802271  \n",
       "std         3.443391       4.391530  \n",
       "min         1.000000    2004.000000  \n",
       "25%         4.000000    2008.000000  \n",
       "50%         6.000000    2012.000000  \n",
       "75%         9.000000    2016.000000  \n",
       "max        12.000000    2019.000000  "
      ]
     },
     "execution_count": 9,
     "metadata": {},
     "output_type": "execute_result"
    }
   ],
   "source": [
    "df.describe()"
   ]
  },
  {
   "cell_type": "markdown",
   "metadata": {},
   "source": [
    "We can see that the price column is right skewed because mean is greater than the 50% quartile (or median). This information may come in handy later."
   ]
  },
  {
   "cell_type": "markdown",
   "metadata": {},
   "source": [
    "## Datatypes"
   ]
  },
  {
   "cell_type": "code",
   "execution_count": 10,
   "metadata": {
    "ExecuteTime": {
     "end_time": "2019-08-04T08:13:28.126114Z",
     "start_time": "2019-08-04T08:13:28.115141Z"
    }
   },
   "outputs": [
    {
     "data": {
      "text/html": [
       "<div>\n",
       "<style scoped>\n",
       "    .dataframe tbody tr th:only-of-type {\n",
       "        vertical-align: middle;\n",
       "    }\n",
       "\n",
       "    .dataframe tbody tr th {\n",
       "        vertical-align: top;\n",
       "    }\n",
       "\n",
       "    .dataframe thead th {\n",
       "        text-align: right;\n",
       "    }\n",
       "</style>\n",
       "<table border=\"1\" class=\"dataframe\">\n",
       "  <thead>\n",
       "    <tr style=\"text-align: right;\">\n",
       "      <th></th>\n",
       "      <th>Data Type</th>\n",
       "    </tr>\n",
       "  </thead>\n",
       "  <tbody>\n",
       "    <tr>\n",
       "      <th>analysis_first_day</th>\n",
       "      <td>datetime64[ns]</td>\n",
       "    </tr>\n",
       "    <tr>\n",
       "      <th>analysis_last_day</th>\n",
       "      <td>datetime64[ns]</td>\n",
       "    </tr>\n",
       "    <tr>\n",
       "      <th>macro_region</th>\n",
       "      <td>object</td>\n",
       "    </tr>\n",
       "    <tr>\n",
       "      <th>state</th>\n",
       "      <td>object</td>\n",
       "    </tr>\n",
       "    <tr>\n",
       "      <th>product_kind</th>\n",
       "      <td>object</td>\n",
       "    </tr>\n",
       "    <tr>\n",
       "      <th>no_gas_stations_analyzed</th>\n",
       "      <td>int64</td>\n",
       "    </tr>\n",
       "    <tr>\n",
       "      <th>measurement_unit</th>\n",
       "      <td>object</td>\n",
       "    </tr>\n",
       "    <tr>\n",
       "      <th>avg_price</th>\n",
       "      <td>float64</td>\n",
       "    </tr>\n",
       "    <tr>\n",
       "      <th>std</th>\n",
       "      <td>float64</td>\n",
       "    </tr>\n",
       "    <tr>\n",
       "      <th>min_price_observed</th>\n",
       "      <td>float64</td>\n",
       "    </tr>\n",
       "    <tr>\n",
       "      <th>max_price_observed</th>\n",
       "      <td>float64</td>\n",
       "    </tr>\n",
       "    <tr>\n",
       "      <th>mean_price_margin</th>\n",
       "      <td>object</td>\n",
       "    </tr>\n",
       "    <tr>\n",
       "      <th>coefficient_of_variation</th>\n",
       "      <td>float64</td>\n",
       "    </tr>\n",
       "    <tr>\n",
       "      <th>mean_distribution_price</th>\n",
       "      <td>object</td>\n",
       "    </tr>\n",
       "    <tr>\n",
       "      <th>distribution_std</th>\n",
       "      <td>object</td>\n",
       "    </tr>\n",
       "    <tr>\n",
       "      <th>distribution_min_price</th>\n",
       "      <td>object</td>\n",
       "    </tr>\n",
       "    <tr>\n",
       "      <th>distribution_max_price</th>\n",
       "      <td>object</td>\n",
       "    </tr>\n",
       "    <tr>\n",
       "      <th>distribution_coefficient_of_variation</th>\n",
       "      <td>object</td>\n",
       "    </tr>\n",
       "    <tr>\n",
       "      <th>month</th>\n",
       "      <td>int64</td>\n",
       "    </tr>\n",
       "    <tr>\n",
       "      <th>year</th>\n",
       "      <td>int64</td>\n",
       "    </tr>\n",
       "  </tbody>\n",
       "</table>\n",
       "</div>"
      ],
      "text/plain": [
       "                                            Data Type\n",
       "analysis_first_day                     datetime64[ns]\n",
       "analysis_last_day                      datetime64[ns]\n",
       "macro_region                                   object\n",
       "state                                          object\n",
       "product_kind                                   object\n",
       "no_gas_stations_analyzed                        int64\n",
       "measurement_unit                               object\n",
       "avg_price                                     float64\n",
       "std                                           float64\n",
       "min_price_observed                            float64\n",
       "max_price_observed                            float64\n",
       "mean_price_margin                              object\n",
       "coefficient_of_variation                      float64\n",
       "mean_distribution_price                        object\n",
       "distribution_std                               object\n",
       "distribution_min_price                         object\n",
       "distribution_max_price                         object\n",
       "distribution_coefficient_of_variation          object\n",
       "month                                           int64\n",
       "year                                            int64"
      ]
     },
     "execution_count": 10,
     "metadata": {},
     "output_type": "execute_result"
    }
   ],
   "source": [
    "df.dtypes.to_frame(name='Data Type')"
   ]
  },
  {
   "cell_type": "markdown",
   "metadata": {},
   "source": [
    "Let's check some of the datatypes which are object and should be numerical."
   ]
  },
  {
   "cell_type": "code",
   "execution_count": 11,
   "metadata": {
    "ExecuteTime": {
     "end_time": "2019-08-04T08:13:28.145068Z",
     "start_time": "2019-08-04T08:13:28.128108Z"
    }
   },
   "outputs": [
    {
     "data": {
      "text/html": [
       "<div>\n",
       "<style scoped>\n",
       "    .dataframe tbody tr th:only-of-type {\n",
       "        vertical-align: middle;\n",
       "    }\n",
       "\n",
       "    .dataframe tbody tr th {\n",
       "        vertical-align: top;\n",
       "    }\n",
       "\n",
       "    .dataframe thead th {\n",
       "        text-align: right;\n",
       "    }\n",
       "</style>\n",
       "<table border=\"1\" class=\"dataframe\">\n",
       "  <thead>\n",
       "    <tr style=\"text-align: right;\">\n",
       "      <th></th>\n",
       "      <th>index</th>\n",
       "    </tr>\n",
       "  </thead>\n",
       "  <tbody>\n",
       "    <tr>\n",
       "      <th>0</th>\n",
       "      <td>macro_region</td>\n",
       "    </tr>\n",
       "    <tr>\n",
       "      <th>1</th>\n",
       "      <td>state</td>\n",
       "    </tr>\n",
       "    <tr>\n",
       "      <th>2</th>\n",
       "      <td>product_kind</td>\n",
       "    </tr>\n",
       "    <tr>\n",
       "      <th>3</th>\n",
       "      <td>measurement_unit</td>\n",
       "    </tr>\n",
       "    <tr>\n",
       "      <th>4</th>\n",
       "      <td>mean_price_margin</td>\n",
       "    </tr>\n",
       "    <tr>\n",
       "      <th>5</th>\n",
       "      <td>mean_distribution_price</td>\n",
       "    </tr>\n",
       "    <tr>\n",
       "      <th>6</th>\n",
       "      <td>distribution_std</td>\n",
       "    </tr>\n",
       "    <tr>\n",
       "      <th>7</th>\n",
       "      <td>distribution_min_price</td>\n",
       "    </tr>\n",
       "    <tr>\n",
       "      <th>8</th>\n",
       "      <td>distribution_max_price</td>\n",
       "    </tr>\n",
       "    <tr>\n",
       "      <th>9</th>\n",
       "      <td>distribution_coefficient_of_variation</td>\n",
       "    </tr>\n",
       "  </tbody>\n",
       "</table>\n",
       "</div>"
      ],
      "text/plain": [
       "                                   index\n",
       "0                           macro_region\n",
       "1                                  state\n",
       "2                           product_kind\n",
       "3                       measurement_unit\n",
       "4                      mean_price_margin\n",
       "5                mean_distribution_price\n",
       "6                       distribution_std\n",
       "7                 distribution_min_price\n",
       "8                 distribution_max_price\n",
       "9  distribution_coefficient_of_variation"
      ]
     },
     "execution_count": 11,
     "metadata": {},
     "output_type": "execute_result"
    }
   ],
   "source": [
    "check_df = (df.dtypes == np.object).reset_index()\n",
    "check_df[check_df[0] == True]['index'].reset_index().drop('level_0', axis=1)"
   ]
  },
  {
   "cell_type": "markdown",
   "metadata": {},
   "source": [
    "Data types of the following columns should be numerical but are of type object:<br>\n",
    "* mean_price_margin\n",
    "* mean_distribution_price\n",
    "* distribution_std\n",
    "* distribution_min_price\n",
    "* distribution_max_price\n",
    "* distribution_coefficient_of_variation"
   ]
  },
  {
   "cell_type": "markdown",
   "metadata": {},
   "source": [
    "### Dealing with the column: mean_price_margin"
   ]
  },
  {
   "cell_type": "markdown",
   "metadata": {},
   "source": [
    "Let's first check the unique values."
   ]
  },
  {
   "cell_type": "code",
   "execution_count": 12,
   "metadata": {
    "ExecuteTime": {
     "end_time": "2019-08-04T08:13:28.166004Z",
     "start_time": "2019-08-04T08:13:28.147056Z"
    }
   },
   "outputs": [
    {
     "data": {
      "text/plain": [
       "array(['0.463', '0.399', '0.419', ..., '1.007', '0.876', '1.179'],\n",
       "      dtype=object)"
      ]
     },
     "execution_count": 12,
     "metadata": {},
     "output_type": "execute_result"
    }
   ],
   "source": [
    "df.mean_price_margin.unique()"
   ]
  },
  {
   "cell_type": "markdown",
   "metadata": {},
   "source": [
    "Now, let's check if there is a value other than floats."
   ]
  },
  {
   "cell_type": "code",
   "execution_count": 13,
   "metadata": {
    "ExecuteTime": {
     "end_time": "2019-08-04T08:13:28.172987Z",
     "start_time": "2019-08-04T08:13:28.167999Z"
    }
   },
   "outputs": [],
   "source": [
    "def is_float(n):\n",
    "    try:\n",
    "        float(n)\n",
    "        return True\n",
    "    except ValueError:\n",
    "        return False"
   ]
  },
  {
   "cell_type": "code",
   "execution_count": 14,
   "metadata": {
    "ExecuteTime": {
     "end_time": "2019-08-04T08:13:28.245793Z",
     "start_time": "2019-08-04T08:13:28.174981Z"
    }
   },
   "outputs": [
    {
     "data": {
      "text/plain": [
       "array(['-'], dtype=object)"
      ]
     },
     "execution_count": 14,
     "metadata": {},
     "output_type": "execute_result"
    }
   ],
   "source": [
    "df.mean_price_margin[~df.mean_price_margin.apply(lambda x: is_float(x))].unique()"
   ]
  },
  {
   "cell_type": "markdown",
   "metadata": {},
   "source": [
    "Let's check the ratio of \"-\" appearing in the table as compared to the all rows to decide how to replace it."
   ]
  },
  {
   "cell_type": "code",
   "execution_count": 15,
   "metadata": {
    "ExecuteTime": {
     "end_time": "2019-08-04T08:13:28.319594Z",
     "start_time": "2019-08-04T08:13:28.246788Z"
    }
   },
   "outputs": [
    {
     "name": "stdout",
     "output_type": "stream",
     "text": [
      "Number of times \"-\" appeared: 3431\n",
      "Total number of entries:      106823\n",
      "Percentage of occurance:      3.21 %\n"
     ]
    }
   ],
   "source": [
    "appearance = df.mean_price_margin[~df.mean_price_margin.apply(lambda x: is_float(x))].value_counts().iloc[0]\n",
    "total_entries = df.shape[0]\n",
    "perc_of_occurance = (appearance / total_entries) * 100\n",
    "\n",
    "print('Number of times \"-\" appeared:', appearance)\n",
    "print('Total number of entries:     ', total_entries)\n",
    "print('Percentage of occurance:     ', round(perc_of_occurance, 2), '%')"
   ]
  },
  {
   "cell_type": "markdown",
   "metadata": {},
   "source": [
    "Since, that is about only 3.2 percent of the total data. We might as well delete these entire rows instead of replacing them with any value."
   ]
  },
  {
   "cell_type": "code",
   "execution_count": 16,
   "metadata": {
    "ExecuteTime": {
     "end_time": "2019-08-04T08:13:28.405365Z",
     "start_time": "2019-08-04T08:13:28.321589Z"
    }
   },
   "outputs": [],
   "source": [
    "df = df[df.mean_price_margin.apply(lambda x: is_float(x))]"
   ]
  },
  {
   "cell_type": "markdown",
   "metadata": {},
   "source": [
    "Now, converting all the values of this column into float."
   ]
  },
  {
   "cell_type": "code",
   "execution_count": 17,
   "metadata": {
    "ExecuteTime": {
     "end_time": "2019-08-04T08:13:28.496123Z",
     "start_time": "2019-08-04T08:13:28.407359Z"
    }
   },
   "outputs": [
    {
     "data": {
      "text/plain": [
       "dtype('float64')"
      ]
     },
     "execution_count": 17,
     "metadata": {},
     "output_type": "execute_result"
    }
   ],
   "source": [
    "df.mean_price_margin = df.mean_price_margin.apply(lambda x: float(x))\n",
    "df.mean_price_margin.dtypes"
   ]
  },
  {
   "cell_type": "markdown",
   "metadata": {},
   "source": [
    "### Dealing with the column: mean_distribution_price"
   ]
  },
  {
   "cell_type": "markdown",
   "metadata": {},
   "source": [
    "Let's first check the unique values."
   ]
  },
  {
   "cell_type": "code",
   "execution_count": 18,
   "metadata": {
    "ExecuteTime": {
     "end_time": "2019-08-04T08:13:28.510084Z",
     "start_time": "2019-08-04T08:13:28.498116Z"
    }
   },
   "outputs": [
    {
     "data": {
      "text/plain": [
       "array(['0.825', '0.763', '0.97', ..., '49.214', '54.078', '57.05'],\n",
       "      dtype=object)"
      ]
     },
     "execution_count": 18,
     "metadata": {},
     "output_type": "execute_result"
    }
   ],
   "source": [
    "df.mean_distribution_price.unique()"
   ]
  },
  {
   "cell_type": "markdown",
   "metadata": {},
   "source": [
    "Let's check if there are any values other than floats."
   ]
  },
  {
   "cell_type": "code",
   "execution_count": 19,
   "metadata": {
    "ExecuteTime": {
     "end_time": "2019-08-04T08:13:28.591866Z",
     "start_time": "2019-08-04T08:13:28.512079Z"
    }
   },
   "outputs": [
    {
     "data": {
      "text/plain": [
       "array([], dtype=object)"
      ]
     },
     "execution_count": 19,
     "metadata": {},
     "output_type": "execute_result"
    }
   ],
   "source": [
    "df.mean_distribution_price[~df.mean_distribution_price.apply(lambda x: is_float(x))].unique()"
   ]
  },
  {
   "cell_type": "markdown",
   "metadata": {},
   "source": [
    "There are no values other than floats (in string representation). Converting all the string representations of floats to actual floats."
   ]
  },
  {
   "cell_type": "code",
   "execution_count": 20,
   "metadata": {
    "ExecuteTime": {
     "end_time": "2019-08-04T08:13:28.652703Z",
     "start_time": "2019-08-04T08:13:28.593860Z"
    }
   },
   "outputs": [
    {
     "data": {
      "text/plain": [
       "dtype('float64')"
      ]
     },
     "execution_count": 20,
     "metadata": {},
     "output_type": "execute_result"
    }
   ],
   "source": [
    "df.mean_distribution_price = df.mean_distribution_price.apply(lambda x: float(x))\n",
    "df.mean_distribution_price.dtypes"
   ]
  },
  {
   "cell_type": "markdown",
   "metadata": {
    "ExecuteTime": {
     "end_time": "2019-08-03T20:20:57.543463Z",
     "start_time": "2019-08-03T20:20:57.539473Z"
    }
   },
   "source": [
    "### Dealing with the column: distribution_std"
   ]
  },
  {
   "cell_type": "markdown",
   "metadata": {},
   "source": [
    "Let's first check the unique values."
   ]
  },
  {
   "cell_type": "code",
   "execution_count": 21,
   "metadata": {
    "ExecuteTime": {
     "end_time": "2019-08-04T08:13:28.664673Z",
     "start_time": "2019-08-04T08:13:28.654700Z"
    }
   },
   "outputs": [
    {
     "data": {
      "text/plain": [
       "array(['0.11', '0.088', '0.095', ..., '5.254', '6.52', '6.906'],\n",
       "      dtype=object)"
      ]
     },
     "execution_count": 21,
     "metadata": {},
     "output_type": "execute_result"
    }
   ],
   "source": [
    "df.distribution_std.unique()"
   ]
  },
  {
   "cell_type": "markdown",
   "metadata": {},
   "source": [
    "Let's check if values other than floats exist in the strings."
   ]
  },
  {
   "cell_type": "code",
   "execution_count": 22,
   "metadata": {
    "ExecuteTime": {
     "end_time": "2019-08-04T08:13:28.729499Z",
     "start_time": "2019-08-04T08:13:28.666667Z"
    }
   },
   "outputs": [
    {
     "data": {
      "text/plain": [
       "array([], dtype=object)"
      ]
     },
     "execution_count": 22,
     "metadata": {},
     "output_type": "execute_result"
    }
   ],
   "source": [
    "df.distribution_std[~df.distribution_std.apply(lambda x: is_float(x))].unique()"
   ]
  },
  {
   "cell_type": "markdown",
   "metadata": {},
   "source": [
    "There are no values other than floats (in string representation). Converting all the string representations of floats to actual floats."
   ]
  },
  {
   "cell_type": "code",
   "execution_count": 23,
   "metadata": {
    "ExecuteTime": {
     "end_time": "2019-08-04T08:13:28.809283Z",
     "start_time": "2019-08-04T08:13:28.730496Z"
    }
   },
   "outputs": [
    {
     "data": {
      "text/plain": [
       "dtype('float64')"
      ]
     },
     "execution_count": 23,
     "metadata": {},
     "output_type": "execute_result"
    }
   ],
   "source": [
    "df.distribution_std = df.distribution_std.apply(lambda x: float(x))\n",
    "df.distribution_std.dtypes"
   ]
  },
  {
   "cell_type": "markdown",
   "metadata": {},
   "source": [
    "### Dealing with the column: distribution_min_price"
   ]
  },
  {
   "cell_type": "markdown",
   "metadata": {},
   "source": [
    "Let's first check the unique values."
   ]
  },
  {
   "cell_type": "code",
   "execution_count": 24,
   "metadata": {
    "ExecuteTime": {
     "end_time": "2019-08-04T08:13:28.824244Z",
     "start_time": "2019-08-04T08:13:28.811280Z"
    }
   },
   "outputs": [
    {
     "data": {
      "text/plain": [
       "array(['0.4201', '0.5013', '0.5614', ..., '50.68', '61.92', '40.19'],\n",
       "      dtype=object)"
      ]
     },
     "execution_count": 24,
     "metadata": {},
     "output_type": "execute_result"
    }
   ],
   "source": [
    "df.distribution_min_price.unique()"
   ]
  },
  {
   "cell_type": "markdown",
   "metadata": {},
   "source": [
    "Now, let's check if any value other than float exists."
   ]
  },
  {
   "cell_type": "code",
   "execution_count": 25,
   "metadata": {
    "ExecuteTime": {
     "end_time": "2019-08-04T08:13:28.931958Z",
     "start_time": "2019-08-04T08:13:28.826238Z"
    }
   },
   "outputs": [
    {
     "data": {
      "text/plain": [
       "array([], dtype=object)"
      ]
     },
     "execution_count": 25,
     "metadata": {},
     "output_type": "execute_result"
    }
   ],
   "source": [
    "df.distribution_min_price[~df.distribution_min_price.apply(lambda x: is_float(x))].unique()"
   ]
  },
  {
   "cell_type": "markdown",
   "metadata": {},
   "source": [
    "No value other than float exists. Let's convert the values to actual floats."
   ]
  },
  {
   "cell_type": "code",
   "execution_count": 26,
   "metadata": {
    "ExecuteTime": {
     "end_time": "2019-08-04T08:13:28.999775Z",
     "start_time": "2019-08-04T08:13:28.933953Z"
    }
   },
   "outputs": [
    {
     "data": {
      "text/plain": [
       "dtype('float64')"
      ]
     },
     "execution_count": 26,
     "metadata": {},
     "output_type": "execute_result"
    }
   ],
   "source": [
    "df.distribution_min_price = df.distribution_min_price.apply(lambda x: float(x))\n",
    "df.distribution_min_price.dtypes"
   ]
  },
  {
   "cell_type": "markdown",
   "metadata": {},
   "source": [
    "### Dealing with the column: distribution_max_price"
   ]
  },
  {
   "cell_type": "markdown",
   "metadata": {},
   "source": [
    "Let's check the unique values."
   ]
  },
  {
   "cell_type": "code",
   "execution_count": 27,
   "metadata": {
    "ExecuteTime": {
     "end_time": "2019-08-04T08:13:29.014734Z",
     "start_time": "2019-08-04T08:13:29.001769Z"
    }
   },
   "outputs": [
    {
     "data": {
      "text/plain": [
       "array(['0.9666', '1.05', '1.161', ..., '4.3999', '4.095', '3.825'],\n",
       "      dtype=object)"
      ]
     },
     "execution_count": 27,
     "metadata": {},
     "output_type": "execute_result"
    }
   ],
   "source": [
    "df.distribution_max_price.unique()"
   ]
  },
  {
   "cell_type": "markdown",
   "metadata": {},
   "source": [
    "Now, let's check if any value other than float exists."
   ]
  },
  {
   "cell_type": "code",
   "execution_count": 28,
   "metadata": {
    "ExecuteTime": {
     "end_time": "2019-08-04T08:13:29.089534Z",
     "start_time": "2019-08-04T08:13:29.016729Z"
    }
   },
   "outputs": [
    {
     "data": {
      "text/plain": [
       "array([], dtype=object)"
      ]
     },
     "execution_count": 28,
     "metadata": {},
     "output_type": "execute_result"
    }
   ],
   "source": [
    "df.distribution_max_price[~df.distribution_max_price.apply(lambda x: is_float(x))].unique()"
   ]
  },
  {
   "cell_type": "markdown",
   "metadata": {},
   "source": [
    "Converting the values to float."
   ]
  },
  {
   "cell_type": "code",
   "execution_count": 29,
   "metadata": {
    "ExecuteTime": {
     "end_time": "2019-08-04T08:13:29.155375Z",
     "start_time": "2019-08-04T08:13:29.091530Z"
    }
   },
   "outputs": [
    {
     "data": {
      "text/plain": [
       "dtype('float64')"
      ]
     },
     "execution_count": 29,
     "metadata": {},
     "output_type": "execute_result"
    }
   ],
   "source": [
    "df.distribution_max_price = df.distribution_max_price.apply(lambda x: float(x))\n",
    "df.distribution_min_price.dtypes"
   ]
  },
  {
   "cell_type": "markdown",
   "metadata": {},
   "source": [
    "### Dealing with the column: distribution_coefficient_of_variation"
   ]
  },
  {
   "cell_type": "markdown",
   "metadata": {},
   "source": [
    "Checking the unique values."
   ]
  },
  {
   "cell_type": "code",
   "execution_count": 30,
   "metadata": {
    "ExecuteTime": {
     "end_time": "2019-08-04T08:13:29.169321Z",
     "start_time": "2019-08-04T08:13:29.157352Z"
    },
    "scrolled": true
   },
   "outputs": [
    {
     "data": {
      "text/plain": [
       "array(['0.133', '0.115', '0.098', '0.143', '0.082', '0.134', '0.062',\n",
       "       '0.077', '0.096', '0.072', '0.083', '0.053', '0.153', '0.122',\n",
       "       '0.06', '0.172', '0.147', '0.087', '0.168', '0.108', '0.151',\n",
       "       '0.22', '0.157', '0.101', '0.119', '0.135', '0.116', '0.079',\n",
       "       '0.139', '0.07', '0.054', '0.095', '0.084', '0.085', '0.149',\n",
       "       '0.035', '0.059', '0.105', '0.217', '0.15', '0.123', '0.167',\n",
       "       '0.111', '0.148', '0.128', '0.058', '0.088', '0.063', '0.162',\n",
       "       '0.04', '0.156', '0.12', '0.08', '0.097', '0.141', '0.202',\n",
       "       '0.103', '0.099', '0.164', '0.118', '0.081', '0.125', '0.091',\n",
       "       '0.078', '0.106', '0.159', '0.049', '0.066', '0.126', '0.052',\n",
       "       '0.221', '0.112', '0.131', '0.107', '0.138', '0.144', '0.073',\n",
       "       '0.11', '0.086', '0.068', '0.136', '0.074', '0.14', '0.104',\n",
       "       '0.17', '0.161', '0.093', '0.155', '0.094', '0.113', '0.064',\n",
       "       '0.13', '0.109', '0.21', '0.16', '0.09', '0.163', '0.069', '0.129',\n",
       "       '0.212', '0.092', '0.1', '0.179', '0.056', '0.127', '0.207',\n",
       "       '0.117', '0.146', '0.193', '0.102', '0.067', '0.057', '0.185',\n",
       "       '0.075', '0.174', '0.121', '0.152', '0.183', '0.132', '0.137',\n",
       "       '0.114', '0.065', '0.176', '0.166', '0.089', '0.05', '0.021',\n",
       "       '0.124', '0.171', '0.076', '0.071', '0.154', '0.181', '0.158',\n",
       "       '0.177', '0.182', '0.175', '0.044', '0.184', '0.051', '0.055',\n",
       "       '0.045', '0.195', '0.047', '0.036', '0.061', '0.145', '0.037',\n",
       "       '0.19', '0.005', '0.201', '0.042', '0.038', '0.191', '0.048',\n",
       "       '0.18', '0.178', '0.186', '0.165', '0.173', '0.043', '0.033',\n",
       "       '0.03', '0.039', '0.032', '0.027', '0.01', '0.029', '0.034',\n",
       "       '0.022', '0.028', '0.031', '0.046', '0.024', '0.008', '0.041',\n",
       "       '0.018', '0.011', '0.025', '0.023', '0.014', '0.026', '0', '0.142',\n",
       "       '0.007', '0.004', '0.003', '0.017', '0.012', '0.019', '0.009',\n",
       "       '0.001', '0.013', '0.015', '0.02', '0.006', '0.002', '0.016',\n",
       "       '0.2', '0.251', '0.368', '0.187', '0.189', '0.205', '0.204',\n",
       "       '0.194', '0.196', '0.24', '0.224', '0.208', '0.211', '0.197',\n",
       "       '0.222', '0.188', '0.219', '0.227', '0.244', '0.223', '0.225',\n",
       "       '0.263', '0.276', '0.247', '0.241', '0.228', '0.198', '0.214',\n",
       "       '0.236', '0.239', '0.216', '0.203', '0.206', '0.169', '0.209',\n",
       "       '0.213', '0.192', '0.215', '0.238', '0.218', '0.226', '0.229',\n",
       "       '0.234', '0.199', '0.233', '0.232', '0.317', '0.297', '0.243',\n",
       "       '0.258', '0.231', '0.29', '0.248', '0.32', '0.23', '0.272',\n",
       "       '0.267', '0.275', '0.259', '0.309', '0.25', '0.358', '0.237',\n",
       "       '0.294', '0.421', '0.463', '0.5', '0.314', '0.516', '0.277',\n",
       "       '0.609', '0.644', '0.603', '0.592', '0.55', '0.499', '0.578',\n",
       "       '0.56', '0.45', '0.579', '0.623', '0.78', '0.249', '0.571',\n",
       "       '0.261', '0.26', '0.418', '0.466', '0.468', '0.586', '0.246',\n",
       "       '0.291', '0.507', '0.287', '0.423', '0.405', '0.424', '0.264',\n",
       "       '0.425', '0.401', '0.27', '0.372', '0.344', '0.333', '0.351',\n",
       "       '0.242', '0.353', '0.281', '0.282', '0.269', '0.256', '0.373',\n",
       "       '0.369', '0.39', '0.365', '0.35', '0.352', '0.334', '0.496',\n",
       "       '0.408', '0.446', '0.448', '0.435', '0.464', '0.453', '0.437',\n",
       "       '0.439', '0.299', '0.34', '0.43', '0.608', '0.493', '0.33',\n",
       "       '0.345', '0.268', '0.235', '0.254', '0.284', '0.262', '0.362',\n",
       "       '0.426', '0.337', '0.528', '0.301', '0.384', '0.36', '0.313',\n",
       "       '0.325', '0.293', '0.328', '0.305', '0.31', '0.245', '0.279',\n",
       "       '0.255', '0.387', '0.307', '0.302', '0.321', '0.253', '0.271',\n",
       "       '0.265', '0.319', '0.375', '0.457', '0.449', '0.471', '0.338',\n",
       "       '0.304', '0.415', '0.442', '0.292', '0.274', '0.44', '0.323',\n",
       "       '0.525', '0.473', '0.419', '0.339', '0.391', '0.273', '0.4',\n",
       "       '0.266', '0.394', '0.395', '0.285', '0.407', '0.393', '0.286',\n",
       "       '0.331', '0.28', '0.278', '0.42', '0.318', '0.444', '0.283',\n",
       "       '0.289', '0.252'], dtype=object)"
      ]
     },
     "execution_count": 30,
     "metadata": {},
     "output_type": "execute_result"
    }
   ],
   "source": [
    "df.distribution_coefficient_of_variation.unique()"
   ]
  },
  {
   "cell_type": "markdown",
   "metadata": {},
   "source": [
    "Checking if any value other than float exists."
   ]
  },
  {
   "cell_type": "code",
   "execution_count": 31,
   "metadata": {
    "ExecuteTime": {
     "end_time": "2019-08-04T08:13:29.243124Z",
     "start_time": "2019-08-04T08:13:29.171315Z"
    }
   },
   "outputs": [
    {
     "data": {
      "text/plain": [
       "Series([], Name: distribution_coefficient_of_variation, dtype: object)"
      ]
     },
     "execution_count": 31,
     "metadata": {},
     "output_type": "execute_result"
    }
   ],
   "source": [
    "df.distribution_coefficient_of_variation[~df.distribution_coefficient_of_variation.apply(lambda x: is_float(x))] "
   ]
  },
  {
   "cell_type": "markdown",
   "metadata": {},
   "source": [
    "Converting the values to float."
   ]
  },
  {
   "cell_type": "code",
   "execution_count": 32,
   "metadata": {
    "ExecuteTime": {
     "end_time": "2019-08-04T08:13:29.307950Z",
     "start_time": "2019-08-04T08:13:29.245118Z"
    }
   },
   "outputs": [
    {
     "data": {
      "text/plain": [
       "dtype('float64')"
      ]
     },
     "execution_count": 32,
     "metadata": {},
     "output_type": "execute_result"
    }
   ],
   "source": [
    "df.distribution_coefficient_of_variation = df.distribution_coefficient_of_variation.apply(lambda x: float(x))\n",
    "df.distribution_coefficient_of_variation.dtypes"
   ]
  },
  {
   "cell_type": "markdown",
   "metadata": {},
   "source": [
    "### Checking the datatypes for the final time."
   ]
  },
  {
   "cell_type": "code",
   "execution_count": 33,
   "metadata": {
    "ExecuteTime": {
     "end_time": "2019-08-04T08:13:29.317925Z",
     "start_time": "2019-08-04T08:13:29.309945Z"
    }
   },
   "outputs": [
    {
     "data": {
      "text/plain": [
       "analysis_first_day                       datetime64[ns]\n",
       "analysis_last_day                        datetime64[ns]\n",
       "macro_region                                     object\n",
       "state                                            object\n",
       "product_kind                                     object\n",
       "no_gas_stations_analyzed                          int64\n",
       "measurement_unit                                 object\n",
       "avg_price                                       float64\n",
       "std                                             float64\n",
       "min_price_observed                              float64\n",
       "max_price_observed                              float64\n",
       "mean_price_margin                               float64\n",
       "coefficient_of_variation                        float64\n",
       "mean_distribution_price                         float64\n",
       "distribution_std                                float64\n",
       "distribution_min_price                          float64\n",
       "distribution_max_price                          float64\n",
       "distribution_coefficient_of_variation           float64\n",
       "month                                             int64\n",
       "year                                              int64\n",
       "dtype: object"
      ]
     },
     "execution_count": 33,
     "metadata": {},
     "output_type": "execute_result"
    }
   ],
   "source": [
    "df.dtypes"
   ]
  },
  {
   "cell_type": "markdown",
   "metadata": {},
   "source": [
    "Now, the datatypes look fine. Let's move forward towards the EDA to find the answer to the questions given in the kaggle description."
   ]
  },
  {
   "cell_type": "markdown",
   "metadata": {},
   "source": [
    "# Exploratory Data Analysis"
   ]
  },
  {
   "cell_type": "markdown",
   "metadata": {},
   "source": [
    "Let's perform EDA to find the answer to the given three questions:<br>\n",
    "<ol>\n",
    "<li>How different regions of Brazil saw their gas prices change?</li>\n",
    "<li>Within a region, which states increased more their prices?</li>\n",
    "<li>Which states are the cheapest (or most expensive) for different types of fuels?</li>\n",
    "</ol>"
   ]
  },
  {
   "cell_type": "markdown",
   "metadata": {},
   "source": [
    "First let's get the rows of the product type gases (GLV and GNV)"
   ]
  },
  {
   "cell_type": "code",
   "execution_count": 34,
   "metadata": {
    "ExecuteTime": {
     "end_time": "2019-08-04T08:13:29.394717Z",
     "start_time": "2019-08-04T08:13:29.323908Z"
    }
   },
   "outputs": [
    {
     "data": {
      "text/html": [
       "<div>\n",
       "<style scoped>\n",
       "    .dataframe tbody tr th:only-of-type {\n",
       "        vertical-align: middle;\n",
       "    }\n",
       "\n",
       "    .dataframe tbody tr th {\n",
       "        vertical-align: top;\n",
       "    }\n",
       "\n",
       "    .dataframe thead th {\n",
       "        text-align: right;\n",
       "    }\n",
       "</style>\n",
       "<table border=\"1\" class=\"dataframe\">\n",
       "  <thead>\n",
       "    <tr style=\"text-align: right;\">\n",
       "      <th></th>\n",
       "      <th>analysis_first_day</th>\n",
       "      <th>analysis_last_day</th>\n",
       "      <th>macro_region</th>\n",
       "      <th>state</th>\n",
       "      <th>product_kind</th>\n",
       "      <th>no_gas_stations_analyzed</th>\n",
       "      <th>measurement_unit</th>\n",
       "      <th>avg_price</th>\n",
       "      <th>std</th>\n",
       "      <th>min_price_observed</th>\n",
       "      <th>max_price_observed</th>\n",
       "      <th>mean_price_margin</th>\n",
       "      <th>coefficient_of_variation</th>\n",
       "      <th>mean_distribution_price</th>\n",
       "      <th>distribution_std</th>\n",
       "      <th>distribution_min_price</th>\n",
       "      <th>distribution_max_price</th>\n",
       "      <th>distribution_coefficient_of_variation</th>\n",
       "      <th>month</th>\n",
       "      <th>year</th>\n",
       "    </tr>\n",
       "  </thead>\n",
       "  <tbody>\n",
       "    <tr>\n",
       "      <th>36196</th>\n",
       "      <td>2004-05-09</td>\n",
       "      <td>2004-05-15</td>\n",
       "      <td>CENTRO OESTE</td>\n",
       "      <td>MATO GROSSO DO SUL</td>\n",
       "      <td>GNV</td>\n",
       "      <td>3</td>\n",
       "      <td>R$/m3</td>\n",
       "      <td>1.099</td>\n",
       "      <td>0.000</td>\n",
       "      <td>1.099</td>\n",
       "      <td>1.099</td>\n",
       "      <td>0.257</td>\n",
       "      <td>0.000</td>\n",
       "      <td>0.842</td>\n",
       "      <td>0.011</td>\n",
       "      <td>0.8347</td>\n",
       "      <td>0.8546</td>\n",
       "      <td>0.013</td>\n",
       "      <td>5</td>\n",
       "      <td>2004</td>\n",
       "    </tr>\n",
       "    <tr>\n",
       "      <th>36197</th>\n",
       "      <td>2004-05-09</td>\n",
       "      <td>2004-05-15</td>\n",
       "      <td>NORDESTE</td>\n",
       "      <td>ALAGOAS</td>\n",
       "      <td>GNV</td>\n",
       "      <td>3</td>\n",
       "      <td>R$/m3</td>\n",
       "      <td>1.084</td>\n",
       "      <td>0.000</td>\n",
       "      <td>1.084</td>\n",
       "      <td>1.084</td>\n",
       "      <td>0.295</td>\n",
       "      <td>0.000</td>\n",
       "      <td>0.789</td>\n",
       "      <td>0.000</td>\n",
       "      <td>0.7888</td>\n",
       "      <td>0.7888</td>\n",
       "      <td>0.000</td>\n",
       "      <td>5</td>\n",
       "      <td>2004</td>\n",
       "    </tr>\n",
       "    <tr>\n",
       "      <th>36198</th>\n",
       "      <td>2004-05-09</td>\n",
       "      <td>2004-05-15</td>\n",
       "      <td>NORDESTE</td>\n",
       "      <td>BAHIA</td>\n",
       "      <td>GNV</td>\n",
       "      <td>19</td>\n",
       "      <td>R$/m3</td>\n",
       "      <td>1.079</td>\n",
       "      <td>0.000</td>\n",
       "      <td>1.079</td>\n",
       "      <td>1.079</td>\n",
       "      <td>0.374</td>\n",
       "      <td>0.000</td>\n",
       "      <td>0.705</td>\n",
       "      <td>0.136</td>\n",
       "      <td>0.4214</td>\n",
       "      <td>0.8031</td>\n",
       "      <td>0.193</td>\n",
       "      <td>5</td>\n",
       "      <td>2004</td>\n",
       "    </tr>\n",
       "    <tr>\n",
       "      <th>36199</th>\n",
       "      <td>2004-05-09</td>\n",
       "      <td>2004-05-15</td>\n",
       "      <td>NORDESTE</td>\n",
       "      <td>CEARA</td>\n",
       "      <td>GNV</td>\n",
       "      <td>20</td>\n",
       "      <td>R$/m3</td>\n",
       "      <td>1.184</td>\n",
       "      <td>0.001</td>\n",
       "      <td>1.180</td>\n",
       "      <td>1.184</td>\n",
       "      <td>0.354</td>\n",
       "      <td>0.001</td>\n",
       "      <td>0.830</td>\n",
       "      <td>0.096</td>\n",
       "      <td>0.6811</td>\n",
       "      <td>0.9982</td>\n",
       "      <td>0.116</td>\n",
       "      <td>5</td>\n",
       "      <td>2004</td>\n",
       "    </tr>\n",
       "    <tr>\n",
       "      <th>36200</th>\n",
       "      <td>2004-05-09</td>\n",
       "      <td>2004-05-15</td>\n",
       "      <td>NORDESTE</td>\n",
       "      <td>PARAIBA</td>\n",
       "      <td>GNV</td>\n",
       "      <td>8</td>\n",
       "      <td>R$/m3</td>\n",
       "      <td>1.149</td>\n",
       "      <td>0.000</td>\n",
       "      <td>1.149</td>\n",
       "      <td>1.149</td>\n",
       "      <td>0.357</td>\n",
       "      <td>0.000</td>\n",
       "      <td>0.792</td>\n",
       "      <td>0.098</td>\n",
       "      <td>0.6827</td>\n",
       "      <td>0.9071</td>\n",
       "      <td>0.124</td>\n",
       "      <td>5</td>\n",
       "      <td>2004</td>\n",
       "    </tr>\n",
       "  </tbody>\n",
       "</table>\n",
       "</div>"
      ],
      "text/plain": [
       "      analysis_first_day analysis_last_day  macro_region               state  \\\n",
       "36196         2004-05-09        2004-05-15  CENTRO OESTE  MATO GROSSO DO SUL   \n",
       "36197         2004-05-09        2004-05-15      NORDESTE             ALAGOAS   \n",
       "36198         2004-05-09        2004-05-15      NORDESTE               BAHIA   \n",
       "36199         2004-05-09        2004-05-15      NORDESTE               CEARA   \n",
       "36200         2004-05-09        2004-05-15      NORDESTE             PARAIBA   \n",
       "\n",
       "      product_kind  no_gas_stations_analyzed measurement_unit  avg_price  \\\n",
       "36196          GNV                         3            R$/m3      1.099   \n",
       "36197          GNV                         3            R$/m3      1.084   \n",
       "36198          GNV                        19            R$/m3      1.079   \n",
       "36199          GNV                        20            R$/m3      1.184   \n",
       "36200          GNV                         8            R$/m3      1.149   \n",
       "\n",
       "         std  min_price_observed  max_price_observed  mean_price_margin  \\\n",
       "36196  0.000               1.099               1.099              0.257   \n",
       "36197  0.000               1.084               1.084              0.295   \n",
       "36198  0.000               1.079               1.079              0.374   \n",
       "36199  0.001               1.180               1.184              0.354   \n",
       "36200  0.000               1.149               1.149              0.357   \n",
       "\n",
       "       coefficient_of_variation  mean_distribution_price  distribution_std  \\\n",
       "36196                     0.000                    0.842             0.011   \n",
       "36197                     0.000                    0.789             0.000   \n",
       "36198                     0.000                    0.705             0.136   \n",
       "36199                     0.001                    0.830             0.096   \n",
       "36200                     0.000                    0.792             0.098   \n",
       "\n",
       "       distribution_min_price  distribution_max_price  \\\n",
       "36196                  0.8347                  0.8546   \n",
       "36197                  0.7888                  0.7888   \n",
       "36198                  0.4214                  0.8031   \n",
       "36199                  0.6811                  0.9982   \n",
       "36200                  0.6827                  0.9071   \n",
       "\n",
       "       distribution_coefficient_of_variation  month  year  \n",
       "36196                                  0.013      5  2004  \n",
       "36197                                  0.000      5  2004  \n",
       "36198                                  0.193      5  2004  \n",
       "36199                                  0.116      5  2004  \n",
       "36200                                  0.124      5  2004  "
      ]
     },
     "execution_count": 34,
     "metadata": {},
     "output_type": "execute_result"
    }
   ],
   "source": [
    "df = df[(df.product_kind == 'GLV') | (df.product_kind == 'GNV')]\n",
    "df.head()"
   ]
  },
  {
   "cell_type": "markdown",
   "metadata": {},
   "source": [
    "Before going any further, let's check the summary statistics."
   ]
  },
  {
   "cell_type": "code",
   "execution_count": 35,
   "metadata": {
    "ExecuteTime": {
     "end_time": "2019-08-04T08:13:29.464531Z",
     "start_time": "2019-08-04T08:13:29.395715Z"
    },
    "scrolled": true
   },
   "outputs": [
    {
     "data": {
      "text/html": [
       "<div>\n",
       "<style scoped>\n",
       "    .dataframe tbody tr th:only-of-type {\n",
       "        vertical-align: middle;\n",
       "    }\n",
       "\n",
       "    .dataframe tbody tr th {\n",
       "        vertical-align: top;\n",
       "    }\n",
       "\n",
       "    .dataframe thead th {\n",
       "        text-align: right;\n",
       "    }\n",
       "</style>\n",
       "<table border=\"1\" class=\"dataframe\">\n",
       "  <thead>\n",
       "    <tr style=\"text-align: right;\">\n",
       "      <th></th>\n",
       "      <th>no_gas_stations_analyzed</th>\n",
       "      <th>avg_price</th>\n",
       "      <th>std</th>\n",
       "      <th>min_price_observed</th>\n",
       "      <th>max_price_observed</th>\n",
       "      <th>mean_price_margin</th>\n",
       "      <th>coefficient_of_variation</th>\n",
       "      <th>mean_distribution_price</th>\n",
       "      <th>distribution_std</th>\n",
       "      <th>distribution_min_price</th>\n",
       "      <th>distribution_max_price</th>\n",
       "      <th>distribution_coefficient_of_variation</th>\n",
       "      <th>month</th>\n",
       "      <th>year</th>\n",
       "    </tr>\n",
       "  </thead>\n",
       "  <tbody>\n",
       "    <tr>\n",
       "      <th>count</th>\n",
       "      <td>11006.000000</td>\n",
       "      <td>11006.000000</td>\n",
       "      <td>11006.000000</td>\n",
       "      <td>11006.000000</td>\n",
       "      <td>11006.000000</td>\n",
       "      <td>11006.000000</td>\n",
       "      <td>11006.000000</td>\n",
       "      <td>11006.000000</td>\n",
       "      <td>11006.000000</td>\n",
       "      <td>11006.000000</td>\n",
       "      <td>11006.00000</td>\n",
       "      <td>11006.000000</td>\n",
       "      <td>11006.000000</td>\n",
       "      <td>11006.000000</td>\n",
       "    </tr>\n",
       "    <tr>\n",
       "      <th>mean</th>\n",
       "      <td>33.339542</td>\n",
       "      <td>1.838703</td>\n",
       "      <td>0.076622</td>\n",
       "      <td>1.749217</td>\n",
       "      <td>2.051327</td>\n",
       "      <td>0.493679</td>\n",
       "      <td>0.041460</td>\n",
       "      <td>1.345024</td>\n",
       "      <td>0.113107</td>\n",
       "      <td>1.199713</td>\n",
       "      <td>1.50730</td>\n",
       "      <td>0.094543</td>\n",
       "      <td>6.468744</td>\n",
       "      <td>2011.020989</td>\n",
       "    </tr>\n",
       "    <tr>\n",
       "      <th>std</th>\n",
       "      <td>48.004134</td>\n",
       "      <td>0.503801</td>\n",
       "      <td>0.067812</td>\n",
       "      <td>0.492002</td>\n",
       "      <td>0.580863</td>\n",
       "      <td>0.179321</td>\n",
       "      <td>0.035891</td>\n",
       "      <td>0.400314</td>\n",
       "      <td>0.085852</td>\n",
       "      <td>0.440720</td>\n",
       "      <td>0.40846</td>\n",
       "      <td>0.076710</td>\n",
       "      <td>3.435533</td>\n",
       "      <td>4.310866</td>\n",
       "    </tr>\n",
       "    <tr>\n",
       "      <th>min</th>\n",
       "      <td>1.000000</td>\n",
       "      <td>0.975000</td>\n",
       "      <td>0.000000</td>\n",
       "      <td>0.659000</td>\n",
       "      <td>0.999000</td>\n",
       "      <td>0.001000</td>\n",
       "      <td>0.000000</td>\n",
       "      <td>0.506000</td>\n",
       "      <td>0.000000</td>\n",
       "      <td>0.363200</td>\n",
       "      <td>0.59920</td>\n",
       "      <td>0.000000</td>\n",
       "      <td>1.000000</td>\n",
       "      <td>2004.000000</td>\n",
       "    </tr>\n",
       "    <tr>\n",
       "      <th>25%</th>\n",
       "      <td>9.000000</td>\n",
       "      <td>1.499000</td>\n",
       "      <td>0.019000</td>\n",
       "      <td>1.420000</td>\n",
       "      <td>1.659000</td>\n",
       "      <td>0.375000</td>\n",
       "      <td>0.011000</td>\n",
       "      <td>1.078000</td>\n",
       "      <td>0.036000</td>\n",
       "      <td>0.882900</td>\n",
       "      <td>1.24205</td>\n",
       "      <td>0.026000</td>\n",
       "      <td>4.000000</td>\n",
       "      <td>2007.000000</td>\n",
       "    </tr>\n",
       "    <tr>\n",
       "      <th>50%</th>\n",
       "      <td>17.000000</td>\n",
       "      <td>1.771000</td>\n",
       "      <td>0.062000</td>\n",
       "      <td>1.699000</td>\n",
       "      <td>1.990000</td>\n",
       "      <td>0.458000</td>\n",
       "      <td>0.033000</td>\n",
       "      <td>1.322000</td>\n",
       "      <td>0.118000</td>\n",
       "      <td>1.187850</td>\n",
       "      <td>1.48150</td>\n",
       "      <td>0.093000</td>\n",
       "      <td>6.000000</td>\n",
       "      <td>2011.000000</td>\n",
       "    </tr>\n",
       "    <tr>\n",
       "      <th>75%</th>\n",
       "      <td>31.000000</td>\n",
       "      <td>2.039000</td>\n",
       "      <td>0.124000</td>\n",
       "      <td>1.930000</td>\n",
       "      <td>2.369000</td>\n",
       "      <td>0.570000</td>\n",
       "      <td>0.067000</td>\n",
       "      <td>1.525000</td>\n",
       "      <td>0.162000</td>\n",
       "      <td>1.405500</td>\n",
       "      <td>1.70085</td>\n",
       "      <td>0.141000</td>\n",
       "      <td>9.000000</td>\n",
       "      <td>2015.000000</td>\n",
       "    </tr>\n",
       "    <tr>\n",
       "      <th>max</th>\n",
       "      <td>294.000000</td>\n",
       "      <td>3.811000</td>\n",
       "      <td>0.482000</td>\n",
       "      <td>3.780000</td>\n",
       "      <td>4.190000</td>\n",
       "      <td>1.438000</td>\n",
       "      <td>0.262000</td>\n",
       "      <td>3.145000</td>\n",
       "      <td>0.654000</td>\n",
       "      <td>3.144600</td>\n",
       "      <td>3.37240</td>\n",
       "      <td>0.780000</td>\n",
       "      <td>12.000000</td>\n",
       "      <td>2019.000000</td>\n",
       "    </tr>\n",
       "  </tbody>\n",
       "</table>\n",
       "</div>"
      ],
      "text/plain": [
       "       no_gas_stations_analyzed     avg_price           std  \\\n",
       "count              11006.000000  11006.000000  11006.000000   \n",
       "mean                  33.339542      1.838703      0.076622   \n",
       "std                   48.004134      0.503801      0.067812   \n",
       "min                    1.000000      0.975000      0.000000   \n",
       "25%                    9.000000      1.499000      0.019000   \n",
       "50%                   17.000000      1.771000      0.062000   \n",
       "75%                   31.000000      2.039000      0.124000   \n",
       "max                  294.000000      3.811000      0.482000   \n",
       "\n",
       "       min_price_observed  max_price_observed  mean_price_margin  \\\n",
       "count        11006.000000        11006.000000       11006.000000   \n",
       "mean             1.749217            2.051327           0.493679   \n",
       "std              0.492002            0.580863           0.179321   \n",
       "min              0.659000            0.999000           0.001000   \n",
       "25%              1.420000            1.659000           0.375000   \n",
       "50%              1.699000            1.990000           0.458000   \n",
       "75%              1.930000            2.369000           0.570000   \n",
       "max              3.780000            4.190000           1.438000   \n",
       "\n",
       "       coefficient_of_variation  mean_distribution_price  distribution_std  \\\n",
       "count              11006.000000             11006.000000      11006.000000   \n",
       "mean                   0.041460                 1.345024          0.113107   \n",
       "std                    0.035891                 0.400314          0.085852   \n",
       "min                    0.000000                 0.506000          0.000000   \n",
       "25%                    0.011000                 1.078000          0.036000   \n",
       "50%                    0.033000                 1.322000          0.118000   \n",
       "75%                    0.067000                 1.525000          0.162000   \n",
       "max                    0.262000                 3.145000          0.654000   \n",
       "\n",
       "       distribution_min_price  distribution_max_price  \\\n",
       "count            11006.000000             11006.00000   \n",
       "mean                 1.199713                 1.50730   \n",
       "std                  0.440720                 0.40846   \n",
       "min                  0.363200                 0.59920   \n",
       "25%                  0.882900                 1.24205   \n",
       "50%                  1.187850                 1.48150   \n",
       "75%                  1.405500                 1.70085   \n",
       "max                  3.144600                 3.37240   \n",
       "\n",
       "       distribution_coefficient_of_variation         month          year  \n",
       "count                           11006.000000  11006.000000  11006.000000  \n",
       "mean                                0.094543      6.468744   2011.020989  \n",
       "std                                 0.076710      3.435533      4.310866  \n",
       "min                                 0.000000      1.000000   2004.000000  \n",
       "25%                                 0.026000      4.000000   2007.000000  \n",
       "50%                                 0.093000      6.000000   2011.000000  \n",
       "75%                                 0.141000      9.000000   2015.000000  \n",
       "max                                 0.780000     12.000000   2019.000000  "
      ]
     },
     "execution_count": 35,
     "metadata": {},
     "output_type": "execute_result"
    }
   ],
   "source": [
    "df.describe()"
   ]
  },
  {
   "cell_type": "markdown",
   "metadata": {},
   "source": [
    "Statistics of categorical values."
   ]
  },
  {
   "cell_type": "code",
   "execution_count": 36,
   "metadata": {
    "ExecuteTime": {
     "end_time": "2019-08-04T08:13:29.497443Z",
     "start_time": "2019-08-04T08:13:29.466534Z"
    }
   },
   "outputs": [
    {
     "data": {
      "text/html": [
       "<div>\n",
       "<style scoped>\n",
       "    .dataframe tbody tr th:only-of-type {\n",
       "        vertical-align: middle;\n",
       "    }\n",
       "\n",
       "    .dataframe tbody tr th {\n",
       "        vertical-align: top;\n",
       "    }\n",
       "\n",
       "    .dataframe thead th {\n",
       "        text-align: right;\n",
       "    }\n",
       "</style>\n",
       "<table border=\"1\" class=\"dataframe\">\n",
       "  <thead>\n",
       "    <tr style=\"text-align: right;\">\n",
       "      <th></th>\n",
       "      <th>macro_region</th>\n",
       "      <th>state</th>\n",
       "      <th>product_kind</th>\n",
       "      <th>measurement_unit</th>\n",
       "    </tr>\n",
       "  </thead>\n",
       "  <tbody>\n",
       "    <tr>\n",
       "      <th>count</th>\n",
       "      <td>11006</td>\n",
       "      <td>11006</td>\n",
       "      <td>11006</td>\n",
       "      <td>11006</td>\n",
       "    </tr>\n",
       "    <tr>\n",
       "      <th>unique</th>\n",
       "      <td>5</td>\n",
       "      <td>24</td>\n",
       "      <td>1</td>\n",
       "      <td>1</td>\n",
       "    </tr>\n",
       "    <tr>\n",
       "      <th>top</th>\n",
       "      <td>NORDESTE</td>\n",
       "      <td>BAHIA</td>\n",
       "      <td>GNV</td>\n",
       "      <td>R$/m3</td>\n",
       "    </tr>\n",
       "    <tr>\n",
       "      <th>freq</th>\n",
       "      <td>5176</td>\n",
       "      <td>785</td>\n",
       "      <td>11006</td>\n",
       "      <td>11006</td>\n",
       "    </tr>\n",
       "  </tbody>\n",
       "</table>\n",
       "</div>"
      ],
      "text/plain": [
       "       macro_region  state product_kind measurement_unit\n",
       "count         11006  11006        11006            11006\n",
       "unique            5     24            1                1\n",
       "top        NORDESTE  BAHIA          GNV            R$/m3\n",
       "freq           5176    785        11006            11006"
      ]
     },
     "execution_count": 36,
     "metadata": {},
     "output_type": "execute_result"
    }
   ],
   "source": [
    "df.describe(include='O')"
   ]
  },
  {
   "cell_type": "markdown",
   "metadata": {},
   "source": [
    "We can see that in some columns, the difference between min and max value is great. Also, there are 3 kinds of measurement units (as seen in the statistics of categorical values). From these statistics, we incur that we need to scale our data."
   ]
  },
  {
   "cell_type": "markdown",
   "metadata": {},
   "source": [
    "## Scaling the data"
   ]
  },
  {
   "cell_type": "markdown",
   "metadata": {},
   "source": [
    "I prefer to use MinMaxScaler to scale the data. But it's totally up to you "
   ]
  },
  {
   "cell_type": "code",
   "execution_count": 37,
   "metadata": {
    "ExecuteTime": {
     "end_time": "2019-08-04T07:57:34.153957Z",
     "start_time": "2019-08-04T07:57:33.728121Z"
    }
   },
   "outputs": [],
   "source": [
    "from sklearn.preprocessing import MinMaxScaler"
   ]
  },
  {
   "cell_type": "code",
   "execution_count": 38,
   "metadata": {
    "ExecuteTime": {
     "end_time": "2019-08-04T07:57:34.159880Z",
     "start_time": "2019-08-04T07:57:34.155890Z"
    }
   },
   "outputs": [],
   "source": [
    "scaler = MinMaxScaler()"
   ]
  },
  {
   "cell_type": "markdown",
   "metadata": {},
   "source": [
    "Let's first select the numerical columns."
   ]
  },
  {
   "cell_type": "code",
   "execution_count": 39,
   "metadata": {
    "ExecuteTime": {
     "end_time": "2019-08-04T07:57:34.180826Z",
     "start_time": "2019-08-04T07:57:34.161875Z"
    }
   },
   "outputs": [],
   "source": [
    "df_to_scale = df[list(df.columns[(df.dtypes == np.float64) | (df.dtypes == np.int64)])]"
   ]
  },
  {
   "cell_type": "code",
   "execution_count": 40,
   "metadata": {
    "ExecuteTime": {
     "end_time": "2019-08-04T07:57:34.206755Z",
     "start_time": "2019-08-04T07:57:34.182819Z"
    }
   },
   "outputs": [
    {
     "data": {
      "text/html": [
       "<div>\n",
       "<style scoped>\n",
       "    .dataframe tbody tr th:only-of-type {\n",
       "        vertical-align: middle;\n",
       "    }\n",
       "\n",
       "    .dataframe tbody tr th {\n",
       "        vertical-align: top;\n",
       "    }\n",
       "\n",
       "    .dataframe thead th {\n",
       "        text-align: right;\n",
       "    }\n",
       "</style>\n",
       "<table border=\"1\" class=\"dataframe\">\n",
       "  <thead>\n",
       "    <tr style=\"text-align: right;\">\n",
       "      <th></th>\n",
       "      <th>no_gas_stations_analyzed</th>\n",
       "      <th>avg_price</th>\n",
       "      <th>std</th>\n",
       "      <th>min_price_observed</th>\n",
       "      <th>max_price_observed</th>\n",
       "      <th>mean_price_margin</th>\n",
       "      <th>coefficient_of_variation</th>\n",
       "      <th>mean_distribution_price</th>\n",
       "      <th>distribution_std</th>\n",
       "      <th>distribution_min_price</th>\n",
       "      <th>distribution_max_price</th>\n",
       "      <th>distribution_coefficient_of_variation</th>\n",
       "      <th>month</th>\n",
       "      <th>year</th>\n",
       "    </tr>\n",
       "  </thead>\n",
       "  <tbody>\n",
       "    <tr>\n",
       "      <th>36196</th>\n",
       "      <td>3</td>\n",
       "      <td>1.099</td>\n",
       "      <td>0.000</td>\n",
       "      <td>1.099</td>\n",
       "      <td>1.099</td>\n",
       "      <td>0.257</td>\n",
       "      <td>0.000</td>\n",
       "      <td>0.842</td>\n",
       "      <td>0.011</td>\n",
       "      <td>0.8347</td>\n",
       "      <td>0.8546</td>\n",
       "      <td>0.013</td>\n",
       "      <td>5</td>\n",
       "      <td>2004</td>\n",
       "    </tr>\n",
       "    <tr>\n",
       "      <th>36197</th>\n",
       "      <td>3</td>\n",
       "      <td>1.084</td>\n",
       "      <td>0.000</td>\n",
       "      <td>1.084</td>\n",
       "      <td>1.084</td>\n",
       "      <td>0.295</td>\n",
       "      <td>0.000</td>\n",
       "      <td>0.789</td>\n",
       "      <td>0.000</td>\n",
       "      <td>0.7888</td>\n",
       "      <td>0.7888</td>\n",
       "      <td>0.000</td>\n",
       "      <td>5</td>\n",
       "      <td>2004</td>\n",
       "    </tr>\n",
       "    <tr>\n",
       "      <th>36198</th>\n",
       "      <td>19</td>\n",
       "      <td>1.079</td>\n",
       "      <td>0.000</td>\n",
       "      <td>1.079</td>\n",
       "      <td>1.079</td>\n",
       "      <td>0.374</td>\n",
       "      <td>0.000</td>\n",
       "      <td>0.705</td>\n",
       "      <td>0.136</td>\n",
       "      <td>0.4214</td>\n",
       "      <td>0.8031</td>\n",
       "      <td>0.193</td>\n",
       "      <td>5</td>\n",
       "      <td>2004</td>\n",
       "    </tr>\n",
       "    <tr>\n",
       "      <th>36199</th>\n",
       "      <td>20</td>\n",
       "      <td>1.184</td>\n",
       "      <td>0.001</td>\n",
       "      <td>1.180</td>\n",
       "      <td>1.184</td>\n",
       "      <td>0.354</td>\n",
       "      <td>0.001</td>\n",
       "      <td>0.830</td>\n",
       "      <td>0.096</td>\n",
       "      <td>0.6811</td>\n",
       "      <td>0.9982</td>\n",
       "      <td>0.116</td>\n",
       "      <td>5</td>\n",
       "      <td>2004</td>\n",
       "    </tr>\n",
       "    <tr>\n",
       "      <th>36200</th>\n",
       "      <td>8</td>\n",
       "      <td>1.149</td>\n",
       "      <td>0.000</td>\n",
       "      <td>1.149</td>\n",
       "      <td>1.149</td>\n",
       "      <td>0.357</td>\n",
       "      <td>0.000</td>\n",
       "      <td>0.792</td>\n",
       "      <td>0.098</td>\n",
       "      <td>0.6827</td>\n",
       "      <td>0.9071</td>\n",
       "      <td>0.124</td>\n",
       "      <td>5</td>\n",
       "      <td>2004</td>\n",
       "    </tr>\n",
       "  </tbody>\n",
       "</table>\n",
       "</div>"
      ],
      "text/plain": [
       "       no_gas_stations_analyzed  avg_price    std  min_price_observed  \\\n",
       "36196                         3      1.099  0.000               1.099   \n",
       "36197                         3      1.084  0.000               1.084   \n",
       "36198                        19      1.079  0.000               1.079   \n",
       "36199                        20      1.184  0.001               1.180   \n",
       "36200                         8      1.149  0.000               1.149   \n",
       "\n",
       "       max_price_observed  mean_price_margin  coefficient_of_variation  \\\n",
       "36196               1.099              0.257                     0.000   \n",
       "36197               1.084              0.295                     0.000   \n",
       "36198               1.079              0.374                     0.000   \n",
       "36199               1.184              0.354                     0.001   \n",
       "36200               1.149              0.357                     0.000   \n",
       "\n",
       "       mean_distribution_price  distribution_std  distribution_min_price  \\\n",
       "36196                    0.842             0.011                  0.8347   \n",
       "36197                    0.789             0.000                  0.7888   \n",
       "36198                    0.705             0.136                  0.4214   \n",
       "36199                    0.830             0.096                  0.6811   \n",
       "36200                    0.792             0.098                  0.6827   \n",
       "\n",
       "       distribution_max_price  distribution_coefficient_of_variation  month  \\\n",
       "36196                  0.8546                                  0.013      5   \n",
       "36197                  0.7888                                  0.000      5   \n",
       "36198                  0.8031                                  0.193      5   \n",
       "36199                  0.9982                                  0.116      5   \n",
       "36200                  0.9071                                  0.124      5   \n",
       "\n",
       "       year  \n",
       "36196  2004  \n",
       "36197  2004  \n",
       "36198  2004  \n",
       "36199  2004  \n",
       "36200  2004  "
      ]
     },
     "execution_count": 40,
     "metadata": {},
     "output_type": "execute_result"
    }
   ],
   "source": [
    "df_to_scale.head()"
   ]
  },
  {
   "cell_type": "markdown",
   "metadata": {},
   "source": [
    "Now, let's scale this data."
   ]
  },
  {
   "cell_type": "code",
   "execution_count": 41,
   "metadata": {
    "ExecuteTime": {
     "end_time": "2019-08-04T07:57:34.286541Z",
     "start_time": "2019-08-04T07:57:34.210745Z"
    }
   },
   "outputs": [
    {
     "data": {
      "text/html": [
       "<div>\n",
       "<style scoped>\n",
       "    .dataframe tbody tr th:only-of-type {\n",
       "        vertical-align: middle;\n",
       "    }\n",
       "\n",
       "    .dataframe tbody tr th {\n",
       "        vertical-align: top;\n",
       "    }\n",
       "\n",
       "    .dataframe thead th {\n",
       "        text-align: right;\n",
       "    }\n",
       "</style>\n",
       "<table border=\"1\" class=\"dataframe\">\n",
       "  <thead>\n",
       "    <tr style=\"text-align: right;\">\n",
       "      <th></th>\n",
       "      <th>no_gas_stations_analyzed</th>\n",
       "      <th>avg_price</th>\n",
       "      <th>std</th>\n",
       "      <th>min_price_observed</th>\n",
       "      <th>max_price_observed</th>\n",
       "      <th>mean_price_margin</th>\n",
       "      <th>coefficient_of_variation</th>\n",
       "      <th>mean_distribution_price</th>\n",
       "      <th>distribution_std</th>\n",
       "      <th>distribution_min_price</th>\n",
       "      <th>distribution_max_price</th>\n",
       "      <th>distribution_coefficient_of_variation</th>\n",
       "      <th>month</th>\n",
       "      <th>year</th>\n",
       "    </tr>\n",
       "  </thead>\n",
       "  <tbody>\n",
       "    <tr>\n",
       "      <th>0</th>\n",
       "      <td>0.006826</td>\n",
       "      <td>0.043724</td>\n",
       "      <td>0.000000</td>\n",
       "      <td>0.140980</td>\n",
       "      <td>0.031338</td>\n",
       "      <td>0.178149</td>\n",
       "      <td>0.000000</td>\n",
       "      <td>0.127321</td>\n",
       "      <td>0.016820</td>\n",
       "      <td>0.169519</td>\n",
       "      <td>0.092096</td>\n",
       "      <td>0.016667</td>\n",
       "      <td>0.363636</td>\n",
       "      <td>0.0</td>\n",
       "    </tr>\n",
       "    <tr>\n",
       "      <th>1</th>\n",
       "      <td>0.006826</td>\n",
       "      <td>0.038434</td>\n",
       "      <td>0.000000</td>\n",
       "      <td>0.136174</td>\n",
       "      <td>0.026637</td>\n",
       "      <td>0.204593</td>\n",
       "      <td>0.000000</td>\n",
       "      <td>0.107238</td>\n",
       "      <td>0.000000</td>\n",
       "      <td>0.153016</td>\n",
       "      <td>0.068369</td>\n",
       "      <td>0.000000</td>\n",
       "      <td>0.363636</td>\n",
       "      <td>0.0</td>\n",
       "    </tr>\n",
       "    <tr>\n",
       "      <th>2</th>\n",
       "      <td>0.061433</td>\n",
       "      <td>0.036671</td>\n",
       "      <td>0.000000</td>\n",
       "      <td>0.134572</td>\n",
       "      <td>0.025071</td>\n",
       "      <td>0.259569</td>\n",
       "      <td>0.000000</td>\n",
       "      <td>0.075407</td>\n",
       "      <td>0.207951</td>\n",
       "      <td>0.020925</td>\n",
       "      <td>0.073525</td>\n",
       "      <td>0.247436</td>\n",
       "      <td>0.363636</td>\n",
       "      <td>0.0</td>\n",
       "    </tr>\n",
       "    <tr>\n",
       "      <th>3</th>\n",
       "      <td>0.064846</td>\n",
       "      <td>0.073695</td>\n",
       "      <td>0.002075</td>\n",
       "      <td>0.166934</td>\n",
       "      <td>0.057976</td>\n",
       "      <td>0.245651</td>\n",
       "      <td>0.003817</td>\n",
       "      <td>0.122774</td>\n",
       "      <td>0.146789</td>\n",
       "      <td>0.114295</td>\n",
       "      <td>0.143877</td>\n",
       "      <td>0.148718</td>\n",
       "      <td>0.363636</td>\n",
       "      <td>0.0</td>\n",
       "    </tr>\n",
       "    <tr>\n",
       "      <th>4</th>\n",
       "      <td>0.023891</td>\n",
       "      <td>0.061354</td>\n",
       "      <td>0.000000</td>\n",
       "      <td>0.157001</td>\n",
       "      <td>0.047007</td>\n",
       "      <td>0.247738</td>\n",
       "      <td>0.000000</td>\n",
       "      <td>0.108374</td>\n",
       "      <td>0.149847</td>\n",
       "      <td>0.114870</td>\n",
       "      <td>0.111027</td>\n",
       "      <td>0.158974</td>\n",
       "      <td>0.363636</td>\n",
       "      <td>0.0</td>\n",
       "    </tr>\n",
       "  </tbody>\n",
       "</table>\n",
       "</div>"
      ],
      "text/plain": [
       "   no_gas_stations_analyzed  avg_price       std  min_price_observed  \\\n",
       "0                  0.006826   0.043724  0.000000            0.140980   \n",
       "1                  0.006826   0.038434  0.000000            0.136174   \n",
       "2                  0.061433   0.036671  0.000000            0.134572   \n",
       "3                  0.064846   0.073695  0.002075            0.166934   \n",
       "4                  0.023891   0.061354  0.000000            0.157001   \n",
       "\n",
       "   max_price_observed  mean_price_margin  coefficient_of_variation  \\\n",
       "0            0.031338           0.178149                  0.000000   \n",
       "1            0.026637           0.204593                  0.000000   \n",
       "2            0.025071           0.259569                  0.000000   \n",
       "3            0.057976           0.245651                  0.003817   \n",
       "4            0.047007           0.247738                  0.000000   \n",
       "\n",
       "   mean_distribution_price  distribution_std  distribution_min_price  \\\n",
       "0                 0.127321          0.016820                0.169519   \n",
       "1                 0.107238          0.000000                0.153016   \n",
       "2                 0.075407          0.207951                0.020925   \n",
       "3                 0.122774          0.146789                0.114295   \n",
       "4                 0.108374          0.149847                0.114870   \n",
       "\n",
       "   distribution_max_price  distribution_coefficient_of_variation     month  \\\n",
       "0                0.092096                               0.016667  0.363636   \n",
       "1                0.068369                               0.000000  0.363636   \n",
       "2                0.073525                               0.247436  0.363636   \n",
       "3                0.143877                               0.148718  0.363636   \n",
       "4                0.111027                               0.158974  0.363636   \n",
       "\n",
       "   year  \n",
       "0   0.0  \n",
       "1   0.0  \n",
       "2   0.0  \n",
       "3   0.0  \n",
       "4   0.0  "
      ]
     },
     "execution_count": 41,
     "metadata": {},
     "output_type": "execute_result"
    }
   ],
   "source": [
    "scaled_arr = scaler.fit_transform(df_to_scale)\n",
    "df_scaled = pd.DataFrame(data=scaled_arr, columns=list(df.columns[(df.dtypes == np.float64) | (df.dtypes == np.int64)]))\n",
    "df_scaled.head()"
   ]
  },
  {
   "cell_type": "code",
   "execution_count": 42,
   "metadata": {
    "ExecuteTime": {
     "end_time": "2019-08-04T07:59:25.942991Z",
     "start_time": "2019-08-04T07:59:25.882145Z"
    }
   },
   "outputs": [],
   "source": [
    "df[list(df.columns[(df.dtypes == np.float64) | (df.dtypes == np.int64)])] = df_scaled"
   ]
  },
  {
   "cell_type": "code",
   "execution_count": 43,
   "metadata": {
    "ExecuteTime": {
     "end_time": "2019-08-04T07:59:37.898428Z",
     "start_time": "2019-08-04T07:59:37.873493Z"
    }
   },
   "outputs": [
    {
     "data": {
      "text/html": [
       "<div>\n",
       "<style scoped>\n",
       "    .dataframe tbody tr th:only-of-type {\n",
       "        vertical-align: middle;\n",
       "    }\n",
       "\n",
       "    .dataframe tbody tr th {\n",
       "        vertical-align: top;\n",
       "    }\n",
       "\n",
       "    .dataframe thead th {\n",
       "        text-align: right;\n",
       "    }\n",
       "</style>\n",
       "<table border=\"1\" class=\"dataframe\">\n",
       "  <thead>\n",
       "    <tr style=\"text-align: right;\">\n",
       "      <th></th>\n",
       "      <th>analysis_first_day</th>\n",
       "      <th>analysis_last_day</th>\n",
       "      <th>macro_region</th>\n",
       "      <th>state</th>\n",
       "      <th>product_kind</th>\n",
       "      <th>no_gas_stations_analyzed</th>\n",
       "      <th>measurement_unit</th>\n",
       "      <th>avg_price</th>\n",
       "      <th>std</th>\n",
       "      <th>min_price_observed</th>\n",
       "      <th>max_price_observed</th>\n",
       "      <th>mean_price_margin</th>\n",
       "      <th>coefficient_of_variation</th>\n",
       "      <th>mean_distribution_price</th>\n",
       "      <th>distribution_std</th>\n",
       "      <th>distribution_min_price</th>\n",
       "      <th>distribution_max_price</th>\n",
       "      <th>distribution_coefficient_of_variation</th>\n",
       "      <th>month</th>\n",
       "      <th>year</th>\n",
       "    </tr>\n",
       "  </thead>\n",
       "  <tbody>\n",
       "    <tr>\n",
       "      <th>36196</th>\n",
       "      <td>2004-05-09</td>\n",
       "      <td>2004-05-15</td>\n",
       "      <td>CENTRO OESTE</td>\n",
       "      <td>MATO GROSSO DO SUL</td>\n",
       "      <td>GNV</td>\n",
       "      <td>NaN</td>\n",
       "      <td>R$/m3</td>\n",
       "      <td>NaN</td>\n",
       "      <td>NaN</td>\n",
       "      <td>NaN</td>\n",
       "      <td>NaN</td>\n",
       "      <td>NaN</td>\n",
       "      <td>NaN</td>\n",
       "      <td>NaN</td>\n",
       "      <td>NaN</td>\n",
       "      <td>NaN</td>\n",
       "      <td>NaN</td>\n",
       "      <td>NaN</td>\n",
       "      <td>NaN</td>\n",
       "      <td>NaN</td>\n",
       "    </tr>\n",
       "    <tr>\n",
       "      <th>36197</th>\n",
       "      <td>2004-05-09</td>\n",
       "      <td>2004-05-15</td>\n",
       "      <td>NORDESTE</td>\n",
       "      <td>ALAGOAS</td>\n",
       "      <td>GNV</td>\n",
       "      <td>NaN</td>\n",
       "      <td>R$/m3</td>\n",
       "      <td>NaN</td>\n",
       "      <td>NaN</td>\n",
       "      <td>NaN</td>\n",
       "      <td>NaN</td>\n",
       "      <td>NaN</td>\n",
       "      <td>NaN</td>\n",
       "      <td>NaN</td>\n",
       "      <td>NaN</td>\n",
       "      <td>NaN</td>\n",
       "      <td>NaN</td>\n",
       "      <td>NaN</td>\n",
       "      <td>NaN</td>\n",
       "      <td>NaN</td>\n",
       "    </tr>\n",
       "    <tr>\n",
       "      <th>36198</th>\n",
       "      <td>2004-05-09</td>\n",
       "      <td>2004-05-15</td>\n",
       "      <td>NORDESTE</td>\n",
       "      <td>BAHIA</td>\n",
       "      <td>GNV</td>\n",
       "      <td>NaN</td>\n",
       "      <td>R$/m3</td>\n",
       "      <td>NaN</td>\n",
       "      <td>NaN</td>\n",
       "      <td>NaN</td>\n",
       "      <td>NaN</td>\n",
       "      <td>NaN</td>\n",
       "      <td>NaN</td>\n",
       "      <td>NaN</td>\n",
       "      <td>NaN</td>\n",
       "      <td>NaN</td>\n",
       "      <td>NaN</td>\n",
       "      <td>NaN</td>\n",
       "      <td>NaN</td>\n",
       "      <td>NaN</td>\n",
       "    </tr>\n",
       "    <tr>\n",
       "      <th>36199</th>\n",
       "      <td>2004-05-09</td>\n",
       "      <td>2004-05-15</td>\n",
       "      <td>NORDESTE</td>\n",
       "      <td>CEARA</td>\n",
       "      <td>GNV</td>\n",
       "      <td>NaN</td>\n",
       "      <td>R$/m3</td>\n",
       "      <td>NaN</td>\n",
       "      <td>NaN</td>\n",
       "      <td>NaN</td>\n",
       "      <td>NaN</td>\n",
       "      <td>NaN</td>\n",
       "      <td>NaN</td>\n",
       "      <td>NaN</td>\n",
       "      <td>NaN</td>\n",
       "      <td>NaN</td>\n",
       "      <td>NaN</td>\n",
       "      <td>NaN</td>\n",
       "      <td>NaN</td>\n",
       "      <td>NaN</td>\n",
       "    </tr>\n",
       "    <tr>\n",
       "      <th>36200</th>\n",
       "      <td>2004-05-09</td>\n",
       "      <td>2004-05-15</td>\n",
       "      <td>NORDESTE</td>\n",
       "      <td>PARAIBA</td>\n",
       "      <td>GNV</td>\n",
       "      <td>NaN</td>\n",
       "      <td>R$/m3</td>\n",
       "      <td>NaN</td>\n",
       "      <td>NaN</td>\n",
       "      <td>NaN</td>\n",
       "      <td>NaN</td>\n",
       "      <td>NaN</td>\n",
       "      <td>NaN</td>\n",
       "      <td>NaN</td>\n",
       "      <td>NaN</td>\n",
       "      <td>NaN</td>\n",
       "      <td>NaN</td>\n",
       "      <td>NaN</td>\n",
       "      <td>NaN</td>\n",
       "      <td>NaN</td>\n",
       "    </tr>\n",
       "  </tbody>\n",
       "</table>\n",
       "</div>"
      ],
      "text/plain": [
       "      analysis_first_day analysis_last_day  macro_region               state  \\\n",
       "36196         2004-05-09        2004-05-15  CENTRO OESTE  MATO GROSSO DO SUL   \n",
       "36197         2004-05-09        2004-05-15      NORDESTE             ALAGOAS   \n",
       "36198         2004-05-09        2004-05-15      NORDESTE               BAHIA   \n",
       "36199         2004-05-09        2004-05-15      NORDESTE               CEARA   \n",
       "36200         2004-05-09        2004-05-15      NORDESTE             PARAIBA   \n",
       "\n",
       "      product_kind  no_gas_stations_analyzed measurement_unit  avg_price  std  \\\n",
       "36196          GNV                       NaN            R$/m3        NaN  NaN   \n",
       "36197          GNV                       NaN            R$/m3        NaN  NaN   \n",
       "36198          GNV                       NaN            R$/m3        NaN  NaN   \n",
       "36199          GNV                       NaN            R$/m3        NaN  NaN   \n",
       "36200          GNV                       NaN            R$/m3        NaN  NaN   \n",
       "\n",
       "       min_price_observed  max_price_observed  mean_price_margin  \\\n",
       "36196                 NaN                 NaN                NaN   \n",
       "36197                 NaN                 NaN                NaN   \n",
       "36198                 NaN                 NaN                NaN   \n",
       "36199                 NaN                 NaN                NaN   \n",
       "36200                 NaN                 NaN                NaN   \n",
       "\n",
       "       coefficient_of_variation  mean_distribution_price  distribution_std  \\\n",
       "36196                       NaN                      NaN               NaN   \n",
       "36197                       NaN                      NaN               NaN   \n",
       "36198                       NaN                      NaN               NaN   \n",
       "36199                       NaN                      NaN               NaN   \n",
       "36200                       NaN                      NaN               NaN   \n",
       "\n",
       "       distribution_min_price  distribution_max_price  \\\n",
       "36196                     NaN                     NaN   \n",
       "36197                     NaN                     NaN   \n",
       "36198                     NaN                     NaN   \n",
       "36199                     NaN                     NaN   \n",
       "36200                     NaN                     NaN   \n",
       "\n",
       "       distribution_coefficient_of_variation  month  year  \n",
       "36196                                    NaN    NaN   NaN  \n",
       "36197                                    NaN    NaN   NaN  \n",
       "36198                                    NaN    NaN   NaN  \n",
       "36199                                    NaN    NaN   NaN  \n",
       "36200                                    NaN    NaN   NaN  "
      ]
     },
     "execution_count": 43,
     "metadata": {},
     "output_type": "execute_result"
    }
   ],
   "source": [
    "df.head()"
   ]
  },
  {
   "cell_type": "markdown",
   "metadata": {},
   "source": [
    "## Question 1: How different regions of Brazil saw their gas prices change?"
   ]
  },
  {
   "cell_type": "markdown",
   "metadata": {},
   "source": [
    "Let's check the price change in region W.R.T year."
   ]
  },
  {
   "cell_type": "code",
   "execution_count": 44,
   "metadata": {
    "ExecuteTime": {
     "end_time": "2019-08-03T21:15:29.897240Z",
     "start_time": "2019-08-03T21:15:22.368809Z"
    }
   },
   "outputs": [
    {
     "data": {
      "text/plain": [
       "(array([-0.06, -0.04, -0.02,  0.  ,  0.02,  0.04,  0.06]),\n",
       " <a list of 7 Text yticklabel objects>)"
      ]
     },
     "execution_count": 44,
     "metadata": {},
     "output_type": "execute_result"
    },
    {
     "data": {
      "image/png": "[encoded data removed]",
      "text/plain": [
       "<Figure size 1440x720 with 1 Axes>"
      ]
     },
     "metadata": {
      "needs_background": "light"
     },
     "output_type": "display_data"
    }
   ],
   "source": [
    "plt.figure(figsize=(20, 10))\n",
    "sns.lineplot(x='year', y='avg_price', data=df, hue='macro_region')\n",
    "plt.ylabel('Average Price', fontsize=18)\n",
    "plt.xlabel('Years', fontsize=18)\n",
    "plt.title('Region-wise gas price change', fontsize=20)\n",
    "plt.xticks(fontsize=15)\n",
    "plt.yticks(fontsize=15)"
   ]
  },
  {
   "cell_type": "markdown",
   "metadata": {},
   "source": [
    "From the above graph, we incur that from 2004 to 2005, the trend appears to be flat and a little increasing for SUL Region. From 2005 to 2012, there is an increasing trend in gas prices, except for the NORDESTE region, which shows decline. From 2012 to 2013, prices started to decline. After 2013 and onwards, we can see that prices have increased greatly."
   ]
  },
  {
   "cell_type": "markdown",
   "metadata": {},
   "source": [
    "## Question 2: Within a region, which states increased more their prices?"
   ]
  },
  {
   "cell_type": "code",
   "execution_count": 45,
   "metadata": {
    "ExecuteTime": {
     "end_time": "2019-08-03T21:15:29.979901Z",
     "start_time": "2019-08-03T21:15:29.901215Z"
    },
    "run_control": {
     "marked": false
    },
    "scrolled": true
   },
   "outputs": [
    {
     "data": {
      "text/html": [
       "<div>\n",
       "<style scoped>\n",
       "    .dataframe tbody tr th:only-of-type {\n",
       "        vertical-align: middle;\n",
       "    }\n",
       "\n",
       "    .dataframe tbody tr th {\n",
       "        vertical-align: top;\n",
       "    }\n",
       "\n",
       "    .dataframe thead th {\n",
       "        text-align: right;\n",
       "    }\n",
       "</style>\n",
       "<table border=\"1\" class=\"dataframe\">\n",
       "  <thead>\n",
       "    <tr style=\"text-align: right;\">\n",
       "      <th></th>\n",
       "      <th></th>\n",
       "      <th>avg_price</th>\n",
       "    </tr>\n",
       "    <tr>\n",
       "      <th>macro_region</th>\n",
       "      <th>state</th>\n",
       "      <th></th>\n",
       "    </tr>\n",
       "  </thead>\n",
       "  <tbody>\n",
       "    <tr>\n",
       "      <th rowspan=\"4\" valign=\"top\">CENTRO OESTE</th>\n",
       "      <th>DISTRITO FEDERAL</th>\n",
       "      <td>NaN</td>\n",
       "    </tr>\n",
       "    <tr>\n",
       "      <th>GOIAS</th>\n",
       "      <td>NaN</td>\n",
       "    </tr>\n",
       "    <tr>\n",
       "      <th>MATO GROSSO</th>\n",
       "      <td>NaN</td>\n",
       "    </tr>\n",
       "    <tr>\n",
       "      <th>MATO GROSSO DO SUL</th>\n",
       "      <td>NaN</td>\n",
       "    </tr>\n",
       "    <tr>\n",
       "      <th rowspan=\"9\" valign=\"top\">NORDESTE</th>\n",
       "      <th>ALAGOAS</th>\n",
       "      <td>NaN</td>\n",
       "    </tr>\n",
       "    <tr>\n",
       "      <th>BAHIA</th>\n",
       "      <td>NaN</td>\n",
       "    </tr>\n",
       "    <tr>\n",
       "      <th>CEARA</th>\n",
       "      <td>NaN</td>\n",
       "    </tr>\n",
       "    <tr>\n",
       "      <th>MARANHAO</th>\n",
       "      <td>NaN</td>\n",
       "    </tr>\n",
       "    <tr>\n",
       "      <th>PARAIBA</th>\n",
       "      <td>NaN</td>\n",
       "    </tr>\n",
       "    <tr>\n",
       "      <th>PERNAMBUCO</th>\n",
       "      <td>NaN</td>\n",
       "    </tr>\n",
       "    <tr>\n",
       "      <th>PIAUI</th>\n",
       "      <td>NaN</td>\n",
       "    </tr>\n",
       "    <tr>\n",
       "      <th>RIO GRANDE DO NORTE</th>\n",
       "      <td>NaN</td>\n",
       "    </tr>\n",
       "    <tr>\n",
       "      <th>SERGIPE</th>\n",
       "      <td>NaN</td>\n",
       "    </tr>\n",
       "    <tr>\n",
       "      <th rowspan=\"4\" valign=\"top\">NORTE</th>\n",
       "      <th>AMAPA</th>\n",
       "      <td>NaN</td>\n",
       "    </tr>\n",
       "    <tr>\n",
       "      <th>AMAZONAS</th>\n",
       "      <td>NaN</td>\n",
       "    </tr>\n",
       "    <tr>\n",
       "      <th>PARA</th>\n",
       "      <td>NaN</td>\n",
       "    </tr>\n",
       "    <tr>\n",
       "      <th>TOCANTINS</th>\n",
       "      <td>NaN</td>\n",
       "    </tr>\n",
       "    <tr>\n",
       "      <th rowspan=\"4\" valign=\"top\">SUDESTE</th>\n",
       "      <th>ESPIRITO SANTO</th>\n",
       "      <td>NaN</td>\n",
       "    </tr>\n",
       "    <tr>\n",
       "      <th>MINAS GERAIS</th>\n",
       "      <td>NaN</td>\n",
       "    </tr>\n",
       "    <tr>\n",
       "      <th>RIO DE JANEIRO</th>\n",
       "      <td>NaN</td>\n",
       "    </tr>\n",
       "    <tr>\n",
       "      <th>SAO PAULO</th>\n",
       "      <td>NaN</td>\n",
       "    </tr>\n",
       "    <tr>\n",
       "      <th rowspan=\"3\" valign=\"top\">SUL</th>\n",
       "      <th>PARANA</th>\n",
       "      <td>NaN</td>\n",
       "    </tr>\n",
       "    <tr>\n",
       "      <th>RIO GRANDE DO SUL</th>\n",
       "      <td>NaN</td>\n",
       "    </tr>\n",
       "    <tr>\n",
       "      <th>SANTA CATARINA</th>\n",
       "      <td>NaN</td>\n",
       "    </tr>\n",
       "  </tbody>\n",
       "</table>\n",
       "</div>"
      ],
      "text/plain": [
       "                                  avg_price\n",
       "macro_region state                         \n",
       "CENTRO OESTE DISTRITO FEDERAL           NaN\n",
       "             GOIAS                      NaN\n",
       "             MATO GROSSO                NaN\n",
       "             MATO GROSSO DO SUL         NaN\n",
       "NORDESTE     ALAGOAS                    NaN\n",
       "             BAHIA                      NaN\n",
       "             CEARA                      NaN\n",
       "             MARANHAO                   NaN\n",
       "             PARAIBA                    NaN\n",
       "             PERNAMBUCO                 NaN\n",
       "             PIAUI                      NaN\n",
       "             RIO GRANDE DO NORTE        NaN\n",
       "             SERGIPE                    NaN\n",
       "NORTE        AMAPA                      NaN\n",
       "             AMAZONAS                   NaN\n",
       "             PARA                       NaN\n",
       "             TOCANTINS                  NaN\n",
       "SUDESTE      ESPIRITO SANTO             NaN\n",
       "             MINAS GERAIS               NaN\n",
       "             RIO DE JANEIRO             NaN\n",
       "             SAO PAULO                  NaN\n",
       "SUL          PARANA                     NaN\n",
       "             RIO GRANDE DO SUL          NaN\n",
       "             SANTA CATARINA             NaN"
      ]
     },
     "execution_count": 45,
     "metadata": {},
     "output_type": "execute_result"
    }
   ],
   "source": [
    "df_region_state = df.groupby(['macro_region', 'state'])['avg_price'].median().to_frame()\n",
    "df_region_state"
   ]
  },
  {
   "cell_type": "code",
   "execution_count": 46,
   "metadata": {
    "ExecuteTime": {
     "end_time": "2019-08-03T21:15:30.015745Z",
     "start_time": "2019-08-03T21:15:29.984807Z"
    },
    "run_control": {
     "marked": false
    }
   },
   "outputs": [
    {
     "ename": "IndexError",
     "evalue": "single positional indexer is out-of-bounds",
     "output_type": "error",
     "traceback": [
      "\u001b[1;31m---------------------------------------------------------------------------\u001b[0m",
      "\u001b[1;31mIndexError\u001b[0m                                Traceback (most recent call last)",
      "\u001b[1;32m<ipython-input-46-9e963f9c899f>\u001b[0m in \u001b[0;36m<module>\u001b[1;34m()\u001b[0m\n\u001b[0;32m      4\u001b[0m     \u001b[0mdf_temp\u001b[0m \u001b[1;33m=\u001b[0m \u001b[0mdf_region_state\u001b[0m\u001b[1;33m[\u001b[0m\u001b[0mdf_region_state\u001b[0m\u001b[1;33m.\u001b[0m\u001b[0mmacro_region\u001b[0m \u001b[1;33m==\u001b[0m \u001b[0mregion\u001b[0m\u001b[1;33m]\u001b[0m\u001b[1;33m[\u001b[0m\u001b[1;33m[\u001b[0m\u001b[1;34m'state'\u001b[0m\u001b[1;33m,\u001b[0m \u001b[1;34m'avg_price'\u001b[0m\u001b[1;33m]\u001b[0m\u001b[1;33m]\u001b[0m\u001b[1;33m\u001b[0m\u001b[0m\n\u001b[0;32m      5\u001b[0m     \u001b[0mregion_name\u001b[0m \u001b[1;33m=\u001b[0m \u001b[0mregion\u001b[0m\u001b[1;33m\u001b[0m\u001b[0m\n\u001b[1;32m----> 6\u001b[1;33m     \u001b[0mstate_name\u001b[0m \u001b[1;33m=\u001b[0m \u001b[0mdf_temp\u001b[0m\u001b[1;33m[\u001b[0m\u001b[0mdf_temp\u001b[0m\u001b[1;33m.\u001b[0m\u001b[0mavg_price\u001b[0m \u001b[1;33m==\u001b[0m \u001b[0mdf_temp\u001b[0m\u001b[1;33m.\u001b[0m\u001b[0mavg_price\u001b[0m\u001b[1;33m.\u001b[0m\u001b[0mmax\u001b[0m\u001b[1;33m(\u001b[0m\u001b[1;33m)\u001b[0m\u001b[1;33m]\u001b[0m\u001b[1;33m[\u001b[0m\u001b[1;34m'state'\u001b[0m\u001b[1;33m]\u001b[0m\u001b[1;33m.\u001b[0m\u001b[0miloc\u001b[0m\u001b[1;33m[\u001b[0m\u001b[1;36m0\u001b[0m\u001b[1;33m]\u001b[0m\u001b[1;33m\u001b[0m\u001b[0m\n\u001b[0m\u001b[0;32m      7\u001b[0m     \u001b[0mprice\u001b[0m \u001b[1;33m=\u001b[0m \u001b[0mdf_temp\u001b[0m\u001b[1;33m.\u001b[0m\u001b[0mavg_price\u001b[0m\u001b[1;33m.\u001b[0m\u001b[0mmax\u001b[0m\u001b[1;33m(\u001b[0m\u001b[1;33m)\u001b[0m\u001b[1;33m\u001b[0m\u001b[0m\n\u001b[0;32m      8\u001b[0m     \u001b[0mprint\u001b[0m\u001b[1;33m(\u001b[0m\u001b[1;34m'For region,'\u001b[0m\u001b[1;33m,\u001b[0m \u001b[0mregion\u001b[0m\u001b[1;33m,\u001b[0m \u001b[1;34m'the state,'\u001b[0m\u001b[1;33m,\u001b[0m \u001b[0mstate_name\u001b[0m\u001b[1;33m,\u001b[0m \u001b[1;34m'has increased most in their prices. Average price:'\u001b[0m\u001b[1;33m,\u001b[0m \u001b[0mprice\u001b[0m\u001b[1;33m)\u001b[0m\u001b[1;33m\u001b[0m\u001b[0m\n",
      "\u001b[1;32m~\\Anaconda3\\lib\\site-packages\\pandas\\core\\indexing.py\u001b[0m in \u001b[0;36m__getitem__\u001b[1;34m(self, key)\u001b[0m\n\u001b[0;32m   1476\u001b[0m \u001b[1;33m\u001b[0m\u001b[0m\n\u001b[0;32m   1477\u001b[0m             \u001b[0mmaybe_callable\u001b[0m \u001b[1;33m=\u001b[0m \u001b[0mcom\u001b[0m\u001b[1;33m.\u001b[0m\u001b[0m_apply_if_callable\u001b[0m\u001b[1;33m(\u001b[0m\u001b[0mkey\u001b[0m\u001b[1;33m,\u001b[0m \u001b[0mself\u001b[0m\u001b[1;33m.\u001b[0m\u001b[0mobj\u001b[0m\u001b[1;33m)\u001b[0m\u001b[1;33m\u001b[0m\u001b[0m\n\u001b[1;32m-> 1478\u001b[1;33m             \u001b[1;32mreturn\u001b[0m \u001b[0mself\u001b[0m\u001b[1;33m.\u001b[0m\u001b[0m_getitem_axis\u001b[0m\u001b[1;33m(\u001b[0m\u001b[0mmaybe_callable\u001b[0m\u001b[1;33m,\u001b[0m \u001b[0maxis\u001b[0m\u001b[1;33m=\u001b[0m\u001b[0maxis\u001b[0m\u001b[1;33m)\u001b[0m\u001b[1;33m\u001b[0m\u001b[0m\n\u001b[0m\u001b[0;32m   1479\u001b[0m \u001b[1;33m\u001b[0m\u001b[0m\n\u001b[0;32m   1480\u001b[0m     \u001b[1;32mdef\u001b[0m \u001b[0m_is_scalar_access\u001b[0m\u001b[1;33m(\u001b[0m\u001b[0mself\u001b[0m\u001b[1;33m,\u001b[0m \u001b[0mkey\u001b[0m\u001b[1;33m)\u001b[0m\u001b[1;33m:\u001b[0m\u001b[1;33m\u001b[0m\u001b[0m\n",
      "\u001b[1;32m~\\Anaconda3\\lib\\site-packages\\pandas\\core\\indexing.py\u001b[0m in \u001b[0;36m_getitem_axis\u001b[1;34m(self, key, axis)\u001b[0m\n\u001b[0;32m   2100\u001b[0m \u001b[1;33m\u001b[0m\u001b[0m\n\u001b[0;32m   2101\u001b[0m             \u001b[1;31m# validate the location\u001b[0m\u001b[1;33m\u001b[0m\u001b[1;33m\u001b[0m\u001b[0m\n\u001b[1;32m-> 2102\u001b[1;33m             \u001b[0mself\u001b[0m\u001b[1;33m.\u001b[0m\u001b[0m_validate_integer\u001b[0m\u001b[1;33m(\u001b[0m\u001b[0mkey\u001b[0m\u001b[1;33m,\u001b[0m \u001b[0maxis\u001b[0m\u001b[1;33m)\u001b[0m\u001b[1;33m\u001b[0m\u001b[0m\n\u001b[0m\u001b[0;32m   2103\u001b[0m \u001b[1;33m\u001b[0m\u001b[0m\n\u001b[0;32m   2104\u001b[0m             \u001b[1;32mreturn\u001b[0m \u001b[0mself\u001b[0m\u001b[1;33m.\u001b[0m\u001b[0m_get_loc\u001b[0m\u001b[1;33m(\u001b[0m\u001b[0mkey\u001b[0m\u001b[1;33m,\u001b[0m \u001b[0maxis\u001b[0m\u001b[1;33m=\u001b[0m\u001b[0maxis\u001b[0m\u001b[1;33m)\u001b[0m\u001b[1;33m\u001b[0m\u001b[0m\n",
      "\u001b[1;32m~\\Anaconda3\\lib\\site-packages\\pandas\\core\\indexing.py\u001b[0m in \u001b[0;36m_validate_integer\u001b[1;34m(self, key, axis)\u001b[0m\n\u001b[0;32m   2007\u001b[0m         \u001b[0ml\u001b[0m \u001b[1;33m=\u001b[0m \u001b[0mlen\u001b[0m\u001b[1;33m(\u001b[0m\u001b[0max\u001b[0m\u001b[1;33m)\u001b[0m\u001b[1;33m\u001b[0m\u001b[0m\n\u001b[0;32m   2008\u001b[0m         \u001b[1;32mif\u001b[0m \u001b[0mkey\u001b[0m \u001b[1;33m>=\u001b[0m \u001b[0ml\u001b[0m \u001b[1;32mor\u001b[0m \u001b[0mkey\u001b[0m \u001b[1;33m<\u001b[0m \u001b[1;33m-\u001b[0m\u001b[0ml\u001b[0m\u001b[1;33m:\u001b[0m\u001b[1;33m\u001b[0m\u001b[0m\n\u001b[1;32m-> 2009\u001b[1;33m             \u001b[1;32mraise\u001b[0m \u001b[0mIndexError\u001b[0m\u001b[1;33m(\u001b[0m\u001b[1;34m\"single positional indexer is out-of-bounds\"\u001b[0m\u001b[1;33m)\u001b[0m\u001b[1;33m\u001b[0m\u001b[0m\n\u001b[0m\u001b[0;32m   2010\u001b[0m \u001b[1;33m\u001b[0m\u001b[0m\n\u001b[0;32m   2011\u001b[0m     \u001b[1;32mdef\u001b[0m \u001b[0m_getitem_tuple\u001b[0m\u001b[1;33m(\u001b[0m\u001b[0mself\u001b[0m\u001b[1;33m,\u001b[0m \u001b[0mtup\u001b[0m\u001b[1;33m)\u001b[0m\u001b[1;33m:\u001b[0m\u001b[1;33m\u001b[0m\u001b[0m\n",
      "\u001b[1;31mIndexError\u001b[0m: single positional indexer is out-of-bounds"
     ]
    }
   ],
   "source": [
    "df_region_state = df_region_state.reset_index()\n",
    "\n",
    "for region in list(df_region_state.macro_region.unique()):\n",
    "    df_temp = df_region_state[df_region_state.macro_region == region][['state', 'avg_price']]\n",
    "    region_name = region\n",
    "    state_name = df_temp[df_temp.avg_price == df_temp.avg_price.max()]['state'].iloc[0]\n",
    "    price = df_temp.avg_price.max()\n",
    "    print('For region,', region, 'the state,', state_name, 'has increased most in their prices. Average price:', price)\n",
    "    print()  # Adding a line-space"
   ]
  },
  {
   "cell_type": "markdown",
   "metadata": {},
   "source": [
    "## Question 3: Which states are the cheapest (or most expensive) for different types of fuels?"
   ]
  },
  {
   "cell_type": "markdown",
   "metadata": {},
   "source": [
    "Let's first check the different kinds of fuel we have."
   ]
  },
  {
   "cell_type": "code",
   "execution_count": 47,
   "metadata": {
    "ExecuteTime": {
     "end_time": "2019-08-03T21:15:30.033053Z",
     "start_time": "2019-08-03T21:15:30.019086Z"
    }
   },
   "outputs": [
    {
     "data": {
      "text/plain": [
       "['GNV']"
      ]
     },
     "execution_count": 47,
     "metadata": {},
     "output_type": "execute_result"
    }
   ],
   "source": [
    "list(df.product_kind.unique())"
   ]
  },
  {
   "cell_type": "markdown",
   "metadata": {},
   "source": [
    "Now, let's check how different states are cheapest or most expensive w.r.t the type of fuel."
   ]
  },
  {
   "cell_type": "code",
   "execution_count": 48,
   "metadata": {
    "ExecuteTime": {
     "end_time": "2019-08-03T21:18:33.118628Z",
     "start_time": "2019-08-03T21:18:19.828434Z"
    }
   },
   "outputs": [
    {
     "data": {
      "text/plain": [
       "<seaborn.axisgrid.FacetGrid at 0x206b5ed45c0>"
      ]
     },
     "execution_count": 48,
     "metadata": {},
     "output_type": "execute_result"
    },
    {
     "data": {
      "image/png": "[encoded data removed]",
      "text/plain": [
       "<Figure size 720x360 with 1 Axes>"
      ]
     },
     "metadata": {
      "needs_background": "light"
     },
     "output_type": "display_data"
    }
   ],
   "source": [
    "sns.catplot(kind='bar', x='avg_price', y='state', col='product_kind', col_wrap=2, data=df)"
   ]
  },
  {
   "cell_type": "code",
   "execution_count": null,
   "metadata": {},
   "outputs": [],
   "source": []
  }
 ],
 "metadata": {
  "hide_input": false,
  "kernelspec": {
   "display_name": "Python 3",
   "language": "python",
   "name": "python3"
  },
  "language_info": {
   "codemirror_mode": {
    "name": "ipython",
    "version": 3
   },
   "file_extension": ".py",
   "mimetype": "text/x-python",
   "name": "python",
   "nbconvert_exporter": "python",
   "pygments_lexer": "ipython3",
   "version": "3.7.0"
  },
  "toc": {
   "base_numbering": 1,
   "nav_menu": {},
   "number_sections": false,
   "sideBar": true,
   "skip_h1_title": false,
   "title_cell": "Table of Contents",
   "title_sidebar": "Contents",
   "toc_cell": false,
   "toc_position": {
    "height": "calc(100% - 180px)",
    "left": "10px",
    "top": "150px",
    "width": "314.352px"
   },
   "toc_section_display": true,
   "toc_window_display": false
  },
  "varInspector": {
   "cols": {
    "lenName": 16,
    "lenType": 16,
    "lenVar": 40
   },
   "kernels_config": {
    "python": {
     "delete_cmd_postfix": "",
     "delete_cmd_prefix": "del ",
     "library": "var_list.py",
     "varRefreshCmd": "print(var_dic_list())"
    },
    "r": {
     "delete_cmd_postfix": ") ",
     "delete_cmd_prefix": "rm(",
     "library": "var_list.r",
     "varRefreshCmd": "cat(var_dic_list()) "
    }
   },
   "types_to_exclude": [
    "module",
    "function",
    "builtin_function_or_method",
    "instance",
    "_Feature"
   ],
   "window_display": false
  }
 },
 "nbformat": 4,
 "nbformat_minor": 2
}
